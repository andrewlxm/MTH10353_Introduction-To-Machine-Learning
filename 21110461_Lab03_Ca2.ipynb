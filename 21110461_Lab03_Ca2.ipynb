{
  "cells": [
    {
      "cell_type": "markdown",
      "source": [
        "1. Analyze and Preprocess data - Check if the dataset has missing values or has any other problem.\n",
        "2. Feature Engineering\n",
        "3. Divide the dataset into 2 training and test sets\n",
        "4. Use Pipeline\n",
        "    4. a. Use scaler and dimensional reduction (if it is necessary).\n",
        "    4. b. Use suitable Naive Bayes for this problem. \n",
        "5. Perform model on training set and test set using gridsearch CV\n",
        "6. Measure performance of the model.\n",
        "7. Which metric is your main metric for this problem and why? What are your scaler, dimensional reduction and naive bayes model as well as their params? (<= 200 words, also input your opinion or conclusion here)\n",
        "\n",
        "\n",
        "How can I measure your point:\n",
        "1. Your function is callable and runs correctly\n",
        "2. The performance of your model (in full pipeline) is acceptable. The final error based on my train and test set is low enough.\n",
        "3. The data preprocessing is correct or make sense\n",
        "4. The Feature engineering is correct or make sense\n",
        "5. Any other additional process will be considered a small plus point."
      ],
      "metadata": {
        "collapsed": false,
        "id": "_GIq8Io_8Koq"
      }
    },
    {
      "cell_type": "markdown",
      "source": [
        "A Travel Company Is Offering Travel Insurance Packages To Their Customers. The new insurance plan also covers Covid-19. The Company Claims To Know Which Customers Are Interested To Buy It Based On The Company's Database History.\n",
        "\n",
        "* Age - Age Of The Customer\n",
        "* Employment Type - The Sector In Which Customer Is Employed\n",
        "GraduateOrNot - Whether The Customer Is College Graduate Or Not\n",
        "* AnnualIncome - The Yearly Income Of The Customer In Indian Rupees\n",
        "* FamilyMembers - Number Of Members In Customer's Family\n",
        "* ChronicDisease - Whether The Customer Suffers From Any Major Disease Or Conditions Like Diabetes/High BP or Asthama,etc.\n",
        "* FrequentFlyer - Derived Data Based On Customer's History Of Booking Air Tickets On Atleast 4 Different Instances In The Last 2 Years (2017-2019).\n",
        "* EverTravelledAbroad - Has The Customer Ever Travelled To A Foreign Country\n",
        "* TravelInsurance - Did The Customer Buy Travel Insurance Package During Introductory Offering Held In The Year 2019."
      ],
      "metadata": {
        "collapsed": false,
        "id": "SjhjJmx68Kou"
      }
    },
    {
      "cell_type": "markdown",
      "source": [
        "## Load Dataset"
      ],
      "metadata": {
        "collapsed": false,
        "id": "iDJN7fbU8Kov"
      }
    },
    {
      "cell_type": "code",
      "source": [
        "!pip install mixed-naive-bayes"
      ],
      "metadata": {
        "colab": {
          "base_uri": "https://localhost:8080/"
        },
        "id": "rwCURqwJpnqH",
        "outputId": "c419c663-c675-4bec-a52d-a831fcc326a4"
      },
      "execution_count": null,
      "outputs": [
        {
          "output_type": "stream",
          "name": "stdout",
          "text": [
            "Looking in indexes: https://pypi.org/simple, https://us-python.pkg.dev/colab-wheels/public/simple/\n",
            "Collecting mixed-naive-bayes\n",
            "  Downloading mixed_naive_bayes-0.0.3-py3-none-any.whl (11 kB)\n",
            "Requirement already satisfied: numpy>=1.22.0 in /usr/local/lib/python3.9/dist-packages (from mixed-naive-bayes) (1.22.4)\n",
            "Requirement already satisfied: scikit-learn>=0.20.2 in /usr/local/lib/python3.9/dist-packages (from mixed-naive-bayes) (1.2.2)\n",
            "Requirement already satisfied: threadpoolctl>=2.0.0 in /usr/local/lib/python3.9/dist-packages (from scikit-learn>=0.20.2->mixed-naive-bayes) (3.1.0)\n",
            "Requirement already satisfied: joblib>=1.1.1 in /usr/local/lib/python3.9/dist-packages (from scikit-learn>=0.20.2->mixed-naive-bayes) (1.2.0)\n",
            "Requirement already satisfied: scipy>=1.3.2 in /usr/local/lib/python3.9/dist-packages (from scikit-learn>=0.20.2->mixed-naive-bayes) (1.10.1)\n",
            "Installing collected packages: mixed-naive-bayes\n",
            "Successfully installed mixed-naive-bayes-0.0.3\n"
          ]
        }
      ]
    },
    {
      "cell_type": "code",
      "source": [
        "import pandas as pd\n",
        "import numpy as np\n",
        "import matplotlib.pyplot as plt\n",
        "import seaborn as sns\n",
        "from google.colab import drive\n",
        "from sklearn.metrics import classification_report\n",
        "from sklearn.pipeline import make_pipeline, Pipeline\n",
        "from sklearn.preprocessing import MinMaxScaler, StandardScaler, FunctionTransformer\n",
        "from sklearn.impute import SimpleImputer\n",
        "from sklearn.compose import ColumnTransformer\n",
        "from sklearn.naive_bayes import GaussianNB\n",
        "from sklearn.metrics import precision_score, recall_score, f1_score, accuracy_score\n",
        "from mixed_naive_bayes import MixedNB\n",
        "from sklearn.decomposition import PCA\n",
        "from sklearn.model_selection import train_test_split, GridSearchCV, StratifiedKFold\n",
        "from sklearn.base import BaseEstimator, ClassifierMixin\n",
        "\n",
        "drive.mount(\"/content/drive\")"
      ],
      "metadata": {
        "id": "YfmW1_KdudmQ",
        "colab": {
          "base_uri": "https://localhost:8080/"
        },
        "outputId": "d3663f6f-ecbc-4b9e-ebed-ec01ff66b867"
      },
      "execution_count": null,
      "outputs": [
        {
          "output_type": "stream",
          "name": "stdout",
          "text": [
            "Drive already mounted at /content/drive; to attempt to forcibly remount, call drive.mount(\"/content/drive\", force_remount=True).\n"
          ]
        }
      ]
    },
    {
      "cell_type": "code",
      "source": [
        "def read_dataset(path):\n",
        "    df = pd.read_csv(path)\n",
        "    display(df.head())\n",
        "    display(df.describe())\n",
        "    return df"
      ],
      "metadata": {
        "id": "vtIQpQOTbrY3"
      },
      "execution_count": null,
      "outputs": []
    },
    {
      "cell_type": "code",
      "execution_count": null,
      "outputs": [
        {
          "output_type": "display_data",
          "data": {
            "text/plain": [
              "   Unnamed: 0  Age               Employment Type GraduateOrNot  AnnualIncome  \\\n",
              "0           0   31             Government Sector           Yes        400000   \n",
              "1           1   31  Private Sector/Self Employed           Yes       1250000   \n",
              "2           2   34  Private Sector/Self Employed           Yes        500000   \n",
              "3           3   28  Private Sector/Self Employed           Yes        700000   \n",
              "4           4   28  Private Sector/Self Employed           Yes        700000   \n",
              "\n",
              "   FamilyMembers  ChronicDiseases FrequentFlyer EverTravelledAbroad  \\\n",
              "0              6                1            No                  No   \n",
              "1              7                0            No                  No   \n",
              "2              4                1            No                  No   \n",
              "3              3                1            No                  No   \n",
              "4              8                1           Yes                  No   \n",
              "\n",
              "   TravelInsurance  \n",
              "0                0  \n",
              "1                0  \n",
              "2                1  \n",
              "3                0  \n",
              "4                0  "
            ],
            "text/html": [
              "\n",
              "  <div id=\"df-a7b27a10-083d-4fb3-baa6-90a689bf59e3\">\n",
              "    <div class=\"colab-df-container\">\n",
              "      <div>\n",
              "<style scoped>\n",
              "    .dataframe tbody tr th:only-of-type {\n",
              "        vertical-align: middle;\n",
              "    }\n",
              "\n",
              "    .dataframe tbody tr th {\n",
              "        vertical-align: top;\n",
              "    }\n",
              "\n",
              "    .dataframe thead th {\n",
              "        text-align: right;\n",
              "    }\n",
              "</style>\n",
              "<table border=\"1\" class=\"dataframe\">\n",
              "  <thead>\n",
              "    <tr style=\"text-align: right;\">\n",
              "      <th></th>\n",
              "      <th>Unnamed: 0</th>\n",
              "      <th>Age</th>\n",
              "      <th>Employment Type</th>\n",
              "      <th>GraduateOrNot</th>\n",
              "      <th>AnnualIncome</th>\n",
              "      <th>FamilyMembers</th>\n",
              "      <th>ChronicDiseases</th>\n",
              "      <th>FrequentFlyer</th>\n",
              "      <th>EverTravelledAbroad</th>\n",
              "      <th>TravelInsurance</th>\n",
              "    </tr>\n",
              "  </thead>\n",
              "  <tbody>\n",
              "    <tr>\n",
              "      <th>0</th>\n",
              "      <td>0</td>\n",
              "      <td>31</td>\n",
              "      <td>Government Sector</td>\n",
              "      <td>Yes</td>\n",
              "      <td>400000</td>\n",
              "      <td>6</td>\n",
              "      <td>1</td>\n",
              "      <td>No</td>\n",
              "      <td>No</td>\n",
              "      <td>0</td>\n",
              "    </tr>\n",
              "    <tr>\n",
              "      <th>1</th>\n",
              "      <td>1</td>\n",
              "      <td>31</td>\n",
              "      <td>Private Sector/Self Employed</td>\n",
              "      <td>Yes</td>\n",
              "      <td>1250000</td>\n",
              "      <td>7</td>\n",
              "      <td>0</td>\n",
              "      <td>No</td>\n",
              "      <td>No</td>\n",
              "      <td>0</td>\n",
              "    </tr>\n",
              "    <tr>\n",
              "      <th>2</th>\n",
              "      <td>2</td>\n",
              "      <td>34</td>\n",
              "      <td>Private Sector/Self Employed</td>\n",
              "      <td>Yes</td>\n",
              "      <td>500000</td>\n",
              "      <td>4</td>\n",
              "      <td>1</td>\n",
              "      <td>No</td>\n",
              "      <td>No</td>\n",
              "      <td>1</td>\n",
              "    </tr>\n",
              "    <tr>\n",
              "      <th>3</th>\n",
              "      <td>3</td>\n",
              "      <td>28</td>\n",
              "      <td>Private Sector/Self Employed</td>\n",
              "      <td>Yes</td>\n",
              "      <td>700000</td>\n",
              "      <td>3</td>\n",
              "      <td>1</td>\n",
              "      <td>No</td>\n",
              "      <td>No</td>\n",
              "      <td>0</td>\n",
              "    </tr>\n",
              "    <tr>\n",
              "      <th>4</th>\n",
              "      <td>4</td>\n",
              "      <td>28</td>\n",
              "      <td>Private Sector/Self Employed</td>\n",
              "      <td>Yes</td>\n",
              "      <td>700000</td>\n",
              "      <td>8</td>\n",
              "      <td>1</td>\n",
              "      <td>Yes</td>\n",
              "      <td>No</td>\n",
              "      <td>0</td>\n",
              "    </tr>\n",
              "  </tbody>\n",
              "</table>\n",
              "</div>\n",
              "      <button class=\"colab-df-convert\" onclick=\"convertToInteractive('df-a7b27a10-083d-4fb3-baa6-90a689bf59e3')\"\n",
              "              title=\"Convert this dataframe to an interactive table.\"\n",
              "              style=\"display:none;\">\n",
              "        \n",
              "  <svg xmlns=\"http://www.w3.org/2000/svg\" height=\"24px\"viewBox=\"0 0 24 24\"\n",
              "       width=\"24px\">\n",
              "    <path d=\"M0 0h24v24H0V0z\" fill=\"none\"/>\n",
              "    <path d=\"M18.56 5.44l.94 2.06.94-2.06 2.06-.94-2.06-.94-.94-2.06-.94 2.06-2.06.94zm-11 1L8.5 8.5l.94-2.06 2.06-.94-2.06-.94L8.5 2.5l-.94 2.06-2.06.94zm10 10l.94 2.06.94-2.06 2.06-.94-2.06-.94-.94-2.06-.94 2.06-2.06.94z\"/><path d=\"M17.41 7.96l-1.37-1.37c-.4-.4-.92-.59-1.43-.59-.52 0-1.04.2-1.43.59L10.3 9.45l-7.72 7.72c-.78.78-.78 2.05 0 2.83L4 21.41c.39.39.9.59 1.41.59.51 0 1.02-.2 1.41-.59l7.78-7.78 2.81-2.81c.8-.78.8-2.07 0-2.86zM5.41 20L4 18.59l7.72-7.72 1.47 1.35L5.41 20z\"/>\n",
              "  </svg>\n",
              "      </button>\n",
              "      \n",
              "  <style>\n",
              "    .colab-df-container {\n",
              "      display:flex;\n",
              "      flex-wrap:wrap;\n",
              "      gap: 12px;\n",
              "    }\n",
              "\n",
              "    .colab-df-convert {\n",
              "      background-color: #E8F0FE;\n",
              "      border: none;\n",
              "      border-radius: 50%;\n",
              "      cursor: pointer;\n",
              "      display: none;\n",
              "      fill: #1967D2;\n",
              "      height: 32px;\n",
              "      padding: 0 0 0 0;\n",
              "      width: 32px;\n",
              "    }\n",
              "\n",
              "    .colab-df-convert:hover {\n",
              "      background-color: #E2EBFA;\n",
              "      box-shadow: 0px 1px 2px rgba(60, 64, 67, 0.3), 0px 1px 3px 1px rgba(60, 64, 67, 0.15);\n",
              "      fill: #174EA6;\n",
              "    }\n",
              "\n",
              "    [theme=dark] .colab-df-convert {\n",
              "      background-color: #3B4455;\n",
              "      fill: #D2E3FC;\n",
              "    }\n",
              "\n",
              "    [theme=dark] .colab-df-convert:hover {\n",
              "      background-color: #434B5C;\n",
              "      box-shadow: 0px 1px 3px 1px rgba(0, 0, 0, 0.15);\n",
              "      filter: drop-shadow(0px 1px 2px rgba(0, 0, 0, 0.3));\n",
              "      fill: #FFFFFF;\n",
              "    }\n",
              "  </style>\n",
              "\n",
              "      <script>\n",
              "        const buttonEl =\n",
              "          document.querySelector('#df-a7b27a10-083d-4fb3-baa6-90a689bf59e3 button.colab-df-convert');\n",
              "        buttonEl.style.display =\n",
              "          google.colab.kernel.accessAllowed ? 'block' : 'none';\n",
              "\n",
              "        async function convertToInteractive(key) {\n",
              "          const element = document.querySelector('#df-a7b27a10-083d-4fb3-baa6-90a689bf59e3');\n",
              "          const dataTable =\n",
              "            await google.colab.kernel.invokeFunction('convertToInteractive',\n",
              "                                                     [key], {});\n",
              "          if (!dataTable) return;\n",
              "\n",
              "          const docLinkHtml = 'Like what you see? Visit the ' +\n",
              "            '<a target=\"_blank\" href=https://colab.research.google.com/notebooks/data_table.ipynb>data table notebook</a>'\n",
              "            + ' to learn more about interactive tables.';\n",
              "          element.innerHTML = '';\n",
              "          dataTable['output_type'] = 'display_data';\n",
              "          await google.colab.output.renderOutput(dataTable, element);\n",
              "          const docLink = document.createElement('div');\n",
              "          docLink.innerHTML = docLinkHtml;\n",
              "          element.appendChild(docLink);\n",
              "        }\n",
              "      </script>\n",
              "    </div>\n",
              "  </div>\n",
              "  "
            ]
          },
          "metadata": {}
        },
        {
          "output_type": "display_data",
          "data": {
            "text/plain": [
              "        Unnamed: 0          Age  AnnualIncome  FamilyMembers  ChronicDiseases  \\\n",
              "count  1987.000000  1987.000000  1.987000e+03    1987.000000      1987.000000   \n",
              "mean    993.000000    29.650226  9.327630e+05       4.752894         0.277806   \n",
              "std     573.741812     2.913308  3.768557e+05       1.609650         0.448030   \n",
              "min       0.000000    25.000000  3.000000e+05       2.000000         0.000000   \n",
              "25%     496.500000    28.000000  6.000000e+05       4.000000         0.000000   \n",
              "50%     993.000000    29.000000  9.000000e+05       5.000000         0.000000   \n",
              "75%    1489.500000    32.000000  1.250000e+06       6.000000         1.000000   \n",
              "max    1986.000000    35.000000  1.800000e+06       9.000000         1.000000   \n",
              "\n",
              "       TravelInsurance  \n",
              "count      1987.000000  \n",
              "mean          0.357323  \n",
              "std           0.479332  \n",
              "min           0.000000  \n",
              "25%           0.000000  \n",
              "50%           0.000000  \n",
              "75%           1.000000  \n",
              "max           1.000000  "
            ],
            "text/html": [
              "\n",
              "  <div id=\"df-0ff2a3ab-3ab0-4cec-a9a5-f87e91952943\">\n",
              "    <div class=\"colab-df-container\">\n",
              "      <div>\n",
              "<style scoped>\n",
              "    .dataframe tbody tr th:only-of-type {\n",
              "        vertical-align: middle;\n",
              "    }\n",
              "\n",
              "    .dataframe tbody tr th {\n",
              "        vertical-align: top;\n",
              "    }\n",
              "\n",
              "    .dataframe thead th {\n",
              "        text-align: right;\n",
              "    }\n",
              "</style>\n",
              "<table border=\"1\" class=\"dataframe\">\n",
              "  <thead>\n",
              "    <tr style=\"text-align: right;\">\n",
              "      <th></th>\n",
              "      <th>Unnamed: 0</th>\n",
              "      <th>Age</th>\n",
              "      <th>AnnualIncome</th>\n",
              "      <th>FamilyMembers</th>\n",
              "      <th>ChronicDiseases</th>\n",
              "      <th>TravelInsurance</th>\n",
              "    </tr>\n",
              "  </thead>\n",
              "  <tbody>\n",
              "    <tr>\n",
              "      <th>count</th>\n",
              "      <td>1987.000000</td>\n",
              "      <td>1987.000000</td>\n",
              "      <td>1.987000e+03</td>\n",
              "      <td>1987.000000</td>\n",
              "      <td>1987.000000</td>\n",
              "      <td>1987.000000</td>\n",
              "    </tr>\n",
              "    <tr>\n",
              "      <th>mean</th>\n",
              "      <td>993.000000</td>\n",
              "      <td>29.650226</td>\n",
              "      <td>9.327630e+05</td>\n",
              "      <td>4.752894</td>\n",
              "      <td>0.277806</td>\n",
              "      <td>0.357323</td>\n",
              "    </tr>\n",
              "    <tr>\n",
              "      <th>std</th>\n",
              "      <td>573.741812</td>\n",
              "      <td>2.913308</td>\n",
              "      <td>3.768557e+05</td>\n",
              "      <td>1.609650</td>\n",
              "      <td>0.448030</td>\n",
              "      <td>0.479332</td>\n",
              "    </tr>\n",
              "    <tr>\n",
              "      <th>min</th>\n",
              "      <td>0.000000</td>\n",
              "      <td>25.000000</td>\n",
              "      <td>3.000000e+05</td>\n",
              "      <td>2.000000</td>\n",
              "      <td>0.000000</td>\n",
              "      <td>0.000000</td>\n",
              "    </tr>\n",
              "    <tr>\n",
              "      <th>25%</th>\n",
              "      <td>496.500000</td>\n",
              "      <td>28.000000</td>\n",
              "      <td>6.000000e+05</td>\n",
              "      <td>4.000000</td>\n",
              "      <td>0.000000</td>\n",
              "      <td>0.000000</td>\n",
              "    </tr>\n",
              "    <tr>\n",
              "      <th>50%</th>\n",
              "      <td>993.000000</td>\n",
              "      <td>29.000000</td>\n",
              "      <td>9.000000e+05</td>\n",
              "      <td>5.000000</td>\n",
              "      <td>0.000000</td>\n",
              "      <td>0.000000</td>\n",
              "    </tr>\n",
              "    <tr>\n",
              "      <th>75%</th>\n",
              "      <td>1489.500000</td>\n",
              "      <td>32.000000</td>\n",
              "      <td>1.250000e+06</td>\n",
              "      <td>6.000000</td>\n",
              "      <td>1.000000</td>\n",
              "      <td>1.000000</td>\n",
              "    </tr>\n",
              "    <tr>\n",
              "      <th>max</th>\n",
              "      <td>1986.000000</td>\n",
              "      <td>35.000000</td>\n",
              "      <td>1.800000e+06</td>\n",
              "      <td>9.000000</td>\n",
              "      <td>1.000000</td>\n",
              "      <td>1.000000</td>\n",
              "    </tr>\n",
              "  </tbody>\n",
              "</table>\n",
              "</div>\n",
              "      <button class=\"colab-df-convert\" onclick=\"convertToInteractive('df-0ff2a3ab-3ab0-4cec-a9a5-f87e91952943')\"\n",
              "              title=\"Convert this dataframe to an interactive table.\"\n",
              "              style=\"display:none;\">\n",
              "        \n",
              "  <svg xmlns=\"http://www.w3.org/2000/svg\" height=\"24px\"viewBox=\"0 0 24 24\"\n",
              "       width=\"24px\">\n",
              "    <path d=\"M0 0h24v24H0V0z\" fill=\"none\"/>\n",
              "    <path d=\"M18.56 5.44l.94 2.06.94-2.06 2.06-.94-2.06-.94-.94-2.06-.94 2.06-2.06.94zm-11 1L8.5 8.5l.94-2.06 2.06-.94-2.06-.94L8.5 2.5l-.94 2.06-2.06.94zm10 10l.94 2.06.94-2.06 2.06-.94-2.06-.94-.94-2.06-.94 2.06-2.06.94z\"/><path d=\"M17.41 7.96l-1.37-1.37c-.4-.4-.92-.59-1.43-.59-.52 0-1.04.2-1.43.59L10.3 9.45l-7.72 7.72c-.78.78-.78 2.05 0 2.83L4 21.41c.39.39.9.59 1.41.59.51 0 1.02-.2 1.41-.59l7.78-7.78 2.81-2.81c.8-.78.8-2.07 0-2.86zM5.41 20L4 18.59l7.72-7.72 1.47 1.35L5.41 20z\"/>\n",
              "  </svg>\n",
              "      </button>\n",
              "      \n",
              "  <style>\n",
              "    .colab-df-container {\n",
              "      display:flex;\n",
              "      flex-wrap:wrap;\n",
              "      gap: 12px;\n",
              "    }\n",
              "\n",
              "    .colab-df-convert {\n",
              "      background-color: #E8F0FE;\n",
              "      border: none;\n",
              "      border-radius: 50%;\n",
              "      cursor: pointer;\n",
              "      display: none;\n",
              "      fill: #1967D2;\n",
              "      height: 32px;\n",
              "      padding: 0 0 0 0;\n",
              "      width: 32px;\n",
              "    }\n",
              "\n",
              "    .colab-df-convert:hover {\n",
              "      background-color: #E2EBFA;\n",
              "      box-shadow: 0px 1px 2px rgba(60, 64, 67, 0.3), 0px 1px 3px 1px rgba(60, 64, 67, 0.15);\n",
              "      fill: #174EA6;\n",
              "    }\n",
              "\n",
              "    [theme=dark] .colab-df-convert {\n",
              "      background-color: #3B4455;\n",
              "      fill: #D2E3FC;\n",
              "    }\n",
              "\n",
              "    [theme=dark] .colab-df-convert:hover {\n",
              "      background-color: #434B5C;\n",
              "      box-shadow: 0px 1px 3px 1px rgba(0, 0, 0, 0.15);\n",
              "      filter: drop-shadow(0px 1px 2px rgba(0, 0, 0, 0.3));\n",
              "      fill: #FFFFFF;\n",
              "    }\n",
              "  </style>\n",
              "\n",
              "      <script>\n",
              "        const buttonEl =\n",
              "          document.querySelector('#df-0ff2a3ab-3ab0-4cec-a9a5-f87e91952943 button.colab-df-convert');\n",
              "        buttonEl.style.display =\n",
              "          google.colab.kernel.accessAllowed ? 'block' : 'none';\n",
              "\n",
              "        async function convertToInteractive(key) {\n",
              "          const element = document.querySelector('#df-0ff2a3ab-3ab0-4cec-a9a5-f87e91952943');\n",
              "          const dataTable =\n",
              "            await google.colab.kernel.invokeFunction('convertToInteractive',\n",
              "                                                     [key], {});\n",
              "          if (!dataTable) return;\n",
              "\n",
              "          const docLinkHtml = 'Like what you see? Visit the ' +\n",
              "            '<a target=\"_blank\" href=https://colab.research.google.com/notebooks/data_table.ipynb>data table notebook</a>'\n",
              "            + ' to learn more about interactive tables.';\n",
              "          element.innerHTML = '';\n",
              "          dataTable['output_type'] = 'display_data';\n",
              "          await google.colab.output.renderOutput(dataTable, element);\n",
              "          const docLink = document.createElement('div');\n",
              "          docLink.innerHTML = docLinkHtml;\n",
              "          element.appendChild(docLink);\n",
              "        }\n",
              "      </script>\n",
              "    </div>\n",
              "  </div>\n",
              "  "
            ]
          },
          "metadata": {}
        }
      ],
      "source": [
        "PATH = \"/content/drive/MyDrive/Introduction to ML/Week 03/TravelInsurancePrediction.csv\" # Path to your file\n",
        "\n",
        "df = read_dataset(PATH)\n",
        "\n",
        "#ToDo: Show histogram of dataframe"
      ],
      "metadata": {
        "id": "G8aJO4Rj8Kov",
        "colab": {
          "base_uri": "https://localhost:8080/",
          "height": 489
        },
        "outputId": "14b1a6e7-d714-4e8a-d547-367ff6ca3f78"
      }
    },
    {
      "cell_type": "markdown",
      "source": [
        "## Data Analysis"
      ],
      "metadata": {
        "collapsed": false,
        "id": "mk4IrtwS8Kow"
      }
    },
    {
      "cell_type": "code",
      "execution_count": null,
      "outputs": [
        {
          "output_type": "stream",
          "name": "stdout",
          "text": [
            "<class 'pandas.core.frame.DataFrame'>\n",
            "RangeIndex: 1987 entries, 0 to 1986\n",
            "Data columns (total 10 columns):\n",
            " #   Column               Non-Null Count  Dtype \n",
            "---  ------               --------------  ----- \n",
            " 0   Unnamed: 0           1987 non-null   int64 \n",
            " 1   Age                  1987 non-null   int64 \n",
            " 2   Employment Type      1987 non-null   object\n",
            " 3   GraduateOrNot        1987 non-null   object\n",
            " 4   AnnualIncome         1987 non-null   int64 \n",
            " 5   FamilyMembers        1987 non-null   int64 \n",
            " 6   ChronicDiseases      1987 non-null   int64 \n",
            " 7   FrequentFlyer        1987 non-null   object\n",
            " 8   EverTravelledAbroad  1987 non-null   object\n",
            " 9   TravelInsurance      1987 non-null   int64 \n",
            "dtypes: int64(6), object(4)\n",
            "memory usage: 155.4+ KB\n"
          ]
        }
      ],
      "source": [
        "# Data analysis\n",
        "# Todo: analyze your data here\n",
        "df.info()"
      ],
      "metadata": {
        "id": "Z4z7vGmJ8Kox",
        "colab": {
          "base_uri": "https://localhost:8080/"
        },
        "outputId": "2548bc1c-6a81-4643-e403-5b498b1f87d1"
      }
    },
    {
      "cell_type": "code",
      "source": [
        "print(\"Quantitative columns \\n\")\n",
        "print(df.describe())\n",
        "print()\n",
        "print(\"Qualitative columns \\n\")\n",
        "print(df.describe(include=[object]))"
      ],
      "metadata": {
        "colab": {
          "base_uri": "https://localhost:8080/"
        },
        "id": "qq3XiLJ3ejiV",
        "outputId": "7b5e91e9-a3a0-4d61-dbe2-b5b989416aa2"
      },
      "execution_count": null,
      "outputs": [
        {
          "output_type": "stream",
          "name": "stdout",
          "text": [
            "Quantitative columns \n",
            "\n",
            "        Unnamed: 0          Age  AnnualIncome  FamilyMembers  ChronicDiseases  \\\n",
            "count  1987.000000  1987.000000  1.987000e+03    1987.000000      1987.000000   \n",
            "mean    993.000000    29.650226  9.327630e+05       4.752894         0.277806   \n",
            "std     573.741812     2.913308  3.768557e+05       1.609650         0.448030   \n",
            "min       0.000000    25.000000  3.000000e+05       2.000000         0.000000   \n",
            "25%     496.500000    28.000000  6.000000e+05       4.000000         0.000000   \n",
            "50%     993.000000    29.000000  9.000000e+05       5.000000         0.000000   \n",
            "75%    1489.500000    32.000000  1.250000e+06       6.000000         1.000000   \n",
            "max    1986.000000    35.000000  1.800000e+06       9.000000         1.000000   \n",
            "\n",
            "       TravelInsurance  \n",
            "count      1987.000000  \n",
            "mean          0.357323  \n",
            "std           0.479332  \n",
            "min           0.000000  \n",
            "25%           0.000000  \n",
            "50%           0.000000  \n",
            "75%           1.000000  \n",
            "max           1.000000  \n",
            "\n",
            "Qualitative columns \n",
            "\n",
            "                     Employment Type GraduateOrNot FrequentFlyer  \\\n",
            "count                           1987          1987          1987   \n",
            "unique                             2             2             2   \n",
            "top     Private Sector/Self Employed           Yes            No   \n",
            "freq                            1417          1692          1570   \n",
            "\n",
            "       EverTravelledAbroad  \n",
            "count                 1987  \n",
            "unique                   2  \n",
            "top                     No  \n",
            "freq                  1607  \n"
          ]
        }
      ]
    },
    {
      "cell_type": "code",
      "source": [
        "print('Quantitative columns:')\n",
        "numeric_col = df.describe().columns\n",
        "print(numeric_col, '\\n')\n",
        "\n",
        "print('Qualitative columns:')\n",
        "categorical_col = df.describe(include=[object]).columns\n",
        "print(categorical_col)"
      ],
      "metadata": {
        "colab": {
          "base_uri": "https://localhost:8080/"
        },
        "id": "ypmSC4T6fooE",
        "outputId": "ee77061c-c5a4-4319-add9-a7a322958669"
      },
      "execution_count": null,
      "outputs": [
        {
          "output_type": "stream",
          "name": "stdout",
          "text": [
            "Quantitative columns:\n",
            "Index(['Unnamed: 0', 'Age', 'AnnualIncome', 'FamilyMembers', 'ChronicDiseases',\n",
            "       'TravelInsurance'],\n",
            "      dtype='object') \n",
            "\n",
            "Qualitative columns:\n",
            "Index(['Employment Type', 'GraduateOrNot', 'FrequentFlyer',\n",
            "       'EverTravelledAbroad'],\n",
            "      dtype='object')\n"
          ]
        }
      ]
    },
    {
      "cell_type": "code",
      "source": [
        "df.hist(column=numeric_col, figsize=(12,12))"
      ],
      "metadata": {
        "colab": {
          "base_uri": "https://localhost:8080/",
          "height": 1000
        },
        "id": "QOhDj41fgXAo",
        "outputId": "14e96c7e-6cec-4ece-fdeb-bd4825b1b204"
      },
      "execution_count": null,
      "outputs": [
        {
          "output_type": "execute_result",
          "data": {
            "text/plain": [
              "array([[<Axes: title={'center': 'Unnamed: 0'}>,\n",
              "        <Axes: title={'center': 'Age'}>],\n",
              "       [<Axes: title={'center': 'AnnualIncome'}>,\n",
              "        <Axes: title={'center': 'FamilyMembers'}>],\n",
              "       [<Axes: title={'center': 'ChronicDiseases'}>,\n",
              "        <Axes: title={'center': 'TravelInsurance'}>]], dtype=object)"
            ]
          },
          "metadata": {},
          "execution_count": 8
        },
        {
          "output_type": "display_data",
          "data": {
            "text/plain": [
              "<Figure size 1200x1200 with 6 Axes>"
            ],
            "image/png": "[encoded data removed]"
          },
          "metadata": {}
        }
      ]
    },
    {
      "cell_type": "markdown",
      "source": [
        "We may find the column 'unamed 0' is just like an index column so we need to remove it "
      ],
      "metadata": {
        "id": "0tfqdWi5hLOH"
      }
    },
    {
      "cell_type": "code",
      "source": [
        "fig, axes = plt.subplots(len(numeric_col), 1, figsize=(14, 2*len(numeric_col)), sharex=False, sharey=False)\n",
        "\n",
        "for i, column in enumerate(numeric_col):\n",
        "  sns.boxplot(x=column, data=df, palette='crest', ax=axes[i])\n",
        "plt.tight_layout(pad=2.0)"
      ],
      "metadata": {
        "colab": {
          "base_uri": "https://localhost:8080/",
          "height": 1000
        },
        "id": "5S6oLgaKh6OZ",
        "outputId": "d27563b8-a49e-4189-e6cd-9db68f02b239"
      },
      "execution_count": null,
      "outputs": [
        {
          "output_type": "display_data",
          "data": {
            "text/plain": [
              "<Figure size 1400x1200 with 6 Axes>"
            ],
            "image/png": "[encoded data removed]"
          },
          "metadata": {}
        }
      ]
    },
    {
      "cell_type": "code",
      "source": [
        "sns.histplot(x='ChronicDiseases', data=df)"
      ],
      "metadata": {
        "colab": {
          "base_uri": "https://localhost:8080/",
          "height": 466
        },
        "id": "VxJKnL9CjJPv",
        "outputId": "c8af0ede-f283-49d9-9932-e5abc16751a4"
      },
      "execution_count": null,
      "outputs": [
        {
          "output_type": "execute_result",
          "data": {
            "text/plain": [
              "<Axes: xlabel='ChronicDiseases', ylabel='Count'>"
            ]
          },
          "metadata": {},
          "execution_count": 10
        },
        {
          "output_type": "display_data",
          "data": {
            "text/plain": [
              "<Figure size 640x480 with 1 Axes>"
            ],
            "image/png": "[encoded data removed]"
          },
          "metadata": {}
        }
      ]
    },
    {
      "cell_type": "code",
      "source": [
        "sns.histplot(x='TravelInsurance', data=df)"
      ],
      "metadata": {
        "colab": {
          "base_uri": "https://localhost:8080/",
          "height": 466
        },
        "id": "CCC6zazhjXuC",
        "outputId": "99d295ff-74f9-440f-9db6-d3f450073c46"
      },
      "execution_count": null,
      "outputs": [
        {
          "output_type": "execute_result",
          "data": {
            "text/plain": [
              "<Axes: xlabel='TravelInsurance', ylabel='Count'>"
            ]
          },
          "metadata": {},
          "execution_count": 11
        },
        {
          "output_type": "display_data",
          "data": {
            "text/plain": [
              "<Figure size 640x480 with 1 Axes>"
            ],
            "image/png": "[encoded data removed]"
          },
          "metadata": {}
        }
      ]
    },
    {
      "cell_type": "code",
      "source": [
        "plt.figure(figsize=(10, 5))\n",
        "sns.heatmap(df.corr())"
      ],
      "metadata": {
        "colab": {
          "base_uri": "https://localhost:8080/",
          "height": 623
        },
        "id": "GC767Nhjjcf9",
        "outputId": "d419148d-2f2a-40fc-f459-7d0fe50749bd"
      },
      "execution_count": null,
      "outputs": [
        {
          "output_type": "stream",
          "name": "stderr",
          "text": [
            "<ipython-input-12-3857f0723db1>:2: FutureWarning: The default value of numeric_only in DataFrame.corr is deprecated. In a future version, it will default to False. Select only valid columns or specify the value of numeric_only to silence this warning.\n",
            "  sns.heatmap(df.corr())\n"
          ]
        },
        {
          "output_type": "execute_result",
          "data": {
            "text/plain": [
              "<Axes: >"
            ]
          },
          "metadata": {},
          "execution_count": 12
        },
        {
          "output_type": "display_data",
          "data": {
            "text/plain": [
              "<Figure size 1000x500 with 2 Axes>"
            ],
            "image/png": "[encoded data removed]"
          },
          "metadata": {}
        }
      ]
    },
    {
      "cell_type": "markdown",
      "source": [
        "## Preprocessing"
      ],
      "metadata": {
        "collapsed": false,
        "id": "flqsM83K8Kox"
      }
    },
    {
      "cell_type": "code",
      "source": [
        "#check if there is any null data\n",
        "df.isnull().sum()"
      ],
      "metadata": {
        "colab": {
          "base_uri": "https://localhost:8080/"
        },
        "id": "UGNgKJFqdYYV",
        "outputId": "68ebfac8-67fe-424b-c719-23f1e7b8004b"
      },
      "execution_count": null,
      "outputs": [
        {
          "output_type": "execute_result",
          "data": {
            "text/plain": [
              "Unnamed: 0             0\n",
              "Age                    0\n",
              "Employment Type        0\n",
              "GraduateOrNot          0\n",
              "AnnualIncome           0\n",
              "FamilyMembers          0\n",
              "ChronicDiseases        0\n",
              "FrequentFlyer          0\n",
              "EverTravelledAbroad    0\n",
              "TravelInsurance        0\n",
              "dtype: int64"
            ]
          },
          "metadata": {},
          "execution_count": 13
        }
      ]
    },
    {
      "cell_type": "code",
      "execution_count": null,
      "outputs": [],
      "source": [
        "def preprocessing_data(df):\n",
        "    \"\"\"\n",
        "    Preprocess your data (eg. Drop null datapoints or fill missing data)\n",
        "    :param df: pandas DataFrame\n",
        "    :return: pandas DataFrame\n",
        "    \"\"\"\n",
        "    # Todo: preprocess data\n",
        "    df.drop('Unnamed: 0', axis='columns', inplace=True)\n",
        "    return df"
      ],
      "metadata": {
        "id": "BsLrFNP-8Kox"
      }
    },
    {
      "cell_type": "code",
      "execution_count": null,
      "outputs": [],
      "source": [
        "df = preprocessing_data(df.copy())"
      ],
      "metadata": {
        "id": "dei_gmKb8Koy"
      }
    },
    {
      "cell_type": "code",
      "source": [
        "Xdf = df.copy()\n",
        "Xdf = Xdf.drop(['TravelInsurance'], axis=1)\n",
        "Xdf"
      ],
      "metadata": {
        "colab": {
          "base_uri": "https://localhost:8080/",
          "height": 423
        },
        "id": "qlKzxDAFb5Hd",
        "outputId": "a540a0d6-591e-4f96-f1fc-2dda6c11c175"
      },
      "execution_count": null,
      "outputs": [
        {
          "output_type": "execute_result",
          "data": {
            "text/plain": [
              "      Age               Employment Type GraduateOrNot  AnnualIncome  \\\n",
              "0      31             Government Sector           Yes        400000   \n",
              "1      31  Private Sector/Self Employed           Yes       1250000   \n",
              "2      34  Private Sector/Self Employed           Yes        500000   \n",
              "3      28  Private Sector/Self Employed           Yes        700000   \n",
              "4      28  Private Sector/Self Employed           Yes        700000   \n",
              "...   ...                           ...           ...           ...   \n",
              "1982   33  Private Sector/Self Employed           Yes       1500000   \n",
              "1983   28  Private Sector/Self Employed           Yes       1750000   \n",
              "1984   28  Private Sector/Self Employed           Yes       1150000   \n",
              "1985   34  Private Sector/Self Employed           Yes       1000000   \n",
              "1986   34  Private Sector/Self Employed           Yes        500000   \n",
              "\n",
              "      FamilyMembers  ChronicDiseases FrequentFlyer EverTravelledAbroad  \n",
              "0                 6                1            No                  No  \n",
              "1                 7                0            No                  No  \n",
              "2                 4                1            No                  No  \n",
              "3                 3                1            No                  No  \n",
              "4                 8                1           Yes                  No  \n",
              "...             ...              ...           ...                 ...  \n",
              "1982              4                0           Yes                 Yes  \n",
              "1983              5                1            No                 Yes  \n",
              "1984              6                1            No                  No  \n",
              "1985              6                0           Yes                 Yes  \n",
              "1986              4                0            No                  No  \n",
              "\n",
              "[1987 rows x 8 columns]"
            ],
            "text/html": [
              "\n",
              "  <div id=\"df-bfeb6f32-813d-4ce9-825c-cf145e3469d0\">\n",
              "    <div class=\"colab-df-container\">\n",
              "      <div>\n",
              "<style scoped>\n",
              "    .dataframe tbody tr th:only-of-type {\n",
              "        vertical-align: middle;\n",
              "    }\n",
              "\n",
              "    .dataframe tbody tr th {\n",
              "        vertical-align: top;\n",
              "    }\n",
              "\n",
              "    .dataframe thead th {\n",
              "        text-align: right;\n",
              "    }\n",
              "</style>\n",
              "<table border=\"1\" class=\"dataframe\">\n",
              "  <thead>\n",
              "    <tr style=\"text-align: right;\">\n",
              "      <th></th>\n",
              "      <th>Age</th>\n",
              "      <th>Employment Type</th>\n",
              "      <th>GraduateOrNot</th>\n",
              "      <th>AnnualIncome</th>\n",
              "      <th>FamilyMembers</th>\n",
              "      <th>ChronicDiseases</th>\n",
              "      <th>FrequentFlyer</th>\n",
              "      <th>EverTravelledAbroad</th>\n",
              "    </tr>\n",
              "  </thead>\n",
              "  <tbody>\n",
              "    <tr>\n",
              "      <th>0</th>\n",
              "      <td>31</td>\n",
              "      <td>Government Sector</td>\n",
              "      <td>Yes</td>\n",
              "      <td>400000</td>\n",
              "      <td>6</td>\n",
              "      <td>1</td>\n",
              "      <td>No</td>\n",
              "      <td>No</td>\n",
              "    </tr>\n",
              "    <tr>\n",
              "      <th>1</th>\n",
              "      <td>31</td>\n",
              "      <td>Private Sector/Self Employed</td>\n",
              "      <td>Yes</td>\n",
              "      <td>1250000</td>\n",
              "      <td>7</td>\n",
              "      <td>0</td>\n",
              "      <td>No</td>\n",
              "      <td>No</td>\n",
              "    </tr>\n",
              "    <tr>\n",
              "      <th>2</th>\n",
              "      <td>34</td>\n",
              "      <td>Private Sector/Self Employed</td>\n",
              "      <td>Yes</td>\n",
              "      <td>500000</td>\n",
              "      <td>4</td>\n",
              "      <td>1</td>\n",
              "      <td>No</td>\n",
              "      <td>No</td>\n",
              "    </tr>\n",
              "    <tr>\n",
              "      <th>3</th>\n",
              "      <td>28</td>\n",
              "      <td>Private Sector/Self Employed</td>\n",
              "      <td>Yes</td>\n",
              "      <td>700000</td>\n",
              "      <td>3</td>\n",
              "      <td>1</td>\n",
              "      <td>No</td>\n",
              "      <td>No</td>\n",
              "    </tr>\n",
              "    <tr>\n",
              "      <th>4</th>\n",
              "      <td>28</td>\n",
              "      <td>Private Sector/Self Employed</td>\n",
              "      <td>Yes</td>\n",
              "      <td>700000</td>\n",
              "      <td>8</td>\n",
              "      <td>1</td>\n",
              "      <td>Yes</td>\n",
              "      <td>No</td>\n",
              "    </tr>\n",
              "    <tr>\n",
              "      <th>...</th>\n",
              "      <td>...</td>\n",
              "      <td>...</td>\n",
              "      <td>...</td>\n",
              "      <td>...</td>\n",
              "      <td>...</td>\n",
              "      <td>...</td>\n",
              "      <td>...</td>\n",
              "      <td>...</td>\n",
              "    </tr>\n",
              "    <tr>\n",
              "      <th>1982</th>\n",
              "      <td>33</td>\n",
              "      <td>Private Sector/Self Employed</td>\n",
              "      <td>Yes</td>\n",
              "      <td>1500000</td>\n",
              "      <td>4</td>\n",
              "      <td>0</td>\n",
              "      <td>Yes</td>\n",
              "      <td>Yes</td>\n",
              "    </tr>\n",
              "    <tr>\n",
              "      <th>1983</th>\n",
              "      <td>28</td>\n",
              "      <td>Private Sector/Self Employed</td>\n",
              "      <td>Yes</td>\n",
              "      <td>1750000</td>\n",
              "      <td>5</td>\n",
              "      <td>1</td>\n",
              "      <td>No</td>\n",
              "      <td>Yes</td>\n",
              "    </tr>\n",
              "    <tr>\n",
              "      <th>1984</th>\n",
              "      <td>28</td>\n",
              "      <td>Private Sector/Self Employed</td>\n",
              "      <td>Yes</td>\n",
              "      <td>1150000</td>\n",
              "      <td>6</td>\n",
              "      <td>1</td>\n",
              "      <td>No</td>\n",
              "      <td>No</td>\n",
              "    </tr>\n",
              "    <tr>\n",
              "      <th>1985</th>\n",
              "      <td>34</td>\n",
              "      <td>Private Sector/Self Employed</td>\n",
              "      <td>Yes</td>\n",
              "      <td>1000000</td>\n",
              "      <td>6</td>\n",
              "      <td>0</td>\n",
              "      <td>Yes</td>\n",
              "      <td>Yes</td>\n",
              "    </tr>\n",
              "    <tr>\n",
              "      <th>1986</th>\n",
              "      <td>34</td>\n",
              "      <td>Private Sector/Self Employed</td>\n",
              "      <td>Yes</td>\n",
              "      <td>500000</td>\n",
              "      <td>4</td>\n",
              "      <td>0</td>\n",
              "      <td>No</td>\n",
              "      <td>No</td>\n",
              "    </tr>\n",
              "  </tbody>\n",
              "</table>\n",
              "<p>1987 rows × 8 columns</p>\n",
              "</div>\n",
              "      <button class=\"colab-df-convert\" onclick=\"convertToInteractive('df-bfeb6f32-813d-4ce9-825c-cf145e3469d0')\"\n",
              "              title=\"Convert this dataframe to an interactive table.\"\n",
              "              style=\"display:none;\">\n",
              "        \n",
              "  <svg xmlns=\"http://www.w3.org/2000/svg\" height=\"24px\"viewBox=\"0 0 24 24\"\n",
              "       width=\"24px\">\n",
              "    <path d=\"M0 0h24v24H0V0z\" fill=\"none\"/>\n",
              "    <path d=\"M18.56 5.44l.94 2.06.94-2.06 2.06-.94-2.06-.94-.94-2.06-.94 2.06-2.06.94zm-11 1L8.5 8.5l.94-2.06 2.06-.94-2.06-.94L8.5 2.5l-.94 2.06-2.06.94zm10 10l.94 2.06.94-2.06 2.06-.94-2.06-.94-.94-2.06-.94 2.06-2.06.94z\"/><path d=\"M17.41 7.96l-1.37-1.37c-.4-.4-.92-.59-1.43-.59-.52 0-1.04.2-1.43.59L10.3 9.45l-7.72 7.72c-.78.78-.78 2.05 0 2.83L4 21.41c.39.39.9.59 1.41.59.51 0 1.02-.2 1.41-.59l7.78-7.78 2.81-2.81c.8-.78.8-2.07 0-2.86zM5.41 20L4 18.59l7.72-7.72 1.47 1.35L5.41 20z\"/>\n",
              "  </svg>\n",
              "      </button>\n",
              "      \n",
              "  <style>\n",
              "    .colab-df-container {\n",
              "      display:flex;\n",
              "      flex-wrap:wrap;\n",
              "      gap: 12px;\n",
              "    }\n",
              "\n",
              "    .colab-df-convert {\n",
              "      background-color: #E8F0FE;\n",
              "      border: none;\n",
              "      border-radius: 50%;\n",
              "      cursor: pointer;\n",
              "      display: none;\n",
              "      fill: #1967D2;\n",
              "      height: 32px;\n",
              "      padding: 0 0 0 0;\n",
              "      width: 32px;\n",
              "    }\n",
              "\n",
              "    .colab-df-convert:hover {\n",
              "      background-color: #E2EBFA;\n",
              "      box-shadow: 0px 1px 2px rgba(60, 64, 67, 0.3), 0px 1px 3px 1px rgba(60, 64, 67, 0.15);\n",
              "      fill: #174EA6;\n",
              "    }\n",
              "\n",
              "    [theme=dark] .colab-df-convert {\n",
              "      background-color: #3B4455;\n",
              "      fill: #D2E3FC;\n",
              "    }\n",
              "\n",
              "    [theme=dark] .colab-df-convert:hover {\n",
              "      background-color: #434B5C;\n",
              "      box-shadow: 0px 1px 3px 1px rgba(0, 0, 0, 0.15);\n",
              "      filter: drop-shadow(0px 1px 2px rgba(0, 0, 0, 0.3));\n",
              "      fill: #FFFFFF;\n",
              "    }\n",
              "  </style>\n",
              "\n",
              "      <script>\n",
              "        const buttonEl =\n",
              "          document.querySelector('#df-bfeb6f32-813d-4ce9-825c-cf145e3469d0 button.colab-df-convert');\n",
              "        buttonEl.style.display =\n",
              "          google.colab.kernel.accessAllowed ? 'block' : 'none';\n",
              "\n",
              "        async function convertToInteractive(key) {\n",
              "          const element = document.querySelector('#df-bfeb6f32-813d-4ce9-825c-cf145e3469d0');\n",
              "          const dataTable =\n",
              "            await google.colab.kernel.invokeFunction('convertToInteractive',\n",
              "                                                     [key], {});\n",
              "          if (!dataTable) return;\n",
              "\n",
              "          const docLinkHtml = 'Like what you see? Visit the ' +\n",
              "            '<a target=\"_blank\" href=https://colab.research.google.com/notebooks/data_table.ipynb>data table notebook</a>'\n",
              "            + ' to learn more about interactive tables.';\n",
              "          element.innerHTML = '';\n",
              "          dataTable['output_type'] = 'display_data';\n",
              "          await google.colab.output.renderOutput(dataTable, element);\n",
              "          const docLink = document.createElement('div');\n",
              "          docLink.innerHTML = docLinkHtml;\n",
              "          element.appendChild(docLink);\n",
              "        }\n",
              "      </script>\n",
              "    </div>\n",
              "  </div>\n",
              "  "
            ]
          },
          "metadata": {},
          "execution_count": 16
        }
      ]
    },
    {
      "cell_type": "code",
      "source": [
        "numerical_indexes = [Xdf.columns.get_loc(char) for char in Xdf.select_dtypes(exclude=[object]).columns.to_list() if char in Xdf]\n",
        "continuous_indexes = [Xdf.columns.get_loc(c) for c in ['Age', 'AnnualIncome']]\n",
        "categorical_index = [Xdf.columns.get_loc(char) for char in Xdf.select_dtypes(include=[object]).columns.to_list() if char in Xdf]\n",
        "print(numerical_indexes)"
      ],
      "metadata": {
        "colab": {
          "base_uri": "https://localhost:8080/"
        },
        "id": "cDrZVZzzakvt",
        "outputId": "d678864c-aaa3-4928-dc20-53fe57af6071"
      },
      "execution_count": null,
      "outputs": [
        {
          "output_type": "stream",
          "name": "stdout",
          "text": [
            "[0, 3, 4, 5]\n"
          ]
        }
      ]
    },
    {
      "cell_type": "markdown",
      "source": [
        "## Feature Engineering"
      ],
      "metadata": {
        "collapsed": false,
        "id": "Zi5s_ZP48Koy"
      }
    },
    {
      "cell_type": "code",
      "execution_count": null,
      "outputs": [
        {
          "output_type": "execute_result",
          "data": {
            "text/plain": [
              "<Axes: >"
            ]
          },
          "metadata": {},
          "execution_count": 18
        },
        {
          "output_type": "display_data",
          "data": {
            "text/plain": [
              "<Figure size 640x480 with 2 Axes>"
            ],
            "image/png": "[encoded data removed]"
          },
          "metadata": {}
        }
      ],
      "source": [
        "# Heatmap\n",
        "import seaborn as sns\n",
        "\n",
        "def apply_feature_engineering(df):\n",
        "    \"\"\"\n",
        "    Apply all feature engineering to transform your data into number\n",
        "    :param df: pandas DataFrame\n",
        "    :return: pandas DataFrame\n",
        "    \"\"\"\n",
        "    # Todo: Normalize your data\n",
        "    df['EverTravelledAbroad']=df['EverTravelledAbroad'].astype(\"category\").cat.codes\n",
        "    df['Employment Type'] = df['Employment Type'].astype(\"category\").cat.codes\n",
        "    df['GraduateOrNot'] = df['GraduateOrNot'].astype(\"category\").cat.codes\n",
        "    df['FrequentFlyer'] = df['FrequentFlyer'].astype(\"category\").cat.codes\n",
        "    \n",
        "    return df\n",
        "\n",
        "df = apply_feature_engineering(df)\n",
        "sns.heatmap(df.corr()) # Show heatmap after normalized data"
      ],
      "metadata": {
        "id": "6VQVAmTx8Koy",
        "colab": {
          "base_uri": "https://localhost:8080/",
          "height": 582
        },
        "outputId": "ae49d3c3-4b17-42e0-fbe9-c7bb57916872"
      }
    },
    {
      "cell_type": "code",
      "execution_count": null,
      "outputs": [],
      "source": [
        "def prepare_X_y(df):\n",
        "    \"\"\"\n",
        "    Feature engineering and create X and y\n",
        "    :param df: pandas dataframe\n",
        "    :return: (X, y) output feature matrix (dataframe), target (series)\n",
        "    \"\"\"\n",
        "    # Todo: Split data into X and y (using sklearn train_test_split). Return two dataframes\n",
        "\n",
        "    # feature = df.columns.tolist()\n",
        "    # feature.remove(\"TravelInsurance\")\n",
        "\n",
        "    # X = df[feature].values # Todo: Select features\n",
        "    # y = df.TravelInsurance.values # Todo: Select label\n",
        "\n",
        "    X = df.drop(['TravelInsurance'], axis=1)\n",
        "    y = df['TravelInsurance']\n",
        "    return X, y\n",
        "\n",
        "X, y = prepare_X_y(df)"
      ],
      "metadata": {
        "id": "kWoZ3iLO8Koz"
      }
    },
    {
      "cell_type": "markdown",
      "source": [
        "# Apply machine learning model"
      ],
      "metadata": {
        "collapsed": false,
        "id": "prlZ55S68Koz"
      }
    },
    {
      "cell_type": "markdown",
      "source": [
        "## Train-test split"
      ],
      "metadata": {
        "collapsed": false,
        "id": "uwkqQnmZ8Ko0"
      }
    },
    {
      "cell_type": "code",
      "execution_count": null,
      "outputs": [],
      "source": [
        "from sklearn.model_selection import train_test_split\n",
        "RANDOM_STATE = 101\n",
        "TRAIN_SIZE = 0.7\n",
        "\n",
        "trainX, testX ,trainY, testY = train_test_split(X, y, train_size=TRAIN_SIZE, random_state=RANDOM_STATE, stratify=y)"
      ],
      "metadata": {
        "id": "AgohjEzw8Ko0"
      }
    },
    {
      "cell_type": "markdown",
      "source": [
        "## Build SK-learn model"
      ],
      "metadata": {
        "collapsed": false,
        "id": "Xy5y6NEO8Ko0"
      }
    },
    {
      "cell_type": "code",
      "source": [
        "from sklearn.metrics import classification_report\n",
        "from sklearn.pipeline import make_pipeline\n",
        "from sklearn.naive_bayes import GaussianNB\n",
        "from sklearn.metrics import precision_score, recall_score, f1_score\n",
        "\n",
        "def buildNoScaler(X, y):\n",
        "    \"\"\"\n",
        "    Design your model and train it (including your best params)\n",
        "    :param X: feature matrix\n",
        "    :param y: target\n",
        "    :return: a model\n",
        "    \"\"\"\n",
        "    # Todo: Input your scaler and logistic model into pipeline\n",
        "    NBmodel = GaussianNB()\n",
        "    NBmodel.fit(trainX, trainY.ravel())\n",
        "    # Todo: fit your model with X, y\n",
        "    return NBmodel\n",
        "\n",
        "model = buildNoScaler(trainX, trainY)\n",
        "# Compare on training dataset\n",
        "pred = model.predict(testX)\n",
        "\n",
        "print(classification_report(testY, pred))"
      ],
      "metadata": {
        "colab": {
          "base_uri": "https://localhost:8080/"
        },
        "id": "5AZKZzu-ldTe",
        "outputId": "a89dc74d-5e1a-4c9e-b75b-2b35fbfc6843"
      },
      "execution_count": null,
      "outputs": [
        {
          "output_type": "stream",
          "name": "stdout",
          "text": [
            "              precision    recall  f1-score   support\n",
            "\n",
            "           0       0.77      0.89      0.82       384\n",
            "           1       0.71      0.51      0.60       213\n",
            "\n",
            "    accuracy                           0.75       597\n",
            "   macro avg       0.74      0.70      0.71       597\n",
            "weighted avg       0.75      0.75      0.74       597\n",
            "\n"
          ]
        }
      ]
    },
    {
      "cell_type": "code",
      "source": [
        "#Build Gaussian Naive Bayes with Scaler\n",
        "def buildGauScaler(X, y):\n",
        "    \"\"\"\n",
        "    Design your model and train it (including your best params)\n",
        "    :param X: feature matrix\n",
        "    :param y: target\n",
        "    :return: a model\n",
        "    \"\"\"\n",
        "    # Todo: Input your scaler and logistic model into pipeline\n",
        "    pipe = Pipeline([('scaler', MinMaxScaler()), ('model', GaussianNB())])\n",
        "\n",
        "    param_grid = {\n",
        "        \"scaler__feature_range\": [(-1, 1), (0, 1)],\n",
        "        'model__var_smoothing': np.logspace(0, -9, 100),\n",
        "    }\n",
        "    grid = GridSearchCV(pipe, param_grid=param_grid, cv=3, scoring='f1_weighted', n_jobs=-1)\n",
        "    grid.fit(X, y)\n",
        "    return grid\n",
        "\n",
        "\n",
        "def calculate_performance(y_true, y_pred):\n",
        "    \"\"\"\n",
        "\n",
        "    :param y_true: ground truth values\n",
        "    :param y_pred: predictions\n",
        "    :return:\n",
        "    \"\"\"\n",
        "   # Todo: return your error value like accuracy, f1score, ...\n",
        "    print(\"precision\", precision_score(y_true, y_pred))\n",
        "    print(\"recall\", recall_score(y_true, y_pred))\n",
        "    print(\"accuracy\", accuracy_score(y_true, y_pred))\n",
        "    print(\"F1\", f1_score(y_true, y_pred))\n",
        "    print(\"\\n\", classification_report(y_true, y_pred))\n",
        "\n",
        "    # Todo: Only choose one of them as your score for the question 7\n",
        "    main_score = f1_score(y_true, y_pred)\n",
        "    return main_score\n",
        "\n",
        "gauss_model = buildGauScaler(trainX, trainY)\n",
        "print(\"Best parameter (CV score=%0.3f):\" % gauss_model.best_score_)\n",
        "print(gauss_model.best_params_)\n",
        "# Compare on training dataset\n",
        "predictX = gauss_model.predict(testX)\n",
        "calculate_performance(testY, predictX)"
      ],
      "metadata": {
        "colab": {
          "base_uri": "https://localhost:8080/"
        },
        "id": "zaRgxpgYFWjL",
        "outputId": "ab320d7f-cdce-4556-f4e4-bdef835ac79f"
      },
      "execution_count": null,
      "outputs": [
        {
          "output_type": "stream",
          "name": "stdout",
          "text": [
            "Best parameter (CV score=0.745):\n",
            "{'model__var_smoothing': 0.3511191734215131, 'scaler__feature_range': (-1, 1)}\n",
            "precision 0.8115942028985508\n",
            "recall 0.5258215962441315\n",
            "accuracy 0.7872696817420436\n",
            "F1 0.6381766381766382\n",
            "\n",
            "               precision    recall  f1-score   support\n",
            "\n",
            "           0       0.78      0.93      0.85       384\n",
            "           1       0.81      0.53      0.64       213\n",
            "\n",
            "    accuracy                           0.79       597\n",
            "   macro avg       0.80      0.73      0.74       597\n",
            "weighted avg       0.79      0.79      0.77       597\n",
            "\n"
          ]
        },
        {
          "output_type": "execute_result",
          "data": {
            "text/plain": [
              "0.6381766381766382"
            ]
          },
          "metadata": {},
          "execution_count": 59
        }
      ]
    },
    {
      "cell_type": "code",
      "source": [
        "class MixedNaiveBayes(BaseEstimator, ClassifierMixin):\n",
        "    def __init__(self, categorical_features, var_smoothing=1e-9):\n",
        "        self.categorical_features = categorical_features\n",
        "        self.var_smoothing = var_smoothing\n",
        "        self.model = MixedNB(categorical_features = self.categorical_features, var_smoothing=self.var_smoothing)\n",
        "    \n",
        "    def fit(self, X, y):\n",
        "        self.model.fit(X, y)\n",
        "        return self\n",
        "    \n",
        "    def predict(self, X):\n",
        "        y_pred = self.model.predict(X)\n",
        "        return y_pred"
      ],
      "metadata": {
        "id": "4fmTMVvKzOoi"
      },
      "execution_count": null,
      "outputs": []
    },
    {
      "cell_type": "code",
      "source": [
        "#Take the column index of the data frame to use in column transformer and mixed naive bayes\n",
        "numerical_ix = X.select_dtypes(exclude=['object']).columns\n",
        "categorical_ix = X.select_dtypes(include=['object', 'bool']).columns\n",
        "continuous_ix = ['Age', 'AnnualIncome']\n",
        "print(numerical_ix)\n",
        "print(continuous_ix)"
      ],
      "metadata": {
        "colab": {
          "base_uri": "https://localhost:8080/"
        },
        "id": "QkCO4bacA41E",
        "outputId": "95e69199-00dc-49db-9db0-65e5fc14e5d4"
      },
      "execution_count": null,
      "outputs": [
        {
          "output_type": "stream",
          "name": "stdout",
          "text": [
            "Index(['Age', 'Employment Type', 'GraduateOrNot', 'AnnualIncome',\n",
            "       'FamilyMembers', 'ChronicDiseases', 'FrequentFlyer',\n",
            "       'EverTravelledAbroad'],\n",
            "      dtype='object')\n",
            "['Age', 'AnnualIncome']\n"
          ]
        }
      ]
    },
    {
      "cell_type": "code",
      "execution_count": null,
      "outputs": [
        {
          "output_type": "stream",
          "name": "stdout",
          "text": [
            "Best parameter (CV score=0.753):\n",
            "{'model__var_smoothing': 1.0, 'pca__n_components': 6}\n",
            "precision 0.9411764705882353\n",
            "recall 0.3004694835680751\n",
            "accuracy 0.7437185929648241\n",
            "F1 0.4555160142348754\n",
            "\n",
            "               precision    recall  f1-score   support\n",
            "\n",
            "           0       0.72      0.99      0.83       384\n",
            "           1       0.94      0.30      0.46       213\n",
            "\n",
            "    accuracy                           0.74       597\n",
            "   macro avg       0.83      0.65      0.64       597\n",
            "weighted avg       0.80      0.74      0.70       597\n",
            "\n"
          ]
        },
        {
          "output_type": "execute_result",
          "data": {
            "text/plain": [
              "0.4555160142348754"
            ]
          },
          "metadata": {},
          "execution_count": 62
        }
      ],
      "source": [
        "#Normalizer\n",
        "# normalizer = MinMaxScaler()\n",
        "# trainX = normalizer.fit_transform(trainX)\n",
        "# testX = normalizer.transform(testX)\n",
        "#var_smoothing_values = np.logspace(-4, -9, num=100)\n",
        "\n",
        "def buildMixedNaiveBayes(X, y):\n",
        "    \"\"\"\n",
        "    Design your model and train it (including your best params)\n",
        "    :param X: feature matrix\n",
        "    :param y: target\n",
        "    :return: a model\n",
        "    \"\"\"\n",
        "    # Todo: Input your scaler and logistic model into pipeline\n",
        "\n",
        "    column_transformer = ColumnTransformer([(\"log\", FunctionTransformer(np.log1p), continuous_ix), (\"scaler\", StandardScaler(), numerical_ix)], remainder=\"passthrough\")\n",
        "    pipe = Pipeline([('transformer', column_transformer), ('pca', PCA()), ('model', MixedNaiveBayes(categorical_features=categorical_ix))])\n",
        "\n",
        "    param_grid = {\n",
        "        'pca__n_components': np.arange(2, 10),\n",
        "        'model__var_smoothing': np.logspace(0, -9, 100),\n",
        "    }\n",
        "    grid = GridSearchCV(pipe, param_grid=param_grid, cv=3, scoring='f1_weighted', n_jobs=-1)\n",
        "    grid.fit(X, y)\n",
        "    return grid\n",
        "\n",
        "\n",
        "\n",
        "def calculate_performance(y_true, y_pred):\n",
        "    \"\"\"\n",
        "\n",
        "    :param y_true: ground truth values\n",
        "    :param y_pred: predictions\n",
        "    :return:\n",
        "    \"\"\"\n",
        "   # Todo: return your error value like accuracy, f1score, ...\n",
        "    print(\"precision\", precision_score(y_true, y_pred))\n",
        "    print(\"recall\", recall_score(y_true, y_pred))\n",
        "    print(\"accuracy\", accuracy_score(y_true, y_pred))\n",
        "    print(\"F1\", f1_score(y_true, y_pred))\n",
        "    print(\"\\n\", classification_report(y_true, y_pred))\n",
        "\n",
        "    # Todo: Only choose one of them as your score for the question 7\n",
        "    main_score = f1_score(y_true, y_pred)\n",
        "    return main_score\n",
        "\n",
        "mixed_model = buildMixedNaiveBayes(trainX, trainY)\n",
        "print(\"Best parameter (CV score=%0.3f):\" % mixed_model.best_score_)\n",
        "print(mixed_model.best_params_)\n",
        "# Compare on training dataset\n",
        "predictX = mixed_model.predict(testX)\n",
        "calculate_performance(testY, predictX)"
      ],
      "metadata": {
        "id": "lge0OhiI8Ko1",
        "colab": {
          "base_uri": "https://localhost:8080/"
        },
        "outputId": "0ad003d7-da29-4243-af18-c7d0ac195441"
      }
    },
    {
      "cell_type": "code",
      "execution_count": null,
      "outputs": [
        {
          "output_type": "execute_result",
          "data": {
            "text/plain": [
              "'7. I chose f1_score for the main score since the f1 score metric computes how many times a model made a correct prediction across the entire datasetThe model I used are Gaussian Naive Bayes model with Standard Scaler and Mixed Naive Bayes model with Standard Scaler and PCA dimensional reductionAs a result, the Mixed Naive Bayes has the better precision than the Gaussian Naive Bayes, but the f1_score and accuracy score of MixedNB is much less than GaussianNB.'"
            ],
            "application/vnd.google.colaboratory.intrinsic+json": {
              "type": "string"
            }
          },
          "metadata": {},
          "execution_count": 65
        }
      ],
      "source": [
        "def get_conclusion():\n",
        "    # Todo: Please return your answer, conclusion and opinion right here\n",
        "    return \"7. I chose f1_score for the main score since the f1 score metric computes how many times a model made a correct prediction across the entire dataset\" \\\n",
        "           \"The model I used are Gaussian Naive Bayes model with Standard Scaler and Mixed Naive Bayes model with Standard Scaler and PCA dimensional reduction\" \\\n",
        "           \"As a result, the Mixed Naive Bayes has the better precision than the Gaussian Naive Bayes, but the f1_score and accuracy score of MixedNB is much less than GaussianNB.\"\n",
        "\n",
        "get_conclusion()"
      ],
      "metadata": {
        "id": "T0UDQCc48Ko1",
        "colab": {
          "base_uri": "https://localhost:8080/",
          "height": 70
        },
        "outputId": "2ce28332-157b-4919-fd45-b02cd78f787d"
      }
    }
  ],
  "metadata": {
    "kernelspec": {
      "display_name": "Python 3",
      "language": "python",
      "name": "python3"
    },
    "language_info": {
      "codemirror_mode": {
        "name": "ipython",
        "version": 2
      },
      "file_extension": ".py",
      "mimetype": "text/x-python",
      "name": "python",
      "nbconvert_exporter": "python",
      "pygments_lexer": "ipython2",
      "version": "2.7.6"
    },
    "colab": {
      "provenance": []
    }
  },
  "nbformat": 4,
  "nbformat_minor": 0
}