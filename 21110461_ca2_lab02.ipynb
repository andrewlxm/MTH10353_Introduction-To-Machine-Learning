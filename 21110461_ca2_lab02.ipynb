{
  "cells": [
    {
      "cell_type": "markdown",
      "source": [
        "1. Analyze and Preprocess data - Check if the dataset has missing values or has any other problem.\n",
        "2. Feature Engineering\n",
        "3. Divide the dataset into 2 training and test sets\n",
        "4. Use logistic model Regression. Try to apply different *solver* and *penalty* to find the best one.\n",
        "5. Perform model on training set and test set\n",
        "6. Measure performance of the model.\n",
        "7. Which metric is your main metric and why? Which solver and penalty have you chosen? (<= 100 words)\n",
        "\n",
        "\n",
        "How can I measure your point:\n",
        "1. Your function is callable and runs correctly\n",
        "2. The performance of your model (in full pipeline) is acceptable. The final error based on my train and test set is low enough.\n",
        "3. The data preprocessing is correct or make sense\n",
        "4. The Feature engineering is correct or make sense\n",
        "5. Any other additional process will be considered a small plus point."
      ],
      "metadata": {
        "collapsed": false,
        "id": "_GIq8Io_8Koq"
      }
    },
    {
      "cell_type": "markdown",
      "source": [
        "- Age: This is the attribute that describes the age of the patient. There is data type $int64$, the highest value is 29, and the lowest is 77.\n",
        "- Sex: This is the attribute indicating the gender of the patient, where 0 indicates male patient, 1 female patient.\n",
        "- ChestPainType: This is the attribute that indicates the patient's chest pain level. With levels 0, 1, 2, and 3.\n",
        "- RestingBP: This is the attribute that indicates the patient's blood pressure with data type $int64$, the value is in the range [94, 200]\n",
        "- Cholesterol: This attribute indicates the patient's cholesterol level as measured in the hospital. Has the data type $int64$, where the value is in [126, 564]\n",
        "- FastingBS: This is an attribute that describes the patient's fasting blood sugar. In which, if the patient has more than 120mg/dl sugar = 1, otherwise = 0.\n",
        "- RestingECG: This property displays the results of the ECG from 0 to 2 (0, 1, 2). Where each value indicates the severity of the pain.\n",
        "- thalach: Patient's highest heart rate\n",
        "- ExerciseAngina: Whether or not you have angina during exercise. Yes denotes 1, no denotes 0.\n",
        "- Oldpeak: Attribute expressing the stress level of the patient. Has a value of type $float64$, the value is in [0, 6.2]\n",
        "- ST\\_Slope: Patient's condition during exercise. Includes [Upsloping, Flat, Down sloping] states that are sequentially digitized to [0, 1, 2].\n",
        "- ca: number of major vessels (0-3) colored by flourosopy - given\n",
        "- thal: 0 = normal; 1 = fixed defect; 2 = reversable defect\n",
        "The names and social security numbers of the patients were recently removed from the database, replaced with dummy values.\n",
        "- HeartDisease: Results of the patient's condition. 1 is for signs of heart disease, 0 is for no signs of heart disease."
      ],
      "metadata": {
        "collapsed": false,
        "id": "SjhjJmx68Kou"
      }
    },
    {
      "cell_type": "markdown",
      "source": [
        "## Load Dataset"
      ],
      "metadata": {
        "collapsed": false,
        "id": "iDJN7fbU8Kov"
      }
    },
    {
      "cell_type": "code",
      "source": [
        "# mount data from google drive to colab\n",
        "from google.colab import drive\n",
        "drive.mount('/content/drive')\n",
        "\n",
        "#import library\n",
        "import pandas as pd # pandas \n",
        "import numpy as np # numpy\n",
        "import time"
      ],
      "metadata": {
        "id": "vf3Ag38CYiGd",
        "colab": {
          "base_uri": "https://localhost:8080/"
        },
        "outputId": "a09aaa72-c994-4032-cc47-ac94a4f92652"
      },
      "execution_count": 1,
      "outputs": [
        {
          "output_type": "stream",
          "name": "stdout",
          "text": [
            "Mounted at /content/drive\n"
          ]
        }
      ]
    },
    {
      "cell_type": "code",
      "source": [
        "# read data using Pandas DataFrame\n",
        "def read_dataset(path):\n",
        "    # Todo: read_csv from a path and return a DataFrame\n",
        "    df = pd.read_csv(path)\n",
        "    display(df.head())\n",
        "    display(df.describe())\n",
        "    return df"
      ],
      "metadata": {
        "id": "XzPzTv8vZGLg"
      },
      "execution_count": 2,
      "outputs": []
    },
    {
      "cell_type": "code",
      "execution_count": 3,
      "outputs": [
        {
          "output_type": "display_data",
          "data": {
            "text/plain": [
              "   age  sex  cp  trestbps  chol  fbs  restecg  thalach  exang  oldpeak  slope  \\\n",
              "0   46    1   0       120   249    0        0      144      0      0.8      2   \n",
              "1   71    0   1       160   302    0        1      162      0      0.4      2   \n",
              "2   71    0   1       160   303    0        1      163      0      0.4      2   \n",
              "3   71    0   1       160   304    0        1      164      0      0.4      2   \n",
              "4   71    0   1       160   305    0        1      165      0      0.4      2   \n",
              "\n",
              "   ca  thal  target  \n",
              "0   0     3       0  \n",
              "1   2     2       1  \n",
              "2   2     2       1  \n",
              "3   2     2       1  \n",
              "4   2     2       1  "
            ],
            "text/html": [
              "\n",
              "  <div id=\"df-c782be9f-536a-4452-a152-8ebbeaa8fcd2\">\n",
              "    <div class=\"colab-df-container\">\n",
              "      <div>\n",
              "<style scoped>\n",
              "    .dataframe tbody tr th:only-of-type {\n",
              "        vertical-align: middle;\n",
              "    }\n",
              "\n",
              "    .dataframe tbody tr th {\n",
              "        vertical-align: top;\n",
              "    }\n",
              "\n",
              "    .dataframe thead th {\n",
              "        text-align: right;\n",
              "    }\n",
              "</style>\n",
              "<table border=\"1\" class=\"dataframe\">\n",
              "  <thead>\n",
              "    <tr style=\"text-align: right;\">\n",
              "      <th></th>\n",
              "      <th>age</th>\n",
              "      <th>sex</th>\n",
              "      <th>cp</th>\n",
              "      <th>trestbps</th>\n",
              "      <th>chol</th>\n",
              "      <th>fbs</th>\n",
              "      <th>restecg</th>\n",
              "      <th>thalach</th>\n",
              "      <th>exang</th>\n",
              "      <th>oldpeak</th>\n",
              "      <th>slope</th>\n",
              "      <th>ca</th>\n",
              "      <th>thal</th>\n",
              "      <th>target</th>\n",
              "    </tr>\n",
              "  </thead>\n",
              "  <tbody>\n",
              "    <tr>\n",
              "      <th>0</th>\n",
              "      <td>46</td>\n",
              "      <td>1</td>\n",
              "      <td>0</td>\n",
              "      <td>120</td>\n",
              "      <td>249</td>\n",
              "      <td>0</td>\n",
              "      <td>0</td>\n",
              "      <td>144</td>\n",
              "      <td>0</td>\n",
              "      <td>0.8</td>\n",
              "      <td>2</td>\n",
              "      <td>0</td>\n",
              "      <td>3</td>\n",
              "      <td>0</td>\n",
              "    </tr>\n",
              "    <tr>\n",
              "      <th>1</th>\n",
              "      <td>71</td>\n",
              "      <td>0</td>\n",
              "      <td>1</td>\n",
              "      <td>160</td>\n",
              "      <td>302</td>\n",
              "      <td>0</td>\n",
              "      <td>1</td>\n",
              "      <td>162</td>\n",
              "      <td>0</td>\n",
              "      <td>0.4</td>\n",
              "      <td>2</td>\n",
              "      <td>2</td>\n",
              "      <td>2</td>\n",
              "      <td>1</td>\n",
              "    </tr>\n",
              "    <tr>\n",
              "      <th>2</th>\n",
              "      <td>71</td>\n",
              "      <td>0</td>\n",
              "      <td>1</td>\n",
              "      <td>160</td>\n",
              "      <td>303</td>\n",
              "      <td>0</td>\n",
              "      <td>1</td>\n",
              "      <td>163</td>\n",
              "      <td>0</td>\n",
              "      <td>0.4</td>\n",
              "      <td>2</td>\n",
              "      <td>2</td>\n",
              "      <td>2</td>\n",
              "      <td>1</td>\n",
              "    </tr>\n",
              "    <tr>\n",
              "      <th>3</th>\n",
              "      <td>71</td>\n",
              "      <td>0</td>\n",
              "      <td>1</td>\n",
              "      <td>160</td>\n",
              "      <td>304</td>\n",
              "      <td>0</td>\n",
              "      <td>1</td>\n",
              "      <td>164</td>\n",
              "      <td>0</td>\n",
              "      <td>0.4</td>\n",
              "      <td>2</td>\n",
              "      <td>2</td>\n",
              "      <td>2</td>\n",
              "      <td>1</td>\n",
              "    </tr>\n",
              "    <tr>\n",
              "      <th>4</th>\n",
              "      <td>71</td>\n",
              "      <td>0</td>\n",
              "      <td>1</td>\n",
              "      <td>160</td>\n",
              "      <td>305</td>\n",
              "      <td>0</td>\n",
              "      <td>1</td>\n",
              "      <td>165</td>\n",
              "      <td>0</td>\n",
              "      <td>0.4</td>\n",
              "      <td>2</td>\n",
              "      <td>2</td>\n",
              "      <td>2</td>\n",
              "      <td>1</td>\n",
              "    </tr>\n",
              "  </tbody>\n",
              "</table>\n",
              "</div>\n",
              "      <button class=\"colab-df-convert\" onclick=\"convertToInteractive('df-c782be9f-536a-4452-a152-8ebbeaa8fcd2')\"\n",
              "              title=\"Convert this dataframe to an interactive table.\"\n",
              "              style=\"display:none;\">\n",
              "        \n",
              "  <svg xmlns=\"http://www.w3.org/2000/svg\" height=\"24px\"viewBox=\"0 0 24 24\"\n",
              "       width=\"24px\">\n",
              "    <path d=\"M0 0h24v24H0V0z\" fill=\"none\"/>\n",
              "    <path d=\"M18.56 5.44l.94 2.06.94-2.06 2.06-.94-2.06-.94-.94-2.06-.94 2.06-2.06.94zm-11 1L8.5 8.5l.94-2.06 2.06-.94-2.06-.94L8.5 2.5l-.94 2.06-2.06.94zm10 10l.94 2.06.94-2.06 2.06-.94-2.06-.94-.94-2.06-.94 2.06-2.06.94z\"/><path d=\"M17.41 7.96l-1.37-1.37c-.4-.4-.92-.59-1.43-.59-.52 0-1.04.2-1.43.59L10.3 9.45l-7.72 7.72c-.78.78-.78 2.05 0 2.83L4 21.41c.39.39.9.59 1.41.59.51 0 1.02-.2 1.41-.59l7.78-7.78 2.81-2.81c.8-.78.8-2.07 0-2.86zM5.41 20L4 18.59l7.72-7.72 1.47 1.35L5.41 20z\"/>\n",
              "  </svg>\n",
              "      </button>\n",
              "      \n",
              "  <style>\n",
              "    .colab-df-container {\n",
              "      display:flex;\n",
              "      flex-wrap:wrap;\n",
              "      gap: 12px;\n",
              "    }\n",
              "\n",
              "    .colab-df-convert {\n",
              "      background-color: #E8F0FE;\n",
              "      border: none;\n",
              "      border-radius: 50%;\n",
              "      cursor: pointer;\n",
              "      display: none;\n",
              "      fill: #1967D2;\n",
              "      height: 32px;\n",
              "      padding: 0 0 0 0;\n",
              "      width: 32px;\n",
              "    }\n",
              "\n",
              "    .colab-df-convert:hover {\n",
              "      background-color: #E2EBFA;\n",
              "      box-shadow: 0px 1px 2px rgba(60, 64, 67, 0.3), 0px 1px 3px 1px rgba(60, 64, 67, 0.15);\n",
              "      fill: #174EA6;\n",
              "    }\n",
              "\n",
              "    [theme=dark] .colab-df-convert {\n",
              "      background-color: #3B4455;\n",
              "      fill: #D2E3FC;\n",
              "    }\n",
              "\n",
              "    [theme=dark] .colab-df-convert:hover {\n",
              "      background-color: #434B5C;\n",
              "      box-shadow: 0px 1px 3px 1px rgba(0, 0, 0, 0.15);\n",
              "      filter: drop-shadow(0px 1px 2px rgba(0, 0, 0, 0.3));\n",
              "      fill: #FFFFFF;\n",
              "    }\n",
              "  </style>\n",
              "\n",
              "      <script>\n",
              "        const buttonEl =\n",
              "          document.querySelector('#df-c782be9f-536a-4452-a152-8ebbeaa8fcd2 button.colab-df-convert');\n",
              "        buttonEl.style.display =\n",
              "          google.colab.kernel.accessAllowed ? 'block' : 'none';\n",
              "\n",
              "        async function convertToInteractive(key) {\n",
              "          const element = document.querySelector('#df-c782be9f-536a-4452-a152-8ebbeaa8fcd2');\n",
              "          const dataTable =\n",
              "            await google.colab.kernel.invokeFunction('convertToInteractive',\n",
              "                                                     [key], {});\n",
              "          if (!dataTable) return;\n",
              "\n",
              "          const docLinkHtml = 'Like what you see? Visit the ' +\n",
              "            '<a target=\"_blank\" href=https://colab.research.google.com/notebooks/data_table.ipynb>data table notebook</a>'\n",
              "            + ' to learn more about interactive tables.';\n",
              "          element.innerHTML = '';\n",
              "          dataTable['output_type'] = 'display_data';\n",
              "          await google.colab.output.renderOutput(dataTable, element);\n",
              "          const docLink = document.createElement('div');\n",
              "          docLink.innerHTML = docLinkHtml;\n",
              "          element.appendChild(docLink);\n",
              "        }\n",
              "      </script>\n",
              "    </div>\n",
              "  </div>\n",
              "  "
            ]
          },
          "metadata": {}
        },
        {
          "output_type": "display_data",
          "data": {
            "text/plain": [
              "              age         sex          cp    trestbps        chol         fbs  \\\n",
              "count  886.000000  886.000000  886.000000  886.000000  886.000000  886.000000   \n",
              "mean    54.007901    0.683973    1.005643  132.117381  247.497743    0.168172   \n",
              "std      9.126292    0.465186    1.024542   16.807511   47.209995    0.374230   \n",
              "min     29.000000    0.000000    0.000000   94.000000  126.000000    0.000000   \n",
              "25%     47.000000    0.000000    0.000000  120.000000  212.000000    0.000000   \n",
              "50%     54.000000    1.000000    1.000000  130.000000  245.000000    0.000000   \n",
              "75%     60.000000    1.000000    2.000000  140.000000  274.000000    0.000000   \n",
              "max     77.000000    1.000000    3.000000  200.000000  564.000000    1.000000   \n",
              "\n",
              "          restecg     thalach       exang     oldpeak       slope          ca  \\\n",
              "count  886.000000  886.000000  886.000000  886.000000  886.000000  886.000000   \n",
              "mean     0.495485  149.492099    0.310384    1.083296    1.424379    0.714447   \n",
              "std      0.526669   23.921327    0.462912    1.147935    0.556861    1.028825   \n",
              "min      0.000000   71.000000    0.000000    0.000000    0.000000    0.000000   \n",
              "25%      0.000000  133.000000    0.000000    0.000000    1.000000    0.000000   \n",
              "50%      0.000000  153.000000    0.000000    0.800000    1.000000    0.000000   \n",
              "75%      1.000000  166.000000    1.000000    1.800000    2.000000    1.000000   \n",
              "max      2.000000  206.000000    1.000000    6.200000    2.000000    4.000000   \n",
              "\n",
              "             thal      target  \n",
              "count  886.000000  886.000000  \n",
              "mean     2.278781    0.564334  \n",
              "std      0.572576    0.496124  \n",
              "min      0.000000    0.000000  \n",
              "25%      2.000000    0.000000  \n",
              "50%      2.000000    1.000000  \n",
              "75%      3.000000    1.000000  \n",
              "max      3.000000    1.000000  "
            ],
            "text/html": [
              "\n",
              "  <div id=\"df-3aad861f-d7dc-4487-b695-ac339667ce60\">\n",
              "    <div class=\"colab-df-container\">\n",
              "      <div>\n",
              "<style scoped>\n",
              "    .dataframe tbody tr th:only-of-type {\n",
              "        vertical-align: middle;\n",
              "    }\n",
              "\n",
              "    .dataframe tbody tr th {\n",
              "        vertical-align: top;\n",
              "    }\n",
              "\n",
              "    .dataframe thead th {\n",
              "        text-align: right;\n",
              "    }\n",
              "</style>\n",
              "<table border=\"1\" class=\"dataframe\">\n",
              "  <thead>\n",
              "    <tr style=\"text-align: right;\">\n",
              "      <th></th>\n",
              "      <th>age</th>\n",
              "      <th>sex</th>\n",
              "      <th>cp</th>\n",
              "      <th>trestbps</th>\n",
              "      <th>chol</th>\n",
              "      <th>fbs</th>\n",
              "      <th>restecg</th>\n",
              "      <th>thalach</th>\n",
              "      <th>exang</th>\n",
              "      <th>oldpeak</th>\n",
              "      <th>slope</th>\n",
              "      <th>ca</th>\n",
              "      <th>thal</th>\n",
              "      <th>target</th>\n",
              "    </tr>\n",
              "  </thead>\n",
              "  <tbody>\n",
              "    <tr>\n",
              "      <th>count</th>\n",
              "      <td>886.000000</td>\n",
              "      <td>886.000000</td>\n",
              "      <td>886.000000</td>\n",
              "      <td>886.000000</td>\n",
              "      <td>886.000000</td>\n",
              "      <td>886.000000</td>\n",
              "      <td>886.000000</td>\n",
              "      <td>886.000000</td>\n",
              "      <td>886.000000</td>\n",
              "      <td>886.000000</td>\n",
              "      <td>886.000000</td>\n",
              "      <td>886.000000</td>\n",
              "      <td>886.000000</td>\n",
              "      <td>886.000000</td>\n",
              "    </tr>\n",
              "    <tr>\n",
              "      <th>mean</th>\n",
              "      <td>54.007901</td>\n",
              "      <td>0.683973</td>\n",
              "      <td>1.005643</td>\n",
              "      <td>132.117381</td>\n",
              "      <td>247.497743</td>\n",
              "      <td>0.168172</td>\n",
              "      <td>0.495485</td>\n",
              "      <td>149.492099</td>\n",
              "      <td>0.310384</td>\n",
              "      <td>1.083296</td>\n",
              "      <td>1.424379</td>\n",
              "      <td>0.714447</td>\n",
              "      <td>2.278781</td>\n",
              "      <td>0.564334</td>\n",
              "    </tr>\n",
              "    <tr>\n",
              "      <th>std</th>\n",
              "      <td>9.126292</td>\n",
              "      <td>0.465186</td>\n",
              "      <td>1.024542</td>\n",
              "      <td>16.807511</td>\n",
              "      <td>47.209995</td>\n",
              "      <td>0.374230</td>\n",
              "      <td>0.526669</td>\n",
              "      <td>23.921327</td>\n",
              "      <td>0.462912</td>\n",
              "      <td>1.147935</td>\n",
              "      <td>0.556861</td>\n",
              "      <td>1.028825</td>\n",
              "      <td>0.572576</td>\n",
              "      <td>0.496124</td>\n",
              "    </tr>\n",
              "    <tr>\n",
              "      <th>min</th>\n",
              "      <td>29.000000</td>\n",
              "      <td>0.000000</td>\n",
              "      <td>0.000000</td>\n",
              "      <td>94.000000</td>\n",
              "      <td>126.000000</td>\n",
              "      <td>0.000000</td>\n",
              "      <td>0.000000</td>\n",
              "      <td>71.000000</td>\n",
              "      <td>0.000000</td>\n",
              "      <td>0.000000</td>\n",
              "      <td>0.000000</td>\n",
              "      <td>0.000000</td>\n",
              "      <td>0.000000</td>\n",
              "      <td>0.000000</td>\n",
              "    </tr>\n",
              "    <tr>\n",
              "      <th>25%</th>\n",
              "      <td>47.000000</td>\n",
              "      <td>0.000000</td>\n",
              "      <td>0.000000</td>\n",
              "      <td>120.000000</td>\n",
              "      <td>212.000000</td>\n",
              "      <td>0.000000</td>\n",
              "      <td>0.000000</td>\n",
              "      <td>133.000000</td>\n",
              "      <td>0.000000</td>\n",
              "      <td>0.000000</td>\n",
              "      <td>1.000000</td>\n",
              "      <td>0.000000</td>\n",
              "      <td>2.000000</td>\n",
              "      <td>0.000000</td>\n",
              "    </tr>\n",
              "    <tr>\n",
              "      <th>50%</th>\n",
              "      <td>54.000000</td>\n",
              "      <td>1.000000</td>\n",
              "      <td>1.000000</td>\n",
              "      <td>130.000000</td>\n",
              "      <td>245.000000</td>\n",
              "      <td>0.000000</td>\n",
              "      <td>0.000000</td>\n",
              "      <td>153.000000</td>\n",
              "      <td>0.000000</td>\n",
              "      <td>0.800000</td>\n",
              "      <td>1.000000</td>\n",
              "      <td>0.000000</td>\n",
              "      <td>2.000000</td>\n",
              "      <td>1.000000</td>\n",
              "    </tr>\n",
              "    <tr>\n",
              "      <th>75%</th>\n",
              "      <td>60.000000</td>\n",
              "      <td>1.000000</td>\n",
              "      <td>2.000000</td>\n",
              "      <td>140.000000</td>\n",
              "      <td>274.000000</td>\n",
              "      <td>0.000000</td>\n",
              "      <td>1.000000</td>\n",
              "      <td>166.000000</td>\n",
              "      <td>1.000000</td>\n",
              "      <td>1.800000</td>\n",
              "      <td>2.000000</td>\n",
              "      <td>1.000000</td>\n",
              "      <td>3.000000</td>\n",
              "      <td>1.000000</td>\n",
              "    </tr>\n",
              "    <tr>\n",
              "      <th>max</th>\n",
              "      <td>77.000000</td>\n",
              "      <td>1.000000</td>\n",
              "      <td>3.000000</td>\n",
              "      <td>200.000000</td>\n",
              "      <td>564.000000</td>\n",
              "      <td>1.000000</td>\n",
              "      <td>2.000000</td>\n",
              "      <td>206.000000</td>\n",
              "      <td>1.000000</td>\n",
              "      <td>6.200000</td>\n",
              "      <td>2.000000</td>\n",
              "      <td>4.000000</td>\n",
              "      <td>3.000000</td>\n",
              "      <td>1.000000</td>\n",
              "    </tr>\n",
              "  </tbody>\n",
              "</table>\n",
              "</div>\n",
              "      <button class=\"colab-df-convert\" onclick=\"convertToInteractive('df-3aad861f-d7dc-4487-b695-ac339667ce60')\"\n",
              "              title=\"Convert this dataframe to an interactive table.\"\n",
              "              style=\"display:none;\">\n",
              "        \n",
              "  <svg xmlns=\"http://www.w3.org/2000/svg\" height=\"24px\"viewBox=\"0 0 24 24\"\n",
              "       width=\"24px\">\n",
              "    <path d=\"M0 0h24v24H0V0z\" fill=\"none\"/>\n",
              "    <path d=\"M18.56 5.44l.94 2.06.94-2.06 2.06-.94-2.06-.94-.94-2.06-.94 2.06-2.06.94zm-11 1L8.5 8.5l.94-2.06 2.06-.94-2.06-.94L8.5 2.5l-.94 2.06-2.06.94zm10 10l.94 2.06.94-2.06 2.06-.94-2.06-.94-.94-2.06-.94 2.06-2.06.94z\"/><path d=\"M17.41 7.96l-1.37-1.37c-.4-.4-.92-.59-1.43-.59-.52 0-1.04.2-1.43.59L10.3 9.45l-7.72 7.72c-.78.78-.78 2.05 0 2.83L4 21.41c.39.39.9.59 1.41.59.51 0 1.02-.2 1.41-.59l7.78-7.78 2.81-2.81c.8-.78.8-2.07 0-2.86zM5.41 20L4 18.59l7.72-7.72 1.47 1.35L5.41 20z\"/>\n",
              "  </svg>\n",
              "      </button>\n",
              "      \n",
              "  <style>\n",
              "    .colab-df-container {\n",
              "      display:flex;\n",
              "      flex-wrap:wrap;\n",
              "      gap: 12px;\n",
              "    }\n",
              "\n",
              "    .colab-df-convert {\n",
              "      background-color: #E8F0FE;\n",
              "      border: none;\n",
              "      border-radius: 50%;\n",
              "      cursor: pointer;\n",
              "      display: none;\n",
              "      fill: #1967D2;\n",
              "      height: 32px;\n",
              "      padding: 0 0 0 0;\n",
              "      width: 32px;\n",
              "    }\n",
              "\n",
              "    .colab-df-convert:hover {\n",
              "      background-color: #E2EBFA;\n",
              "      box-shadow: 0px 1px 2px rgba(60, 64, 67, 0.3), 0px 1px 3px 1px rgba(60, 64, 67, 0.15);\n",
              "      fill: #174EA6;\n",
              "    }\n",
              "\n",
              "    [theme=dark] .colab-df-convert {\n",
              "      background-color: #3B4455;\n",
              "      fill: #D2E3FC;\n",
              "    }\n",
              "\n",
              "    [theme=dark] .colab-df-convert:hover {\n",
              "      background-color: #434B5C;\n",
              "      box-shadow: 0px 1px 3px 1px rgba(0, 0, 0, 0.15);\n",
              "      filter: drop-shadow(0px 1px 2px rgba(0, 0, 0, 0.3));\n",
              "      fill: #FFFFFF;\n",
              "    }\n",
              "  </style>\n",
              "\n",
              "      <script>\n",
              "        const buttonEl =\n",
              "          document.querySelector('#df-3aad861f-d7dc-4487-b695-ac339667ce60 button.colab-df-convert');\n",
              "        buttonEl.style.display =\n",
              "          google.colab.kernel.accessAllowed ? 'block' : 'none';\n",
              "\n",
              "        async function convertToInteractive(key) {\n",
              "          const element = document.querySelector('#df-3aad861f-d7dc-4487-b695-ac339667ce60');\n",
              "          const dataTable =\n",
              "            await google.colab.kernel.invokeFunction('convertToInteractive',\n",
              "                                                     [key], {});\n",
              "          if (!dataTable) return;\n",
              "\n",
              "          const docLinkHtml = 'Like what you see? Visit the ' +\n",
              "            '<a target=\"_blank\" href=https://colab.research.google.com/notebooks/data_table.ipynb>data table notebook</a>'\n",
              "            + ' to learn more about interactive tables.';\n",
              "          element.innerHTML = '';\n",
              "          dataTable['output_type'] = 'display_data';\n",
              "          await google.colab.output.renderOutput(dataTable, element);\n",
              "          const docLink = document.createElement('div');\n",
              "          docLink.innerHTML = docLinkHtml;\n",
              "          element.appendChild(docLink);\n",
              "        }\n",
              "      </script>\n",
              "    </div>\n",
              "  </div>\n",
              "  "
            ]
          },
          "metadata": {}
        }
      ],
      "source": [
        "import pandas as pd\n",
        "PATH = \"/content/drive/MyDrive/week 02/heart.csv\" # Path to your file\n",
        "\n",
        "df = read_dataset(PATH)\n",
        "#ToDo: Show histogram of dataframe"
      ],
      "metadata": {
        "id": "G8aJO4Rj8Kov",
        "colab": {
          "base_uri": "https://localhost:8080/",
          "height": 489
        },
        "outputId": "15460b8c-02bb-4743-d55e-ac0221284519"
      }
    },
    {
      "cell_type": "markdown",
      "source": [
        "## Data Analysis"
      ],
      "metadata": {
        "collapsed": false,
        "id": "mk4IrtwS8Kow"
      }
    },
    {
      "cell_type": "code",
      "source": [
        "df.info()"
      ],
      "metadata": {
        "colab": {
          "base_uri": "https://localhost:8080/"
        },
        "id": "0lk2sGcVaFO6",
        "outputId": "c2c461e3-55ac-4d0e-e2a7-a1bea31a0c21"
      },
      "execution_count": 4,
      "outputs": [
        {
          "output_type": "stream",
          "name": "stdout",
          "text": [
            "<class 'pandas.core.frame.DataFrame'>\n",
            "RangeIndex: 886 entries, 0 to 885\n",
            "Data columns (total 14 columns):\n",
            " #   Column    Non-Null Count  Dtype  \n",
            "---  ------    --------------  -----  \n",
            " 0   age       886 non-null    int64  \n",
            " 1   sex       886 non-null    int64  \n",
            " 2   cp        886 non-null    int64  \n",
            " 3   trestbps  886 non-null    int64  \n",
            " 4   chol      886 non-null    int64  \n",
            " 5   fbs       886 non-null    int64  \n",
            " 6   restecg   886 non-null    int64  \n",
            " 7   thalach   886 non-null    int64  \n",
            " 8   exang     886 non-null    int64  \n",
            " 9   oldpeak   886 non-null    float64\n",
            " 10  slope     886 non-null    int64  \n",
            " 11  ca        886 non-null    int64  \n",
            " 12  thal      886 non-null    int64  \n",
            " 13  target    886 non-null    int64  \n",
            "dtypes: float64(1), int64(13)\n",
            "memory usage: 97.0 KB\n"
          ]
        }
      ]
    },
    {
      "cell_type": "code",
      "source": [
        "print(\"Quantitative columns \\n\")\n",
        "print(df.describe())\n",
        "print()\n",
        "print(\"Qualitative and Quantitative columns \\n\")\n",
        "print(df.describe(include=[object, float]))"
      ],
      "metadata": {
        "colab": {
          "base_uri": "https://localhost:8080/"
        },
        "id": "KanDUfVQaNhY",
        "outputId": "343e008a-3c58-4f09-ed7e-9afef37864fb"
      },
      "execution_count": 5,
      "outputs": [
        {
          "output_type": "stream",
          "name": "stdout",
          "text": [
            "Quantitative columns \n",
            "\n",
            "              age         sex          cp    trestbps        chol         fbs  \\\n",
            "count  886.000000  886.000000  886.000000  886.000000  886.000000  886.000000   \n",
            "mean    54.007901    0.683973    1.005643  132.117381  247.497743    0.168172   \n",
            "std      9.126292    0.465186    1.024542   16.807511   47.209995    0.374230   \n",
            "min     29.000000    0.000000    0.000000   94.000000  126.000000    0.000000   \n",
            "25%     47.000000    0.000000    0.000000  120.000000  212.000000    0.000000   \n",
            "50%     54.000000    1.000000    1.000000  130.000000  245.000000    0.000000   \n",
            "75%     60.000000    1.000000    2.000000  140.000000  274.000000    0.000000   \n",
            "max     77.000000    1.000000    3.000000  200.000000  564.000000    1.000000   \n",
            "\n",
            "          restecg     thalach       exang     oldpeak       slope          ca  \\\n",
            "count  886.000000  886.000000  886.000000  886.000000  886.000000  886.000000   \n",
            "mean     0.495485  149.492099    0.310384    1.083296    1.424379    0.714447   \n",
            "std      0.526669   23.921327    0.462912    1.147935    0.556861    1.028825   \n",
            "min      0.000000   71.000000    0.000000    0.000000    0.000000    0.000000   \n",
            "25%      0.000000  133.000000    0.000000    0.000000    1.000000    0.000000   \n",
            "50%      0.000000  153.000000    0.000000    0.800000    1.000000    0.000000   \n",
            "75%      1.000000  166.000000    1.000000    1.800000    2.000000    1.000000   \n",
            "max      2.000000  206.000000    1.000000    6.200000    2.000000    4.000000   \n",
            "\n",
            "             thal      target  \n",
            "count  886.000000  886.000000  \n",
            "mean     2.278781    0.564334  \n",
            "std      0.572576    0.496124  \n",
            "min      0.000000    0.000000  \n",
            "25%      2.000000    0.000000  \n",
            "50%      2.000000    1.000000  \n",
            "75%      3.000000    1.000000  \n",
            "max      3.000000    1.000000  \n",
            "\n",
            "Qualitative and Quantitative columns \n",
            "\n",
            "          oldpeak\n",
            "count  886.000000\n",
            "mean     1.083296\n",
            "std      1.147935\n",
            "min      0.000000\n",
            "25%      0.000000\n",
            "50%      0.800000\n",
            "75%      1.800000\n",
            "max      6.200000\n"
          ]
        }
      ]
    },
    {
      "cell_type": "code",
      "source": [
        "print(\"Continuous Columns\") #định tính\n",
        "continous_columns = df.describe().columns\n",
        "print(continous_columns)\n",
        "\n",
        "# print(\"Categorical Columns\") #định lượng\n",
        "# categorical_columns = df.describe(include=[object]).columns\n",
        "# print(categorical_columns)"
      ],
      "metadata": {
        "colab": {
          "base_uri": "https://localhost:8080/"
        },
        "id": "LfKQKqn2aea0",
        "outputId": "adec078c-355e-4f08-b0f4-e6c970b0982d"
      },
      "execution_count": 6,
      "outputs": [
        {
          "output_type": "stream",
          "name": "stdout",
          "text": [
            "Continuous Columns\n",
            "Index(['age', 'sex', 'cp', 'trestbps', 'chol', 'fbs', 'restecg', 'thalach',\n",
            "       'exang', 'oldpeak', 'slope', 'ca', 'thal', 'target'],\n",
            "      dtype='object')\n"
          ]
        }
      ]
    },
    {
      "cell_type": "code",
      "execution_count": 7,
      "outputs": [
        {
          "output_type": "execute_result",
          "data": {
            "text/plain": [
              "array([[<Axes: title={'center': 'age'}>, <Axes: title={'center': 'sex'}>,\n",
              "        <Axes: title={'center': 'cp'}>,\n",
              "        <Axes: title={'center': 'trestbps'}>],\n",
              "       [<Axes: title={'center': 'chol'}>,\n",
              "        <Axes: title={'center': 'fbs'}>,\n",
              "        <Axes: title={'center': 'restecg'}>,\n",
              "        <Axes: title={'center': 'thalach'}>],\n",
              "       [<Axes: title={'center': 'exang'}>,\n",
              "        <Axes: title={'center': 'oldpeak'}>,\n",
              "        <Axes: title={'center': 'slope'}>,\n",
              "        <Axes: title={'center': 'ca'}>],\n",
              "       [<Axes: title={'center': 'thal'}>,\n",
              "        <Axes: title={'center': 'target'}>, <Axes: >, <Axes: >]],\n",
              "      dtype=object)"
            ]
          },
          "metadata": {},
          "execution_count": 7
        },
        {
          "output_type": "display_data",
          "data": {
            "text/plain": [
              "<Figure size 1000x1000 with 16 Axes>"
            ],
            "image/png": "[encoded data removed]"
          },
          "metadata": {}
        }
      ],
      "source": [
        "# Data analysis\n",
        "# Todo: analyze your data here\n",
        "import seaborn as sns\n",
        "df.hist(column=continous_columns, figsize=(10, 10))"
      ],
      "metadata": {
        "id": "Z4z7vGmJ8Kox",
        "colab": {
          "base_uri": "https://localhost:8080/",
          "height": 1000
        },
        "outputId": "42e2510b-d7dd-4ede-b22b-eb2301cae6d5"
      }
    },
    {
      "cell_type": "code",
      "source": [
        "sns.histplot(x='age', data=df)"
      ],
      "metadata": {
        "colab": {
          "base_uri": "https://localhost:8080/",
          "height": 466
        },
        "id": "tqcTuuBqbGVd",
        "outputId": "739dd5d0-26f2-4ea6-baaa-a80398ff0a81"
      },
      "execution_count": 8,
      "outputs": [
        {
          "output_type": "execute_result",
          "data": {
            "text/plain": [
              "<Axes: xlabel='age', ylabel='Count'>"
            ]
          },
          "metadata": {},
          "execution_count": 8
        },
        {
          "output_type": "display_data",
          "data": {
            "text/plain": [
              "<Figure size 640x480 with 1 Axes>"
            ],
            "image/png": "[encoded data removed]"
          },
          "metadata": {}
        }
      ]
    },
    {
      "cell_type": "code",
      "source": [
        "sns.histplot(x='trestbps', data=df)"
      ],
      "metadata": {
        "colab": {
          "base_uri": "https://localhost:8080/",
          "height": 466
        },
        "id": "VXKSBoEjls_9",
        "outputId": "eef19131-ff18-4325-a5a2-f62df241196c"
      },
      "execution_count": 9,
      "outputs": [
        {
          "output_type": "execute_result",
          "data": {
            "text/plain": [
              "<Axes: xlabel='trestbps', ylabel='Count'>"
            ]
          },
          "metadata": {},
          "execution_count": 9
        },
        {
          "output_type": "display_data",
          "data": {
            "text/plain": [
              "<Figure size 640x480 with 1 Axes>"
            ],
            "image/png": "[encoded data removed]"
          },
          "metadata": {}
        }
      ]
    },
    {
      "cell_type": "code",
      "source": [
        "sns.histplot(x='chol', data=df)"
      ],
      "metadata": {
        "colab": {
          "base_uri": "https://localhost:8080/",
          "height": 466
        },
        "id": "LOzd45Wvlw3L",
        "outputId": "6e46d6a8-e460-4c20-92e0-b9ac08479c5b"
      },
      "execution_count": 10,
      "outputs": [
        {
          "output_type": "execute_result",
          "data": {
            "text/plain": [
              "<Axes: xlabel='chol', ylabel='Count'>"
            ]
          },
          "metadata": {},
          "execution_count": 10
        },
        {
          "output_type": "display_data",
          "data": {
            "text/plain": [
              "<Figure size 640x480 with 1 Axes>"
            ],
            "image/png": "[encoded data removed]"
          },
          "metadata": {}
        }
      ]
    },
    {
      "cell_type": "code",
      "source": [
        "sns.histplot(x='thalach', data=df)"
      ],
      "metadata": {
        "colab": {
          "base_uri": "https://localhost:8080/",
          "height": 466
        },
        "id": "i13bM6TLl279",
        "outputId": "f58395ee-dba4-4a82-df46-afd1a267b2a0"
      },
      "execution_count": 11,
      "outputs": [
        {
          "output_type": "execute_result",
          "data": {
            "text/plain": [
              "<Axes: xlabel='thalach', ylabel='Count'>"
            ]
          },
          "metadata": {},
          "execution_count": 11
        },
        {
          "output_type": "display_data",
          "data": {
            "text/plain": [
              "<Figure size 640x480 with 1 Axes>"
            ],
            "image/png": "[encoded data removed]"
          },
          "metadata": {}
        }
      ]
    },
    {
      "cell_type": "code",
      "source": [
        "sns.histplot(x='oldpeak', data=df)"
      ],
      "metadata": {
        "colab": {
          "base_uri": "https://localhost:8080/",
          "height": 466
        },
        "id": "PlAWl4xDl5L1",
        "outputId": "b8893984-7212-464f-ba84-77cd2e5439fe"
      },
      "execution_count": 12,
      "outputs": [
        {
          "output_type": "execute_result",
          "data": {
            "text/plain": [
              "<Axes: xlabel='oldpeak', ylabel='Count'>"
            ]
          },
          "metadata": {},
          "execution_count": 12
        },
        {
          "output_type": "display_data",
          "data": {
            "text/plain": [
              "<Figure size 640x480 with 1 Axes>"
            ],
            "image/png": "[encoded data removed]"
          },
          "metadata": {}
        }
      ]
    },
    {
      "cell_type": "code",
      "source": [
        "sns.countplot(y='sex', data=df, hue='target')"
      ],
      "metadata": {
        "colab": {
          "base_uri": "https://localhost:8080/",
          "height": 466
        },
        "id": "MIaFEXpUvSo-",
        "outputId": "088a5309-d340-4f7b-a2ca-3471a9f73224"
      },
      "execution_count": 13,
      "outputs": [
        {
          "output_type": "execute_result",
          "data": {
            "text/plain": [
              "<Axes: xlabel='count', ylabel='sex'>"
            ]
          },
          "metadata": {},
          "execution_count": 13
        },
        {
          "output_type": "display_data",
          "data": {
            "text/plain": [
              "<Figure size 640x480 with 1 Axes>"
            ],
            "image/png": "[encoded data removed]"
          },
          "metadata": {}
        }
      ]
    },
    {
      "cell_type": "code",
      "source": [
        "sns.countplot(y='cp', data=df, hue='target')"
      ],
      "metadata": {
        "colab": {
          "base_uri": "https://localhost:8080/",
          "height": 466
        },
        "id": "eXEh0pmtvygr",
        "outputId": "bf7daf46-4740-4d84-ae4c-89f4dde6c34d"
      },
      "execution_count": 14,
      "outputs": [
        {
          "output_type": "execute_result",
          "data": {
            "text/plain": [
              "<Axes: xlabel='count', ylabel='cp'>"
            ]
          },
          "metadata": {},
          "execution_count": 14
        },
        {
          "output_type": "display_data",
          "data": {
            "text/plain": [
              "<Figure size 640x480 with 1 Axes>"
            ],
            "image/png": "[encoded data removed]"
          },
          "metadata": {}
        }
      ]
    },
    {
      "cell_type": "code",
      "source": [
        "sns.countplot(x = 'target', data=df)"
      ],
      "metadata": {
        "colab": {
          "base_uri": "https://localhost:8080/",
          "height": 466
        },
        "id": "EJP2uBCcbSbx",
        "outputId": "d0f5fee4-c2b9-4e57-d551-9ead7e0ccd05"
      },
      "execution_count": 15,
      "outputs": [
        {
          "output_type": "execute_result",
          "data": {
            "text/plain": [
              "<Axes: xlabel='target', ylabel='count'>"
            ]
          },
          "metadata": {},
          "execution_count": 15
        },
        {
          "output_type": "display_data",
          "data": {
            "text/plain": [
              "<Figure size 640x480 with 1 Axes>"
            ],
            "image/png": "[encoded data removed]"
          },
          "metadata": {}
        }
      ]
    },
    {
      "cell_type": "markdown",
      "source": [
        "The target data is likely balanced so it is no need balancing the data"
      ],
      "metadata": {
        "id": "nqzvqucRxeoq"
      }
    },
    {
      "cell_type": "markdown",
      "source": [
        "## Preprocessing"
      ],
      "metadata": {
        "collapsed": false,
        "id": "flqsM83K8Kox"
      }
    },
    {
      "cell_type": "code",
      "source": [
        "#check null\n",
        "df.isnull().sum()"
      ],
      "metadata": {
        "colab": {
          "base_uri": "https://localhost:8080/"
        },
        "id": "P3NWjBDea0vX",
        "outputId": "a362a19f-76a1-4eaf-f5c2-6823f02fa5c1"
      },
      "execution_count": 16,
      "outputs": [
        {
          "output_type": "execute_result",
          "data": {
            "text/plain": [
              "age         0\n",
              "sex         0\n",
              "cp          0\n",
              "trestbps    0\n",
              "chol        0\n",
              "fbs         0\n",
              "restecg     0\n",
              "thalach     0\n",
              "exang       0\n",
              "oldpeak     0\n",
              "slope       0\n",
              "ca          0\n",
              "thal        0\n",
              "target      0\n",
              "dtype: int64"
            ]
          },
          "metadata": {},
          "execution_count": 16
        }
      ]
    },
    {
      "cell_type": "code",
      "source": [
        "#As we can see, the datasets are kinda clean and there are no missing datas."
      ],
      "metadata": {
        "id": "myGQoAc6a6nf"
      },
      "execution_count": 17,
      "outputs": []
    },
    {
      "cell_type": "code",
      "source": [
        "display(df.corr())\n",
        "display(sns.heatmap(df.corr()))"
      ],
      "metadata": {
        "colab": {
          "base_uri": "https://localhost:8080/",
          "height": 966
        },
        "id": "mAvpk6ZxogPy",
        "outputId": "df87f353-d0ae-4115-fe47-ed6f0f91c963"
      },
      "execution_count": 18,
      "outputs": [
        {
          "output_type": "display_data",
          "data": {
            "text/plain": [
              "               age       sex        cp  trestbps      chol       fbs  \\\n",
              "age       1.000000 -0.078459 -0.038434  0.337231  0.222152  0.187199   \n",
              "sex      -0.078459  1.000000  0.013230  0.064870 -0.280802  0.123895   \n",
              "cp       -0.038434  0.013230  1.000000  0.063611 -0.157302  0.094775   \n",
              "trestbps  0.337231  0.064870  0.063611  1.000000  0.022509  0.157461   \n",
              "chol      0.222152 -0.280802 -0.157302  0.022509  1.000000 -0.079892   \n",
              "fbs       0.187199  0.123895  0.094775  0.157461 -0.079892  1.000000   \n",
              "restecg   0.086401 -0.241043  0.047164 -0.106654  0.006748 -0.039141   \n",
              "thalach  -0.364585 -0.096892  0.381308 -0.082958 -0.050853 -0.021372   \n",
              "exang     0.125929  0.130696 -0.434926 -0.006576  0.157342 -0.145109   \n",
              "oldpeak   0.260906  0.152399 -0.181597  0.169383  0.061578 -0.059736   \n",
              "slope    -0.219664 -0.009482  0.142356 -0.067141 -0.001511 -0.093437   \n",
              "ca        0.271855  0.120516 -0.283616  0.176673  0.213909  0.204107   \n",
              "thal      0.049096  0.212362 -0.253087  0.053659  0.151240 -0.113579   \n",
              "target   -0.232576 -0.283901  0.520575 -0.194818 -0.093199  0.017736   \n",
              "\n",
              "           restecg   thalach     exang   oldpeak     slope        ca  \\\n",
              "age       0.086401 -0.364585  0.125929  0.260906 -0.219664  0.271855   \n",
              "sex      -0.241043 -0.096892  0.130696  0.152399 -0.009482  0.120516   \n",
              "cp        0.047164  0.381308 -0.434926 -0.181597  0.142356 -0.283616   \n",
              "trestbps -0.106654 -0.082958 -0.006576  0.169383 -0.067141  0.176673   \n",
              "chol      0.006748 -0.050853  0.157342  0.061578 -0.001511  0.213909   \n",
              "fbs      -0.039141 -0.021372 -0.145109 -0.059736 -0.093437  0.204107   \n",
              "restecg   1.000000  0.088967 -0.079988 -0.050961  0.114417 -0.109777   \n",
              "thalach   0.088967  1.000000 -0.420237 -0.398322  0.463312 -0.298086   \n",
              "exang    -0.079988 -0.420237  1.000000  0.269824 -0.296775  0.219526   \n",
              "oldpeak  -0.050961 -0.398322  0.269824  1.000000 -0.503280  0.287669   \n",
              "slope     0.114417  0.463312 -0.296775 -0.503280  1.000000 -0.204391   \n",
              "ca       -0.109777 -0.298086  0.219526  0.287669 -0.204391  1.000000   \n",
              "thal     -0.035165 -0.128411  0.291320  0.245363 -0.080877  0.187080   \n",
              "target    0.143819  0.512224 -0.492947 -0.540943  0.412311 -0.489730   \n",
              "\n",
              "              thal    target  \n",
              "age       0.049096 -0.232576  \n",
              "sex       0.212362 -0.283901  \n",
              "cp       -0.253087  0.520575  \n",
              "trestbps  0.053659 -0.194818  \n",
              "chol      0.151240 -0.093199  \n",
              "fbs      -0.113579  0.017736  \n",
              "restecg  -0.035165  0.143819  \n",
              "thalach  -0.128411  0.512224  \n",
              "exang     0.291320 -0.492947  \n",
              "oldpeak   0.245363 -0.540943  \n",
              "slope    -0.080877  0.412311  \n",
              "ca        0.187080 -0.489730  \n",
              "thal      1.000000 -0.443080  \n",
              "target   -0.443080  1.000000  "
            ],
            "text/html": [
              "\n",
              "  <div id=\"df-5cc1cc0b-effa-458c-b0b7-dbf8421a7f39\">\n",
              "    <div class=\"colab-df-container\">\n",
              "      <div>\n",
              "<style scoped>\n",
              "    .dataframe tbody tr th:only-of-type {\n",
              "        vertical-align: middle;\n",
              "    }\n",
              "\n",
              "    .dataframe tbody tr th {\n",
              "        vertical-align: top;\n",
              "    }\n",
              "\n",
              "    .dataframe thead th {\n",
              "        text-align: right;\n",
              "    }\n",
              "</style>\n",
              "<table border=\"1\" class=\"dataframe\">\n",
              "  <thead>\n",
              "    <tr style=\"text-align: right;\">\n",
              "      <th></th>\n",
              "      <th>age</th>\n",
              "      <th>sex</th>\n",
              "      <th>cp</th>\n",
              "      <th>trestbps</th>\n",
              "      <th>chol</th>\n",
              "      <th>fbs</th>\n",
              "      <th>restecg</th>\n",
              "      <th>thalach</th>\n",
              "      <th>exang</th>\n",
              "      <th>oldpeak</th>\n",
              "      <th>slope</th>\n",
              "      <th>ca</th>\n",
              "      <th>thal</th>\n",
              "      <th>target</th>\n",
              "    </tr>\n",
              "  </thead>\n",
              "  <tbody>\n",
              "    <tr>\n",
              "      <th>age</th>\n",
              "      <td>1.000000</td>\n",
              "      <td>-0.078459</td>\n",
              "      <td>-0.038434</td>\n",
              "      <td>0.337231</td>\n",
              "      <td>0.222152</td>\n",
              "      <td>0.187199</td>\n",
              "      <td>0.086401</td>\n",
              "      <td>-0.364585</td>\n",
              "      <td>0.125929</td>\n",
              "      <td>0.260906</td>\n",
              "      <td>-0.219664</td>\n",
              "      <td>0.271855</td>\n",
              "      <td>0.049096</td>\n",
              "      <td>-0.232576</td>\n",
              "    </tr>\n",
              "    <tr>\n",
              "      <th>sex</th>\n",
              "      <td>-0.078459</td>\n",
              "      <td>1.000000</td>\n",
              "      <td>0.013230</td>\n",
              "      <td>0.064870</td>\n",
              "      <td>-0.280802</td>\n",
              "      <td>0.123895</td>\n",
              "      <td>-0.241043</td>\n",
              "      <td>-0.096892</td>\n",
              "      <td>0.130696</td>\n",
              "      <td>0.152399</td>\n",
              "      <td>-0.009482</td>\n",
              "      <td>0.120516</td>\n",
              "      <td>0.212362</td>\n",
              "      <td>-0.283901</td>\n",
              "    </tr>\n",
              "    <tr>\n",
              "      <th>cp</th>\n",
              "      <td>-0.038434</td>\n",
              "      <td>0.013230</td>\n",
              "      <td>1.000000</td>\n",
              "      <td>0.063611</td>\n",
              "      <td>-0.157302</td>\n",
              "      <td>0.094775</td>\n",
              "      <td>0.047164</td>\n",
              "      <td>0.381308</td>\n",
              "      <td>-0.434926</td>\n",
              "      <td>-0.181597</td>\n",
              "      <td>0.142356</td>\n",
              "      <td>-0.283616</td>\n",
              "      <td>-0.253087</td>\n",
              "      <td>0.520575</td>\n",
              "    </tr>\n",
              "    <tr>\n",
              "      <th>trestbps</th>\n",
              "      <td>0.337231</td>\n",
              "      <td>0.064870</td>\n",
              "      <td>0.063611</td>\n",
              "      <td>1.000000</td>\n",
              "      <td>0.022509</td>\n",
              "      <td>0.157461</td>\n",
              "      <td>-0.106654</td>\n",
              "      <td>-0.082958</td>\n",
              "      <td>-0.006576</td>\n",
              "      <td>0.169383</td>\n",
              "      <td>-0.067141</td>\n",
              "      <td>0.176673</td>\n",
              "      <td>0.053659</td>\n",
              "      <td>-0.194818</td>\n",
              "    </tr>\n",
              "    <tr>\n",
              "      <th>chol</th>\n",
              "      <td>0.222152</td>\n",
              "      <td>-0.280802</td>\n",
              "      <td>-0.157302</td>\n",
              "      <td>0.022509</td>\n",
              "      <td>1.000000</td>\n",
              "      <td>-0.079892</td>\n",
              "      <td>0.006748</td>\n",
              "      <td>-0.050853</td>\n",
              "      <td>0.157342</td>\n",
              "      <td>0.061578</td>\n",
              "      <td>-0.001511</td>\n",
              "      <td>0.213909</td>\n",
              "      <td>0.151240</td>\n",
              "      <td>-0.093199</td>\n",
              "    </tr>\n",
              "    <tr>\n",
              "      <th>fbs</th>\n",
              "      <td>0.187199</td>\n",
              "      <td>0.123895</td>\n",
              "      <td>0.094775</td>\n",
              "      <td>0.157461</td>\n",
              "      <td>-0.079892</td>\n",
              "      <td>1.000000</td>\n",
              "      <td>-0.039141</td>\n",
              "      <td>-0.021372</td>\n",
              "      <td>-0.145109</td>\n",
              "      <td>-0.059736</td>\n",
              "      <td>-0.093437</td>\n",
              "      <td>0.204107</td>\n",
              "      <td>-0.113579</td>\n",
              "      <td>0.017736</td>\n",
              "    </tr>\n",
              "    <tr>\n",
              "      <th>restecg</th>\n",
              "      <td>0.086401</td>\n",
              "      <td>-0.241043</td>\n",
              "      <td>0.047164</td>\n",
              "      <td>-0.106654</td>\n",
              "      <td>0.006748</td>\n",
              "      <td>-0.039141</td>\n",
              "      <td>1.000000</td>\n",
              "      <td>0.088967</td>\n",
              "      <td>-0.079988</td>\n",
              "      <td>-0.050961</td>\n",
              "      <td>0.114417</td>\n",
              "      <td>-0.109777</td>\n",
              "      <td>-0.035165</td>\n",
              "      <td>0.143819</td>\n",
              "    </tr>\n",
              "    <tr>\n",
              "      <th>thalach</th>\n",
              "      <td>-0.364585</td>\n",
              "      <td>-0.096892</td>\n",
              "      <td>0.381308</td>\n",
              "      <td>-0.082958</td>\n",
              "      <td>-0.050853</td>\n",
              "      <td>-0.021372</td>\n",
              "      <td>0.088967</td>\n",
              "      <td>1.000000</td>\n",
              "      <td>-0.420237</td>\n",
              "      <td>-0.398322</td>\n",
              "      <td>0.463312</td>\n",
              "      <td>-0.298086</td>\n",
              "      <td>-0.128411</td>\n",
              "      <td>0.512224</td>\n",
              "    </tr>\n",
              "    <tr>\n",
              "      <th>exang</th>\n",
              "      <td>0.125929</td>\n",
              "      <td>0.130696</td>\n",
              "      <td>-0.434926</td>\n",
              "      <td>-0.006576</td>\n",
              "      <td>0.157342</td>\n",
              "      <td>-0.145109</td>\n",
              "      <td>-0.079988</td>\n",
              "      <td>-0.420237</td>\n",
              "      <td>1.000000</td>\n",
              "      <td>0.269824</td>\n",
              "      <td>-0.296775</td>\n",
              "      <td>0.219526</td>\n",
              "      <td>0.291320</td>\n",
              "      <td>-0.492947</td>\n",
              "    </tr>\n",
              "    <tr>\n",
              "      <th>oldpeak</th>\n",
              "      <td>0.260906</td>\n",
              "      <td>0.152399</td>\n",
              "      <td>-0.181597</td>\n",
              "      <td>0.169383</td>\n",
              "      <td>0.061578</td>\n",
              "      <td>-0.059736</td>\n",
              "      <td>-0.050961</td>\n",
              "      <td>-0.398322</td>\n",
              "      <td>0.269824</td>\n",
              "      <td>1.000000</td>\n",
              "      <td>-0.503280</td>\n",
              "      <td>0.287669</td>\n",
              "      <td>0.245363</td>\n",
              "      <td>-0.540943</td>\n",
              "    </tr>\n",
              "    <tr>\n",
              "      <th>slope</th>\n",
              "      <td>-0.219664</td>\n",
              "      <td>-0.009482</td>\n",
              "      <td>0.142356</td>\n",
              "      <td>-0.067141</td>\n",
              "      <td>-0.001511</td>\n",
              "      <td>-0.093437</td>\n",
              "      <td>0.114417</td>\n",
              "      <td>0.463312</td>\n",
              "      <td>-0.296775</td>\n",
              "      <td>-0.503280</td>\n",
              "      <td>1.000000</td>\n",
              "      <td>-0.204391</td>\n",
              "      <td>-0.080877</td>\n",
              "      <td>0.412311</td>\n",
              "    </tr>\n",
              "    <tr>\n",
              "      <th>ca</th>\n",
              "      <td>0.271855</td>\n",
              "      <td>0.120516</td>\n",
              "      <td>-0.283616</td>\n",
              "      <td>0.176673</td>\n",
              "      <td>0.213909</td>\n",
              "      <td>0.204107</td>\n",
              "      <td>-0.109777</td>\n",
              "      <td>-0.298086</td>\n",
              "      <td>0.219526</td>\n",
              "      <td>0.287669</td>\n",
              "      <td>-0.204391</td>\n",
              "      <td>1.000000</td>\n",
              "      <td>0.187080</td>\n",
              "      <td>-0.489730</td>\n",
              "    </tr>\n",
              "    <tr>\n",
              "      <th>thal</th>\n",
              "      <td>0.049096</td>\n",
              "      <td>0.212362</td>\n",
              "      <td>-0.253087</td>\n",
              "      <td>0.053659</td>\n",
              "      <td>0.151240</td>\n",
              "      <td>-0.113579</td>\n",
              "      <td>-0.035165</td>\n",
              "      <td>-0.128411</td>\n",
              "      <td>0.291320</td>\n",
              "      <td>0.245363</td>\n",
              "      <td>-0.080877</td>\n",
              "      <td>0.187080</td>\n",
              "      <td>1.000000</td>\n",
              "      <td>-0.443080</td>\n",
              "    </tr>\n",
              "    <tr>\n",
              "      <th>target</th>\n",
              "      <td>-0.232576</td>\n",
              "      <td>-0.283901</td>\n",
              "      <td>0.520575</td>\n",
              "      <td>-0.194818</td>\n",
              "      <td>-0.093199</td>\n",
              "      <td>0.017736</td>\n",
              "      <td>0.143819</td>\n",
              "      <td>0.512224</td>\n",
              "      <td>-0.492947</td>\n",
              "      <td>-0.540943</td>\n",
              "      <td>0.412311</td>\n",
              "      <td>-0.489730</td>\n",
              "      <td>-0.443080</td>\n",
              "      <td>1.000000</td>\n",
              "    </tr>\n",
              "  </tbody>\n",
              "</table>\n",
              "</div>\n",
              "      <button class=\"colab-df-convert\" onclick=\"convertToInteractive('df-5cc1cc0b-effa-458c-b0b7-dbf8421a7f39')\"\n",
              "              title=\"Convert this dataframe to an interactive table.\"\n",
              "              style=\"display:none;\">\n",
              "        \n",
              "  <svg xmlns=\"http://www.w3.org/2000/svg\" height=\"24px\"viewBox=\"0 0 24 24\"\n",
              "       width=\"24px\">\n",
              "    <path d=\"M0 0h24v24H0V0z\" fill=\"none\"/>\n",
              "    <path d=\"M18.56 5.44l.94 2.06.94-2.06 2.06-.94-2.06-.94-.94-2.06-.94 2.06-2.06.94zm-11 1L8.5 8.5l.94-2.06 2.06-.94-2.06-.94L8.5 2.5l-.94 2.06-2.06.94zm10 10l.94 2.06.94-2.06 2.06-.94-2.06-.94-.94-2.06-.94 2.06-2.06.94z\"/><path d=\"M17.41 7.96l-1.37-1.37c-.4-.4-.92-.59-1.43-.59-.52 0-1.04.2-1.43.59L10.3 9.45l-7.72 7.72c-.78.78-.78 2.05 0 2.83L4 21.41c.39.39.9.59 1.41.59.51 0 1.02-.2 1.41-.59l7.78-7.78 2.81-2.81c.8-.78.8-2.07 0-2.86zM5.41 20L4 18.59l7.72-7.72 1.47 1.35L5.41 20z\"/>\n",
              "  </svg>\n",
              "      </button>\n",
              "      \n",
              "  <style>\n",
              "    .colab-df-container {\n",
              "      display:flex;\n",
              "      flex-wrap:wrap;\n",
              "      gap: 12px;\n",
              "    }\n",
              "\n",
              "    .colab-df-convert {\n",
              "      background-color: #E8F0FE;\n",
              "      border: none;\n",
              "      border-radius: 50%;\n",
              "      cursor: pointer;\n",
              "      display: none;\n",
              "      fill: #1967D2;\n",
              "      height: 32px;\n",
              "      padding: 0 0 0 0;\n",
              "      width: 32px;\n",
              "    }\n",
              "\n",
              "    .colab-df-convert:hover {\n",
              "      background-color: #E2EBFA;\n",
              "      box-shadow: 0px 1px 2px rgba(60, 64, 67, 0.3), 0px 1px 3px 1px rgba(60, 64, 67, 0.15);\n",
              "      fill: #174EA6;\n",
              "    }\n",
              "\n",
              "    [theme=dark] .colab-df-convert {\n",
              "      background-color: #3B4455;\n",
              "      fill: #D2E3FC;\n",
              "    }\n",
              "\n",
              "    [theme=dark] .colab-df-convert:hover {\n",
              "      background-color: #434B5C;\n",
              "      box-shadow: 0px 1px 3px 1px rgba(0, 0, 0, 0.15);\n",
              "      filter: drop-shadow(0px 1px 2px rgba(0, 0, 0, 0.3));\n",
              "      fill: #FFFFFF;\n",
              "    }\n",
              "  </style>\n",
              "\n",
              "      <script>\n",
              "        const buttonEl =\n",
              "          document.querySelector('#df-5cc1cc0b-effa-458c-b0b7-dbf8421a7f39 button.colab-df-convert');\n",
              "        buttonEl.style.display =\n",
              "          google.colab.kernel.accessAllowed ? 'block' : 'none';\n",
              "\n",
              "        async function convertToInteractive(key) {\n",
              "          const element = document.querySelector('#df-5cc1cc0b-effa-458c-b0b7-dbf8421a7f39');\n",
              "          const dataTable =\n",
              "            await google.colab.kernel.invokeFunction('convertToInteractive',\n",
              "                                                     [key], {});\n",
              "          if (!dataTable) return;\n",
              "\n",
              "          const docLinkHtml = 'Like what you see? Visit the ' +\n",
              "            '<a target=\"_blank\" href=https://colab.research.google.com/notebooks/data_table.ipynb>data table notebook</a>'\n",
              "            + ' to learn more about interactive tables.';\n",
              "          element.innerHTML = '';\n",
              "          dataTable['output_type'] = 'display_data';\n",
              "          await google.colab.output.renderOutput(dataTable, element);\n",
              "          const docLink = document.createElement('div');\n",
              "          docLink.innerHTML = docLinkHtml;\n",
              "          element.appendChild(docLink);\n",
              "        }\n",
              "      </script>\n",
              "    </div>\n",
              "  </div>\n",
              "  "
            ]
          },
          "metadata": {}
        },
        {
          "output_type": "display_data",
          "data": {
            "text/plain": [
              "<Axes: >"
            ]
          },
          "metadata": {}
        },
        {
          "output_type": "display_data",
          "data": {
            "text/plain": [
              "<Figure size 640x480 with 2 Axes>"
            ],
            "image/png": "[encoded data removed]"
          },
          "metadata": {}
        }
      ]
    },
    {
      "cell_type": "markdown",
      "source": [
        "Since the dataset has no missing datas, so we do not need to preprocess the dataset to make the dataset clean."
      ],
      "metadata": {
        "id": "GU19dxEJnWBn"
      }
    },
    {
      "cell_type": "code",
      "execution_count": 19,
      "outputs": [],
      "source": [
        "# def preprocessing_data(df):\n",
        "#     \"\"\"\n",
        "#     Preprocess your data (eg. Drop null datapoints or fill missing data)\n",
        "#     :param df: pandas DataFrame\n",
        "#     :return: pandas DataFrame\n",
        "#     \"\"\"\n",
        "#     # Todo: preprocess data\n",
        "#     #Since the data is clean and there is no missing data, i think we may apply one hot \n",
        "#     df = \n",
        "#     return df"
      ],
      "metadata": {
        "id": "BsLrFNP-8Kox"
      }
    },
    {
      "cell_type": "code",
      "execution_count": 20,
      "outputs": [],
      "source": [
        "# df = preprocessing_data(df.copy())"
      ],
      "metadata": {
        "id": "dei_gmKb8Koy"
      }
    },
    {
      "cell_type": "markdown",
      "source": [
        "## Feature Engineering"
      ],
      "metadata": {
        "collapsed": false,
        "id": "Zi5s_ZP48Koy"
      }
    },
    {
      "cell_type": "markdown",
      "source": [
        "At feature engineering phase, I normalize the dataset with z-score, which is calculated the dataset with Gaussian distribution N(0,1)"
      ],
      "metadata": {
        "id": "rRKidiBRnjjq"
      }
    },
    {
      "cell_type": "code",
      "execution_count": 36,
      "outputs": [
        {
          "output_type": "execute_result",
          "data": {
            "text/plain": [
              "<Axes: >"
            ]
          },
          "metadata": {},
          "execution_count": 36
        },
        {
          "output_type": "display_data",
          "data": {
            "text/plain": [
              "<Figure size 640x480 with 2 Axes>"
            ],
            "image/png": "[encoded data removed]"
          },
          "metadata": {}
        }
      ],
      "source": [
        "# Heatmap\n",
        "import seaborn as sns\n",
        "from scipy.stats import zscore\n",
        "from sklearn import preprocessing\n",
        "\n",
        "def apply_feature_engineering(df):\n",
        "    \"\"\"\n",
        "    Apply all feature engineering to transform your data into number\n",
        "    :param df: pandas DataFrame\n",
        "    :return: pandas DataFrame\n",
        "    \"\"\"\n",
        "    # Todo: Normalize your data\n",
        "    normalized_data = df.copy()\n",
        "    normalized_data[\"age\"] = zscore(normalized_data[\"age\"])\n",
        "    normalized_data[\"trestbps\"] = zscore(normalized_data[\"trestbps\"])\n",
        "    normalized_data[\"chol\"] = zscore(normalized_data[\"chol\"])\n",
        "    normalized_data[\"thalach\"] = zscore(normalized_data[\"thalach\"])\n",
        "    normalized_data[\"oldpeak\"] = zscore(normalized_data[\"oldpeak\"])\n",
        "    return normalized_data\n",
        "\n",
        "df = apply_feature_engineering(df)\n",
        "sns.heatmap(df.corr()) # Show heatmap after normalized data"
      ],
      "metadata": {
        "id": "6VQVAmTx8Koy",
        "colab": {
          "base_uri": "https://localhost:8080/",
          "height": 495
        },
        "outputId": "0d74d7be-2650-4fbb-bc94-3129f50c47ed"
      }
    },
    {
      "cell_type": "code",
      "source": [
        "display(df.head())\n",
        "display(df.describe())"
      ],
      "metadata": {
        "colab": {
          "base_uri": "https://localhost:8080/",
          "height": 578
        },
        "id": "VShBslHsj9Sj",
        "outputId": "c35d7c34-3123-4148-c861-0d7dba82d9c7"
      },
      "execution_count": 22,
      "outputs": [
        {
          "output_type": "display_data",
          "data": {
            "text/plain": [
              "        age  sex  cp  trestbps      chol  fbs  restecg   thalach  exang  \\\n",
              "0 -0.877950    1   0 -0.721358  0.031839    0        0 -0.229720      0   \n",
              "1  1.862936    0   1  1.659875  1.155116    0        1  0.523172      0   \n",
              "2  1.862936    0   1  1.659875  1.176310    0        1  0.564999      0   \n",
              "3  1.862936    0   1  1.659875  1.197504    0        1  0.606826      0   \n",
              "4  1.862936    0   1  1.659875  1.218698    0        1  0.648654      0   \n",
              "\n",
              "    oldpeak  slope  ca  thal  target  \n",
              "0 -0.246927      2   0     3       0  \n",
              "1 -0.595575      2   2     2       1  \n",
              "2 -0.595575      2   2     2       1  \n",
              "3 -0.595575      2   2     2       1  \n",
              "4 -0.595575      2   2     2       1  "
            ],
            "text/html": [
              "\n",
              "  <div id=\"df-668feaa1-27c4-4704-9f76-929b77bbf742\">\n",
              "    <div class=\"colab-df-container\">\n",
              "      <div>\n",
              "<style scoped>\n",
              "    .dataframe tbody tr th:only-of-type {\n",
              "        vertical-align: middle;\n",
              "    }\n",
              "\n",
              "    .dataframe tbody tr th {\n",
              "        vertical-align: top;\n",
              "    }\n",
              "\n",
              "    .dataframe thead th {\n",
              "        text-align: right;\n",
              "    }\n",
              "</style>\n",
              "<table border=\"1\" class=\"dataframe\">\n",
              "  <thead>\n",
              "    <tr style=\"text-align: right;\">\n",
              "      <th></th>\n",
              "      <th>age</th>\n",
              "      <th>sex</th>\n",
              "      <th>cp</th>\n",
              "      <th>trestbps</th>\n",
              "      <th>chol</th>\n",
              "      <th>fbs</th>\n",
              "      <th>restecg</th>\n",
              "      <th>thalach</th>\n",
              "      <th>exang</th>\n",
              "      <th>oldpeak</th>\n",
              "      <th>slope</th>\n",
              "      <th>ca</th>\n",
              "      <th>thal</th>\n",
              "      <th>target</th>\n",
              "    </tr>\n",
              "  </thead>\n",
              "  <tbody>\n",
              "    <tr>\n",
              "      <th>0</th>\n",
              "      <td>-0.877950</td>\n",
              "      <td>1</td>\n",
              "      <td>0</td>\n",
              "      <td>-0.721358</td>\n",
              "      <td>0.031839</td>\n",
              "      <td>0</td>\n",
              "      <td>0</td>\n",
              "      <td>-0.229720</td>\n",
              "      <td>0</td>\n",
              "      <td>-0.246927</td>\n",
              "      <td>2</td>\n",
              "      <td>0</td>\n",
              "      <td>3</td>\n",
              "      <td>0</td>\n",
              "    </tr>\n",
              "    <tr>\n",
              "      <th>1</th>\n",
              "      <td>1.862936</td>\n",
              "      <td>0</td>\n",
              "      <td>1</td>\n",
              "      <td>1.659875</td>\n",
              "      <td>1.155116</td>\n",
              "      <td>0</td>\n",
              "      <td>1</td>\n",
              "      <td>0.523172</td>\n",
              "      <td>0</td>\n",
              "      <td>-0.595575</td>\n",
              "      <td>2</td>\n",
              "      <td>2</td>\n",
              "      <td>2</td>\n",
              "      <td>1</td>\n",
              "    </tr>\n",
              "    <tr>\n",
              "      <th>2</th>\n",
              "      <td>1.862936</td>\n",
              "      <td>0</td>\n",
              "      <td>1</td>\n",
              "      <td>1.659875</td>\n",
              "      <td>1.176310</td>\n",
              "      <td>0</td>\n",
              "      <td>1</td>\n",
              "      <td>0.564999</td>\n",
              "      <td>0</td>\n",
              "      <td>-0.595575</td>\n",
              "      <td>2</td>\n",
              "      <td>2</td>\n",
              "      <td>2</td>\n",
              "      <td>1</td>\n",
              "    </tr>\n",
              "    <tr>\n",
              "      <th>3</th>\n",
              "      <td>1.862936</td>\n",
              "      <td>0</td>\n",
              "      <td>1</td>\n",
              "      <td>1.659875</td>\n",
              "      <td>1.197504</td>\n",
              "      <td>0</td>\n",
              "      <td>1</td>\n",
              "      <td>0.606826</td>\n",
              "      <td>0</td>\n",
              "      <td>-0.595575</td>\n",
              "      <td>2</td>\n",
              "      <td>2</td>\n",
              "      <td>2</td>\n",
              "      <td>1</td>\n",
              "    </tr>\n",
              "    <tr>\n",
              "      <th>4</th>\n",
              "      <td>1.862936</td>\n",
              "      <td>0</td>\n",
              "      <td>1</td>\n",
              "      <td>1.659875</td>\n",
              "      <td>1.218698</td>\n",
              "      <td>0</td>\n",
              "      <td>1</td>\n",
              "      <td>0.648654</td>\n",
              "      <td>0</td>\n",
              "      <td>-0.595575</td>\n",
              "      <td>2</td>\n",
              "      <td>2</td>\n",
              "      <td>2</td>\n",
              "      <td>1</td>\n",
              "    </tr>\n",
              "  </tbody>\n",
              "</table>\n",
              "</div>\n",
              "      <button class=\"colab-df-convert\" onclick=\"convertToInteractive('df-668feaa1-27c4-4704-9f76-929b77bbf742')\"\n",
              "              title=\"Convert this dataframe to an interactive table.\"\n",
              "              style=\"display:none;\">\n",
              "        \n",
              "  <svg xmlns=\"http://www.w3.org/2000/svg\" height=\"24px\"viewBox=\"0 0 24 24\"\n",
              "       width=\"24px\">\n",
              "    <path d=\"M0 0h24v24H0V0z\" fill=\"none\"/>\n",
              "    <path d=\"M18.56 5.44l.94 2.06.94-2.06 2.06-.94-2.06-.94-.94-2.06-.94 2.06-2.06.94zm-11 1L8.5 8.5l.94-2.06 2.06-.94-2.06-.94L8.5 2.5l-.94 2.06-2.06.94zm10 10l.94 2.06.94-2.06 2.06-.94-2.06-.94-.94-2.06-.94 2.06-2.06.94z\"/><path d=\"M17.41 7.96l-1.37-1.37c-.4-.4-.92-.59-1.43-.59-.52 0-1.04.2-1.43.59L10.3 9.45l-7.72 7.72c-.78.78-.78 2.05 0 2.83L4 21.41c.39.39.9.59 1.41.59.51 0 1.02-.2 1.41-.59l7.78-7.78 2.81-2.81c.8-.78.8-2.07 0-2.86zM5.41 20L4 18.59l7.72-7.72 1.47 1.35L5.41 20z\"/>\n",
              "  </svg>\n",
              "      </button>\n",
              "      \n",
              "  <style>\n",
              "    .colab-df-container {\n",
              "      display:flex;\n",
              "      flex-wrap:wrap;\n",
              "      gap: 12px;\n",
              "    }\n",
              "\n",
              "    .colab-df-convert {\n",
              "      background-color: #E8F0FE;\n",
              "      border: none;\n",
              "      border-radius: 50%;\n",
              "      cursor: pointer;\n",
              "      display: none;\n",
              "      fill: #1967D2;\n",
              "      height: 32px;\n",
              "      padding: 0 0 0 0;\n",
              "      width: 32px;\n",
              "    }\n",
              "\n",
              "    .colab-df-convert:hover {\n",
              "      background-color: #E2EBFA;\n",
              "      box-shadow: 0px 1px 2px rgba(60, 64, 67, 0.3), 0px 1px 3px 1px rgba(60, 64, 67, 0.15);\n",
              "      fill: #174EA6;\n",
              "    }\n",
              "\n",
              "    [theme=dark] .colab-df-convert {\n",
              "      background-color: #3B4455;\n",
              "      fill: #D2E3FC;\n",
              "    }\n",
              "\n",
              "    [theme=dark] .colab-df-convert:hover {\n",
              "      background-color: #434B5C;\n",
              "      box-shadow: 0px 1px 3px 1px rgba(0, 0, 0, 0.15);\n",
              "      filter: drop-shadow(0px 1px 2px rgba(0, 0, 0, 0.3));\n",
              "      fill: #FFFFFF;\n",
              "    }\n",
              "  </style>\n",
              "\n",
              "      <script>\n",
              "        const buttonEl =\n",
              "          document.querySelector('#df-668feaa1-27c4-4704-9f76-929b77bbf742 button.colab-df-convert');\n",
              "        buttonEl.style.display =\n",
              "          google.colab.kernel.accessAllowed ? 'block' : 'none';\n",
              "\n",
              "        async function convertToInteractive(key) {\n",
              "          const element = document.querySelector('#df-668feaa1-27c4-4704-9f76-929b77bbf742');\n",
              "          const dataTable =\n",
              "            await google.colab.kernel.invokeFunction('convertToInteractive',\n",
              "                                                     [key], {});\n",
              "          if (!dataTable) return;\n",
              "\n",
              "          const docLinkHtml = 'Like what you see? Visit the ' +\n",
              "            '<a target=\"_blank\" href=https://colab.research.google.com/notebooks/data_table.ipynb>data table notebook</a>'\n",
              "            + ' to learn more about interactive tables.';\n",
              "          element.innerHTML = '';\n",
              "          dataTable['output_type'] = 'display_data';\n",
              "          await google.colab.output.renderOutput(dataTable, element);\n",
              "          const docLink = document.createElement('div');\n",
              "          docLink.innerHTML = docLinkHtml;\n",
              "          element.appendChild(docLink);\n",
              "        }\n",
              "      </script>\n",
              "    </div>\n",
              "  </div>\n",
              "  "
            ]
          },
          "metadata": {}
        },
        {
          "output_type": "display_data",
          "data": {
            "text/plain": [
              "                age         sex          cp      trestbps          chol  \\\n",
              "count  8.860000e+02  886.000000  886.000000  8.860000e+02  8.860000e+02   \n",
              "mean   2.405901e-16    0.683973    1.005643 -1.603934e-16  1.162852e-16   \n",
              "std    1.000565e+00    0.465186    1.024542  1.000565e+00  1.000565e+00   \n",
              "min   -2.741752e+00    0.000000    0.000000 -2.269159e+00 -2.575013e+00   \n",
              "25%   -7.683141e-01    0.000000    0.000000 -7.213576e-01 -7.523363e-01   \n",
              "50%   -8.661940e-04    1.000000    1.000000 -1.260494e-01 -5.293696e-02   \n",
              "75%    6.569463e-01    1.000000    2.000000  4.692587e-01  5.616867e-01   \n",
              "max    2.520748e+00    1.000000    3.000000  4.041108e+00  6.707923e+00   \n",
              "\n",
              "              fbs     restecg       thalach       exang       oldpeak  \\\n",
              "count  886.000000  886.000000  8.860000e+02  886.000000  8.860000e+02   \n",
              "mean     0.168172    0.495485 -3.528655e-16    0.310384 -1.283147e-16   \n",
              "std      0.374230    0.526669  1.000565e+00    0.462912  1.000565e+00   \n",
              "min      0.000000    0.000000 -3.283114e+00    0.000000 -9.442239e-01   \n",
              "25%      0.000000    0.000000 -6.898202e-01    0.000000 -9.442239e-01   \n",
              "50%      0.000000    0.000000  1.467261e-01    0.000000 -2.469266e-01   \n",
              "75%      0.000000    1.000000  6.904811e-01    1.000000  6.246949e-01   \n",
              "max      1.000000    2.000000  2.363574e+00    1.000000  4.459830e+00   \n",
              "\n",
              "            slope          ca        thal      target  \n",
              "count  886.000000  886.000000  886.000000  886.000000  \n",
              "mean     1.424379    0.714447    2.278781    0.564334  \n",
              "std      0.556861    1.028825    0.572576    0.496124  \n",
              "min      0.000000    0.000000    0.000000    0.000000  \n",
              "25%      1.000000    0.000000    2.000000    0.000000  \n",
              "50%      1.000000    0.000000    2.000000    1.000000  \n",
              "75%      2.000000    1.000000    3.000000    1.000000  \n",
              "max      2.000000    4.000000    3.000000    1.000000  "
            ],
            "text/html": [
              "\n",
              "  <div id=\"df-6e43aacb-b0ea-44e7-bec6-debcb89a7bc9\">\n",
              "    <div class=\"colab-df-container\">\n",
              "      <div>\n",
              "<style scoped>\n",
              "    .dataframe tbody tr th:only-of-type {\n",
              "        vertical-align: middle;\n",
              "    }\n",
              "\n",
              "    .dataframe tbody tr th {\n",
              "        vertical-align: top;\n",
              "    }\n",
              "\n",
              "    .dataframe thead th {\n",
              "        text-align: right;\n",
              "    }\n",
              "</style>\n",
              "<table border=\"1\" class=\"dataframe\">\n",
              "  <thead>\n",
              "    <tr style=\"text-align: right;\">\n",
              "      <th></th>\n",
              "      <th>age</th>\n",
              "      <th>sex</th>\n",
              "      <th>cp</th>\n",
              "      <th>trestbps</th>\n",
              "      <th>chol</th>\n",
              "      <th>fbs</th>\n",
              "      <th>restecg</th>\n",
              "      <th>thalach</th>\n",
              "      <th>exang</th>\n",
              "      <th>oldpeak</th>\n",
              "      <th>slope</th>\n",
              "      <th>ca</th>\n",
              "      <th>thal</th>\n",
              "      <th>target</th>\n",
              "    </tr>\n",
              "  </thead>\n",
              "  <tbody>\n",
              "    <tr>\n",
              "      <th>count</th>\n",
              "      <td>8.860000e+02</td>\n",
              "      <td>886.000000</td>\n",
              "      <td>886.000000</td>\n",
              "      <td>8.860000e+02</td>\n",
              "      <td>8.860000e+02</td>\n",
              "      <td>886.000000</td>\n",
              "      <td>886.000000</td>\n",
              "      <td>8.860000e+02</td>\n",
              "      <td>886.000000</td>\n",
              "      <td>8.860000e+02</td>\n",
              "      <td>886.000000</td>\n",
              "      <td>886.000000</td>\n",
              "      <td>886.000000</td>\n",
              "      <td>886.000000</td>\n",
              "    </tr>\n",
              "    <tr>\n",
              "      <th>mean</th>\n",
              "      <td>2.405901e-16</td>\n",
              "      <td>0.683973</td>\n",
              "      <td>1.005643</td>\n",
              "      <td>-1.603934e-16</td>\n",
              "      <td>1.162852e-16</td>\n",
              "      <td>0.168172</td>\n",
              "      <td>0.495485</td>\n",
              "      <td>-3.528655e-16</td>\n",
              "      <td>0.310384</td>\n",
              "      <td>-1.283147e-16</td>\n",
              "      <td>1.424379</td>\n",
              "      <td>0.714447</td>\n",
              "      <td>2.278781</td>\n",
              "      <td>0.564334</td>\n",
              "    </tr>\n",
              "    <tr>\n",
              "      <th>std</th>\n",
              "      <td>1.000565e+00</td>\n",
              "      <td>0.465186</td>\n",
              "      <td>1.024542</td>\n",
              "      <td>1.000565e+00</td>\n",
              "      <td>1.000565e+00</td>\n",
              "      <td>0.374230</td>\n",
              "      <td>0.526669</td>\n",
              "      <td>1.000565e+00</td>\n",
              "      <td>0.462912</td>\n",
              "      <td>1.000565e+00</td>\n",
              "      <td>0.556861</td>\n",
              "      <td>1.028825</td>\n",
              "      <td>0.572576</td>\n",
              "      <td>0.496124</td>\n",
              "    </tr>\n",
              "    <tr>\n",
              "      <th>min</th>\n",
              "      <td>-2.741752e+00</td>\n",
              "      <td>0.000000</td>\n",
              "      <td>0.000000</td>\n",
              "      <td>-2.269159e+00</td>\n",
              "      <td>-2.575013e+00</td>\n",
              "      <td>0.000000</td>\n",
              "      <td>0.000000</td>\n",
              "      <td>-3.283114e+00</td>\n",
              "      <td>0.000000</td>\n",
              "      <td>-9.442239e-01</td>\n",
              "      <td>0.000000</td>\n",
              "      <td>0.000000</td>\n",
              "      <td>0.000000</td>\n",
              "      <td>0.000000</td>\n",
              "    </tr>\n",
              "    <tr>\n",
              "      <th>25%</th>\n",
              "      <td>-7.683141e-01</td>\n",
              "      <td>0.000000</td>\n",
              "      <td>0.000000</td>\n",
              "      <td>-7.213576e-01</td>\n",
              "      <td>-7.523363e-01</td>\n",
              "      <td>0.000000</td>\n",
              "      <td>0.000000</td>\n",
              "      <td>-6.898202e-01</td>\n",
              "      <td>0.000000</td>\n",
              "      <td>-9.442239e-01</td>\n",
              "      <td>1.000000</td>\n",
              "      <td>0.000000</td>\n",
              "      <td>2.000000</td>\n",
              "      <td>0.000000</td>\n",
              "    </tr>\n",
              "    <tr>\n",
              "      <th>50%</th>\n",
              "      <td>-8.661940e-04</td>\n",
              "      <td>1.000000</td>\n",
              "      <td>1.000000</td>\n",
              "      <td>-1.260494e-01</td>\n",
              "      <td>-5.293696e-02</td>\n",
              "      <td>0.000000</td>\n",
              "      <td>0.000000</td>\n",
              "      <td>1.467261e-01</td>\n",
              "      <td>0.000000</td>\n",
              "      <td>-2.469266e-01</td>\n",
              "      <td>1.000000</td>\n",
              "      <td>0.000000</td>\n",
              "      <td>2.000000</td>\n",
              "      <td>1.000000</td>\n",
              "    </tr>\n",
              "    <tr>\n",
              "      <th>75%</th>\n",
              "      <td>6.569463e-01</td>\n",
              "      <td>1.000000</td>\n",
              "      <td>2.000000</td>\n",
              "      <td>4.692587e-01</td>\n",
              "      <td>5.616867e-01</td>\n",
              "      <td>0.000000</td>\n",
              "      <td>1.000000</td>\n",
              "      <td>6.904811e-01</td>\n",
              "      <td>1.000000</td>\n",
              "      <td>6.246949e-01</td>\n",
              "      <td>2.000000</td>\n",
              "      <td>1.000000</td>\n",
              "      <td>3.000000</td>\n",
              "      <td>1.000000</td>\n",
              "    </tr>\n",
              "    <tr>\n",
              "      <th>max</th>\n",
              "      <td>2.520748e+00</td>\n",
              "      <td>1.000000</td>\n",
              "      <td>3.000000</td>\n",
              "      <td>4.041108e+00</td>\n",
              "      <td>6.707923e+00</td>\n",
              "      <td>1.000000</td>\n",
              "      <td>2.000000</td>\n",
              "      <td>2.363574e+00</td>\n",
              "      <td>1.000000</td>\n",
              "      <td>4.459830e+00</td>\n",
              "      <td>2.000000</td>\n",
              "      <td>4.000000</td>\n",
              "      <td>3.000000</td>\n",
              "      <td>1.000000</td>\n",
              "    </tr>\n",
              "  </tbody>\n",
              "</table>\n",
              "</div>\n",
              "      <button class=\"colab-df-convert\" onclick=\"convertToInteractive('df-6e43aacb-b0ea-44e7-bec6-debcb89a7bc9')\"\n",
              "              title=\"Convert this dataframe to an interactive table.\"\n",
              "              style=\"display:none;\">\n",
              "        \n",
              "  <svg xmlns=\"http://www.w3.org/2000/svg\" height=\"24px\"viewBox=\"0 0 24 24\"\n",
              "       width=\"24px\">\n",
              "    <path d=\"M0 0h24v24H0V0z\" fill=\"none\"/>\n",
              "    <path d=\"M18.56 5.44l.94 2.06.94-2.06 2.06-.94-2.06-.94-.94-2.06-.94 2.06-2.06.94zm-11 1L8.5 8.5l.94-2.06 2.06-.94-2.06-.94L8.5 2.5l-.94 2.06-2.06.94zm10 10l.94 2.06.94-2.06 2.06-.94-2.06-.94-.94-2.06-.94 2.06-2.06.94z\"/><path d=\"M17.41 7.96l-1.37-1.37c-.4-.4-.92-.59-1.43-.59-.52 0-1.04.2-1.43.59L10.3 9.45l-7.72 7.72c-.78.78-.78 2.05 0 2.83L4 21.41c.39.39.9.59 1.41.59.51 0 1.02-.2 1.41-.59l7.78-7.78 2.81-2.81c.8-.78.8-2.07 0-2.86zM5.41 20L4 18.59l7.72-7.72 1.47 1.35L5.41 20z\"/>\n",
              "  </svg>\n",
              "      </button>\n",
              "      \n",
              "  <style>\n",
              "    .colab-df-container {\n",
              "      display:flex;\n",
              "      flex-wrap:wrap;\n",
              "      gap: 12px;\n",
              "    }\n",
              "\n",
              "    .colab-df-convert {\n",
              "      background-color: #E8F0FE;\n",
              "      border: none;\n",
              "      border-radius: 50%;\n",
              "      cursor: pointer;\n",
              "      display: none;\n",
              "      fill: #1967D2;\n",
              "      height: 32px;\n",
              "      padding: 0 0 0 0;\n",
              "      width: 32px;\n",
              "    }\n",
              "\n",
              "    .colab-df-convert:hover {\n",
              "      background-color: #E2EBFA;\n",
              "      box-shadow: 0px 1px 2px rgba(60, 64, 67, 0.3), 0px 1px 3px 1px rgba(60, 64, 67, 0.15);\n",
              "      fill: #174EA6;\n",
              "    }\n",
              "\n",
              "    [theme=dark] .colab-df-convert {\n",
              "      background-color: #3B4455;\n",
              "      fill: #D2E3FC;\n",
              "    }\n",
              "\n",
              "    [theme=dark] .colab-df-convert:hover {\n",
              "      background-color: #434B5C;\n",
              "      box-shadow: 0px 1px 3px 1px rgba(0, 0, 0, 0.15);\n",
              "      filter: drop-shadow(0px 1px 2px rgba(0, 0, 0, 0.3));\n",
              "      fill: #FFFFFF;\n",
              "    }\n",
              "  </style>\n",
              "\n",
              "      <script>\n",
              "        const buttonEl =\n",
              "          document.querySelector('#df-6e43aacb-b0ea-44e7-bec6-debcb89a7bc9 button.colab-df-convert');\n",
              "        buttonEl.style.display =\n",
              "          google.colab.kernel.accessAllowed ? 'block' : 'none';\n",
              "\n",
              "        async function convertToInteractive(key) {\n",
              "          const element = document.querySelector('#df-6e43aacb-b0ea-44e7-bec6-debcb89a7bc9');\n",
              "          const dataTable =\n",
              "            await google.colab.kernel.invokeFunction('convertToInteractive',\n",
              "                                                     [key], {});\n",
              "          if (!dataTable) return;\n",
              "\n",
              "          const docLinkHtml = 'Like what you see? Visit the ' +\n",
              "            '<a target=\"_blank\" href=https://colab.research.google.com/notebooks/data_table.ipynb>data table notebook</a>'\n",
              "            + ' to learn more about interactive tables.';\n",
              "          element.innerHTML = '';\n",
              "          dataTable['output_type'] = 'display_data';\n",
              "          await google.colab.output.renderOutput(dataTable, element);\n",
              "          const docLink = document.createElement('div');\n",
              "          docLink.innerHTML = docLinkHtml;\n",
              "          element.appendChild(docLink);\n",
              "        }\n",
              "      </script>\n",
              "    </div>\n",
              "  </div>\n",
              "  "
            ]
          },
          "metadata": {}
        }
      ]
    },
    {
      "cell_type": "code",
      "source": [
        "from sklearn.model_selection import train_test_split\n",
        "from sklearn.metrics import mean_absolute_error"
      ],
      "metadata": {
        "id": "s0bI0w2r3UZt"
      },
      "execution_count": 23,
      "outputs": []
    },
    {
      "cell_type": "code",
      "source": [
        "#choose column to apply to train set and test set\n",
        "cols = df.columns.tolist()\n",
        "cols.remove('target')\n",
        "cols.remove('cp')\n",
        "cols.remove('sex')\n",
        "cols.remove('fbs')\n",
        "cols.remove('restecg')\n",
        "cols.remove('exang')\n",
        "cols.remove('slope')\n",
        "cols.remove('ca')\n",
        "cols.remove('thal')\n",
        "\n",
        "feature = df[cols]\n",
        "target = df['target']"
      ],
      "metadata": {
        "id": "62eayl1V3YHe"
      },
      "execution_count": 24,
      "outputs": []
    },
    {
      "cell_type": "code",
      "execution_count": 25,
      "outputs": [],
      "source": [
        "def prepare_X_y(df):\n",
        "    \"\"\"\n",
        "    Feature engineering and create X and y\n",
        "    :param df: pandas dataframe\n",
        "    :return: (X, y) output feature matrix (dataframe), target (series)\n",
        "    \"\"\"\n",
        "    # Todo: Split data into X and y (using sklearn train_test_split). Return two dataframes\n",
        "    X = df[cols] # Todo: Select features\n",
        "    y = df['target'] # Todo: Select label\n",
        "    return X, y\n",
        "\n",
        "X, y = prepare_X_y(df)"
      ],
      "metadata": {
        "id": "kWoZ3iLO8Koz"
      }
    },
    {
      "cell_type": "markdown",
      "source": [
        "# Apply machine learning model"
      ],
      "metadata": {
        "collapsed": false,
        "id": "prlZ55S68Koz"
      }
    },
    {
      "cell_type": "markdown",
      "source": [
        "## Train-test split"
      ],
      "metadata": {
        "collapsed": false,
        "id": "uwkqQnmZ8Ko0"
      }
    },
    {
      "cell_type": "code",
      "execution_count": 26,
      "outputs": [],
      "source": [
        "from sklearn.model_selection import train_test_split\n",
        "RANDOM_STATE = 101\n",
        "TRAIN_SIZE = 0.7\n",
        "\n",
        "trainX, testX ,trainY, testY = train_test_split(X, y, train_size=TRAIN_SIZE, random_state=RANDOM_STATE)"
      ],
      "metadata": {
        "id": "AgohjEzw8Ko0"
      }
    },
    {
      "cell_type": "code",
      "source": [
        "# from sklearn.preprocessing import StandardScaler\n",
        "# scaler = StandardScaler()\n",
        "# trainX = scaler.fit_transform(trainX)\n",
        "# testX = scaler.transform(testX)\n",
        "\n",
        "# display(pd.DataFrame(trainX))"
      ],
      "metadata": {
        "id": "-oYodKsrrEGw"
      },
      "execution_count": 27,
      "outputs": []
    },
    {
      "cell_type": "markdown",
      "source": [
        "## Build SK-learn model"
      ],
      "metadata": {
        "collapsed": false,
        "id": "Xy5y6NEO8Ko0"
      }
    },
    {
      "cell_type": "code",
      "execution_count": 28,
      "outputs": [
        {
          "output_type": "stream",
          "name": "stdout",
          "text": [
            "Mean absolute Error on train set:  0.18870967741935485\n",
            "Mean absolute Error on test set:  0.23308270676691728\n"
          ]
        }
      ],
      "source": [
        "from sklearn.metrics import classification_report\n",
        "from sklearn.pipeline import make_pipeline\n",
        "from sklearn.linear_model import LogisticRegression\n",
        "from sklearn.metrics import accuracy_score, precision_score, recall_score, f1_score, confusion_matrix, classification_report\n",
        "\n",
        "def build_model(X, y):\n",
        "    \"\"\"\n",
        "    Design your model and train it (including your best params)\n",
        "    :param X: feature matrix\n",
        "    :param y: target\n",
        "    :return: a model\n",
        "    \"\"\"\n",
        "\n",
        "    # Todo: Input your scaler and logistic model into pipeline\n",
        "    model = LogisticRegression(fit_intercept=True, random_state=RANDOM_STATE)\n",
        "    # Todo: fit your model with X, y\n",
        "    model.fit(X,y)\n",
        "    return model\n",
        "\n",
        "def calculate_performance(y_true, y_pred):\n",
        "    \"\"\"\n",
        "\n",
        "    :param y_true: ground truth values\n",
        "    :param y_pred: predictions\n",
        "    :return:\n",
        "    \"\"\"\n",
        "    # Todo: return your error value like accuracy, f1score, ...\n",
        "    print(\"precision\", precision_score(y_true, y_pred))\n",
        "    print(\"recall\", recall_score(y_true, y_pred) )\n",
        "    print(\"accuracy\", accuracy_score(y_true, y_pred))\n",
        "    print(\"F1\", f1_score(y_true, y_pred))\n",
        "\n",
        "    # Todo: Only choose one of them as your score for the question 7\n",
        "    main_score = f1_score(y_true, y_pred)\n",
        "    return main_score\n",
        "\n",
        "model = build_model(trainX, trainY)\n",
        "MAE = []\n",
        "# Compare on training dataset\n",
        "pred = model.predict(trainX)\n",
        "print(\"Mean absolute Error on train set: \", mean_absolute_error(y_pred=pred, y_true=trainY)) #Todo: output your error)\n",
        "MAE.append(mean_absolute_error(y_pred=pred, y_true=trainY))\n",
        "pred = model.predict(testX)\n",
        "print(\"Mean absolute Error on test set: \", mean_absolute_error(y_pred=pred, y_true=testY)) #Todo: output your error)\n",
        "MAE.append(MAE.append(mean_absolute_error(y_pred=pred, y_true=testY)))"
      ],
      "metadata": {
        "id": "lge0OhiI8Ko1",
        "colab": {
          "base_uri": "https://localhost:8080/"
        },
        "outputId": "f0e013a3-d856-4a9e-b157-90bdb1cf507e"
      }
    },
    {
      "cell_type": "code",
      "source": [
        "#Cross validation\n",
        "from sklearn.model_selection import cross_validate\n",
        "from sklearn.metrics import recall_score\n",
        "scoring = ['precision_macro', 'recall_macro']\n",
        "score = cross_validate(model, X, y, scoring=\"precision_macro\", cv=5,return_estimator=True)\n",
        "sorted(score.keys())\n",
        "\n",
        "print(score)"
      ],
      "metadata": {
        "colab": {
          "base_uri": "https://localhost:8080/"
        },
        "id": "yICgWAfxbU5d",
        "outputId": "44f51f7d-d45b-4586-bc3c-566de5513810"
      },
      "execution_count": 29,
      "outputs": [
        {
          "output_type": "stream",
          "name": "stdout",
          "text": [
            "{'fit_time': array([0.00590229, 0.00454092, 0.00460982, 0.00663877, 0.00489044]), 'score_time': array([0.00306773, 0.0028882 , 0.00342131, 0.00295138, 0.00269222]), 'estimator': [LogisticRegression(random_state=101), LogisticRegression(random_state=101), LogisticRegression(random_state=101), LogisticRegression(random_state=101), LogisticRegression(random_state=101)], 'test_score': array([0.8452381 , 0.78804776, 0.77583528, 0.7537594 , 0.72760989])}\n"
          ]
        }
      ]
    },
    {
      "cell_type": "code",
      "source": [
        "#Apply another solver and penalty\n",
        "def build_model_with_solver(X, y):\n",
        "    \"\"\"\n",
        "    Design your model and train it (including your best params)\n",
        "    :param X: feature matrix\n",
        "    :param y: target\n",
        "    :return: a model\n",
        "    \"\"\"\n",
        "    # Todo: Input your scaler and logistic model into pipeline\n",
        "    modelLR= LogisticRegression(solver='liblinear', penalty='l1')\n",
        "    # Todo: fit your model with X, y\n",
        "    modelLR.fit(X,y)\n",
        "    return modelLR"
      ],
      "metadata": {
        "id": "TdHYoV9tSI_a"
      },
      "execution_count": 30,
      "outputs": []
    },
    {
      "cell_type": "code",
      "source": [
        "modelLR = build_model_with_solver(trainX, trainY)\n",
        "# Compare on training dataset\n",
        "pred = modelLR.predict(trainX)\n",
        "print(\"Mean absolute Error on train set: \", mean_absolute_error(y_pred=pred, y_true=trainY)) #Todo: output your error)\n",
        "pred = modelLR.predict(testX)\n",
        "print(\"Mean absolute Error on test set: \", mean_absolute_error(y_pred=pred, y_true=testY)) #Todo: output your error)"
      ],
      "metadata": {
        "colab": {
          "base_uri": "https://localhost:8080/"
        },
        "id": "QnQ9kxqda7BT",
        "outputId": "8d84d073-9f8d-480f-af6f-a569e4e1d005"
      },
      "execution_count": 31,
      "outputs": [
        {
          "output_type": "stream",
          "name": "stdout",
          "text": [
            "Mean absolute Error on train set:  0.19193548387096773\n",
            "Mean absolute Error on test set:  0.23308270676691728\n"
          ]
        }
      ]
    },
    {
      "cell_type": "code",
      "source": [
        "print('accuracy on train set with no penalty and solver: ',model.score(trainX, trainY))\n",
        "print('accuracy on test set with no penalty and solver: ', model.score(testX, testY))"
      ],
      "metadata": {
        "colab": {
          "base_uri": "https://localhost:8080/"
        },
        "id": "GR5Zon7VbFqd",
        "outputId": "912cf571-c87f-4686-aa07-2734071f6af4"
      },
      "execution_count": 32,
      "outputs": [
        {
          "output_type": "stream",
          "name": "stdout",
          "text": [
            "accuracy on train set with no penalty and solver:  0.8112903225806452\n",
            "accuracy on test set with no penalty and solver:  0.7669172932330827\n"
          ]
        }
      ]
    },
    {
      "cell_type": "code",
      "source": [
        "print('accuracy on train set with penalty and solver: ',modelLR.score(trainX, trainY))\n",
        "print('accuracy on test set with penalty and solver: ', modelLR.score(testX, testY))"
      ],
      "metadata": {
        "colab": {
          "base_uri": "https://localhost:8080/"
        },
        "id": "FEmhol_ihtVZ",
        "outputId": "159447e2-22fc-423d-a772-60281ed2d546"
      },
      "execution_count": 33,
      "outputs": [
        {
          "output_type": "stream",
          "name": "stdout",
          "text": [
            "accuracy on train set with penalty and solver:  0.8080645161290323\n",
            "accuracy on test set with penalty and solver:  0.7669172932330827\n"
          ]
        }
      ]
    },
    {
      "cell_type": "code",
      "execution_count": 34,
      "outputs": [],
      "source": [
        "def get_conclusion():\n",
        "    # Todo: Please return your answer, conclusion and opinion right here\n",
        "    print('accuracy on train set: ',model.score(trainX, trainY))\n",
        "    print('accuracy on test set', model.score(testX, testY))\n",
        "    print('mean absolute error on train set and test set: ', MAE)\n",
        "    print('cross validation: ', score)\n",
        "    main_metric = calculate_performance(y_true=trainY, y_pred=model.predict(trainX))\n",
        "    print('main metric is recall_score and score is: ', main_metric)\n",
        "    #return main_metric\n"
      ],
      "metadata": {
        "id": "T0UDQCc48Ko1"
      }
    },
    {
      "cell_type": "code",
      "source": [
        "get_conclusion()"
      ],
      "metadata": {
        "colab": {
          "base_uri": "https://localhost:8080/"
        },
        "id": "cKxhYKFFlldM",
        "outputId": "1401221a-c8a0-4ba5-9b6d-b261045edf52"
      },
      "execution_count": 35,
      "outputs": [
        {
          "output_type": "stream",
          "name": "stdout",
          "text": [
            "accuracy on train set:  0.8112903225806452\n",
            "accuracy on test set 0.7669172932330827\n",
            "mean absolute error on train set and test set:  [0.18870967741935485, 0.23308270676691728, None]\n",
            "cross validation:  {'fit_time': array([0.00590229, 0.00454092, 0.00460982, 0.00663877, 0.00489044]), 'score_time': array([0.00306773, 0.0028882 , 0.00342131, 0.00295138, 0.00269222]), 'estimator': [LogisticRegression(random_state=101), LogisticRegression(random_state=101), LogisticRegression(random_state=101), LogisticRegression(random_state=101), LogisticRegression(random_state=101)], 'test_score': array([0.8452381 , 0.78804776, 0.77583528, 0.7537594 , 0.72760989])}\n",
            "precision 0.8091397849462365\n",
            "recall 0.8674351585014409\n",
            "accuracy 0.8112903225806452\n",
            "F1 0.8372739916550765\n",
            "main metric is recall_score and score is:  0.8372739916550765\n"
          ]
        }
      ]
    },
    {
      "cell_type": "markdown",
      "source": [
        "I chose the recall score to be the main metric, because it has the best accuracy of all the metrics,  \n",
        "\n",
        "And I chose the solver 'liblinear' and the penalty 'l1', since in the document on scikit-learn.org the 'liblinear' solver is suitable for the small dataset like this, and it gives a litle more precision, and the liblinear can apply 'l1' and 'l2' penalty, and it gives the same precision."
      ],
      "metadata": {
        "id": "v-wU_yCnnyZb"
      }
    }
  ],
  "metadata": {
    "kernelspec": {
      "display_name": "Python 3",
      "language": "python",
      "name": "python3"
    },
    "language_info": {
      "codemirror_mode": {
        "name": "ipython",
        "version": 2
      },
      "file_extension": ".py",
      "mimetype": "text/x-python",
      "name": "python",
      "nbconvert_exporter": "python",
      "pygments_lexer": "ipython2",
      "version": "2.7.6"
    },
    "colab": {
      "provenance": []
    }
  },
  "nbformat": 4,
  "nbformat_minor": 0
}