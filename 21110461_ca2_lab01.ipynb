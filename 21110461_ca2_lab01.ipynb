{
  "nbformat": 4,
  "nbformat_minor": 0,
  "metadata": {
    "colab": {
      "provenance": []
    },
    "kernelspec": {
      "name": "python3",
      "display_name": "Python 3"
    },
    "language_info": {
      "name": "python"
    }
  },
  "cells": [
    {
      "cell_type": "markdown",
      "source": [
        "# Homework Week 1\n",
        "## Tên: Lâm Nhật Quân\n",
        "## MSSV: 21110461\n",
        "\n"
      ],
      "metadata": {
        "id": "5e2polBf7m1O"
      }
    },
    {
      "cell_type": "markdown",
      "metadata": {
        "id": "ae78e63c"
      },
      "source": [
        "#Exercise\n",
        "This is a dataset related to how much money a person can get from a mortgage on his or her home. This dataset includes the following features:\n",
        "* Gender: Gender of the borrower (including two values 'F' and 'M')\n",
        "* Age: Age of the customer applying for a loan (including positive integer values)\n",
        "* Income (USD): Customer's income in USD (value is a positive number)\n",
        "* Income Stability: The level of customer's income stability (including three values of Low and High)\n",
        "* Property Age: Life expectancy of the house in days (including positive integer values)\n",
        "* Property Location: Location of the house (including 'Rural', 'Urban', and 'Semi-Urban')\n",
        "* Property Price: The value of the house in USD (including positive real values)\n",
        "* Loan Sanction Amount (USD): Amount that customers can borrow in USD (target value)\n",
        "\n",
        "Based on practice sample #1, proceed:\n",
        "1. Read data\n",
        "2. Visualize some information of data\n",
        "3. Normalize Data to train linear regression model\n",
        "4. Train linear regression model and show the model's intercepts, coeficients\n",
        "5. Learn on sklearn how to use Ridge, Lasso, and ElasticNet compare the error of all 3 algorithms with Linear Regression (https://scikit-learn.org/stable/index.html)\n",
        "6. Let's try Polynomial of order 2 to compare the previous results. What will the result be if we choose the n order too high?\n",
        "\n",
        "\n",
        "**Submission Link**: https://forms.gle/WKCJUp7noHAKALNP9 (Submit your .ipynb file)"
      ]
    },
    {
      "cell_type": "code",
      "source": [
        "# mount data from google drive to colab\n",
        "from google.colab import drive\n",
        "drive.mount('/content/drive')\n",
        "\n",
        "#import library\n",
        "import pandas as pd # pandas \n",
        "import numpy as np # numpy\n",
        "import time\n"
      ],
      "metadata": {
        "id": "mYV5QYEaZD5N",
        "colab": {
          "base_uri": "https://localhost:8080/"
        },
        "outputId": "28123fe6-68a7-4647-c7ed-0573dd6916f5"
      },
      "execution_count": 79,
      "outputs": [
        {
          "output_type": "stream",
          "name": "stdout",
          "text": [
            "Drive already mounted at /content/drive; to attempt to forcibly remount, call drive.mount(\"/content/drive\", force_remount=True).\n"
          ]
        }
      ]
    },
    {
      "cell_type": "markdown",
      "source": [
        "# Prepare and Analyze Data\n",
        "\n",
        "1. Load Dataset\n",
        "2. Analyze Dataset\n",
        "3. Preprocess data (type, null, missing, ...)\n",
        "4. Feature Engineering"
      ],
      "metadata": {
        "id": "DWey3cHTb43g"
      }
    },
    {
      "cell_type": "markdown",
      "source": [
        "## Load Dataset"
      ],
      "metadata": {
        "id": "5QJmB36JjdyC"
      }
    },
    {
      "cell_type": "code",
      "execution_count": 80,
      "metadata": {
        "id": "b6967e88"
      },
      "outputs": [],
      "source": [
        "# read data using Pandas DataFrame\n",
        "def read_dataset(path):\n",
        "    # Todo: read_csv from a path and return a DataFrame\n",
        "    df = pd.read_csv(path)\n",
        "    display(df.head())\n",
        "    display(df.describe())\n",
        "    return df"
      ]
    },
    {
      "cell_type": "code",
      "source": [
        "PATH = \"/content/drive/MyDrive/Week 01/final_house_loan.csv\" # Path to your file\n",
        "\n",
        "df = read_dataset(PATH)\n",
        "#ToDo: Show histogram of dataframe"
      ],
      "metadata": {
        "id": "bRSvpuUCfpDr",
        "colab": {
          "base_uri": "https://localhost:8080/",
          "height": 489
        },
        "outputId": "30514ddd-19a8-477c-d396-d9d807de7d2e"
      },
      "execution_count": 81,
      "outputs": [
        {
          "output_type": "display_data",
          "data": {
            "text/plain": [
              "  Gender  Age  Income (USD) Income Stability  Property Age Property Location  \\\n",
              "0      F   19       1641.25              Low       1651.25             Rural   \n",
              "1      M   29       1989.71              Low       1990.71             Urban   \n",
              "2      F   37       1849.91              Low       1856.91             Rural   \n",
              "3      M   65       2735.18             High       2747.18             Rural   \n",
              "4      F   62       4741.78             High       4740.78             Urban   \n",
              "\n",
              "   Property Price  Loan Sanction Amount (USD)  \n",
              "0        59641.82                21026.420753  \n",
              "1       179858.51                60595.183366  \n",
              "2       117297.62                39181.648002  \n",
              "3       354417.72               128497.710865  \n",
              "4        82049.80                39386.919336  "
            ],
            "text/html": [
              "\n",
              "  <div id=\"df-599a2093-453e-410d-a4c8-afa7f09f908a\">\n",
              "    <div class=\"colab-df-container\">\n",
              "      <div>\n",
              "<style scoped>\n",
              "    .dataframe tbody tr th:only-of-type {\n",
              "        vertical-align: middle;\n",
              "    }\n",
              "\n",
              "    .dataframe tbody tr th {\n",
              "        vertical-align: top;\n",
              "    }\n",
              "\n",
              "    .dataframe thead th {\n",
              "        text-align: right;\n",
              "    }\n",
              "</style>\n",
              "<table border=\"1\" class=\"dataframe\">\n",
              "  <thead>\n",
              "    <tr style=\"text-align: right;\">\n",
              "      <th></th>\n",
              "      <th>Gender</th>\n",
              "      <th>Age</th>\n",
              "      <th>Income (USD)</th>\n",
              "      <th>Income Stability</th>\n",
              "      <th>Property Age</th>\n",
              "      <th>Property Location</th>\n",
              "      <th>Property Price</th>\n",
              "      <th>Loan Sanction Amount (USD)</th>\n",
              "    </tr>\n",
              "  </thead>\n",
              "  <tbody>\n",
              "    <tr>\n",
              "      <th>0</th>\n",
              "      <td>F</td>\n",
              "      <td>19</td>\n",
              "      <td>1641.25</td>\n",
              "      <td>Low</td>\n",
              "      <td>1651.25</td>\n",
              "      <td>Rural</td>\n",
              "      <td>59641.82</td>\n",
              "      <td>21026.420753</td>\n",
              "    </tr>\n",
              "    <tr>\n",
              "      <th>1</th>\n",
              "      <td>M</td>\n",
              "      <td>29</td>\n",
              "      <td>1989.71</td>\n",
              "      <td>Low</td>\n",
              "      <td>1990.71</td>\n",
              "      <td>Urban</td>\n",
              "      <td>179858.51</td>\n",
              "      <td>60595.183366</td>\n",
              "    </tr>\n",
              "    <tr>\n",
              "      <th>2</th>\n",
              "      <td>F</td>\n",
              "      <td>37</td>\n",
              "      <td>1849.91</td>\n",
              "      <td>Low</td>\n",
              "      <td>1856.91</td>\n",
              "      <td>Rural</td>\n",
              "      <td>117297.62</td>\n",
              "      <td>39181.648002</td>\n",
              "    </tr>\n",
              "    <tr>\n",
              "      <th>3</th>\n",
              "      <td>M</td>\n",
              "      <td>65</td>\n",
              "      <td>2735.18</td>\n",
              "      <td>High</td>\n",
              "      <td>2747.18</td>\n",
              "      <td>Rural</td>\n",
              "      <td>354417.72</td>\n",
              "      <td>128497.710865</td>\n",
              "    </tr>\n",
              "    <tr>\n",
              "      <th>4</th>\n",
              "      <td>F</td>\n",
              "      <td>62</td>\n",
              "      <td>4741.78</td>\n",
              "      <td>High</td>\n",
              "      <td>4740.78</td>\n",
              "      <td>Urban</td>\n",
              "      <td>82049.80</td>\n",
              "      <td>39386.919336</td>\n",
              "    </tr>\n",
              "  </tbody>\n",
              "</table>\n",
              "</div>\n",
              "      <button class=\"colab-df-convert\" onclick=\"convertToInteractive('df-599a2093-453e-410d-a4c8-afa7f09f908a')\"\n",
              "              title=\"Convert this dataframe to an interactive table.\"\n",
              "              style=\"display:none;\">\n",
              "        \n",
              "  <svg xmlns=\"http://www.w3.org/2000/svg\" height=\"24px\"viewBox=\"0 0 24 24\"\n",
              "       width=\"24px\">\n",
              "    <path d=\"M0 0h24v24H0V0z\" fill=\"none\"/>\n",
              "    <path d=\"M18.56 5.44l.94 2.06.94-2.06 2.06-.94-2.06-.94-.94-2.06-.94 2.06-2.06.94zm-11 1L8.5 8.5l.94-2.06 2.06-.94-2.06-.94L8.5 2.5l-.94 2.06-2.06.94zm10 10l.94 2.06.94-2.06 2.06-.94-2.06-.94-.94-2.06-.94 2.06-2.06.94z\"/><path d=\"M17.41 7.96l-1.37-1.37c-.4-.4-.92-.59-1.43-.59-.52 0-1.04.2-1.43.59L10.3 9.45l-7.72 7.72c-.78.78-.78 2.05 0 2.83L4 21.41c.39.39.9.59 1.41.59.51 0 1.02-.2 1.41-.59l7.78-7.78 2.81-2.81c.8-.78.8-2.07 0-2.86zM5.41 20L4 18.59l7.72-7.72 1.47 1.35L5.41 20z\"/>\n",
              "  </svg>\n",
              "      </button>\n",
              "      \n",
              "  <style>\n",
              "    .colab-df-container {\n",
              "      display:flex;\n",
              "      flex-wrap:wrap;\n",
              "      gap: 12px;\n",
              "    }\n",
              "\n",
              "    .colab-df-convert {\n",
              "      background-color: #E8F0FE;\n",
              "      border: none;\n",
              "      border-radius: 50%;\n",
              "      cursor: pointer;\n",
              "      display: none;\n",
              "      fill: #1967D2;\n",
              "      height: 32px;\n",
              "      padding: 0 0 0 0;\n",
              "      width: 32px;\n",
              "    }\n",
              "\n",
              "    .colab-df-convert:hover {\n",
              "      background-color: #E2EBFA;\n",
              "      box-shadow: 0px 1px 2px rgba(60, 64, 67, 0.3), 0px 1px 3px 1px rgba(60, 64, 67, 0.15);\n",
              "      fill: #174EA6;\n",
              "    }\n",
              "\n",
              "    [theme=dark] .colab-df-convert {\n",
              "      background-color: #3B4455;\n",
              "      fill: #D2E3FC;\n",
              "    }\n",
              "\n",
              "    [theme=dark] .colab-df-convert:hover {\n",
              "      background-color: #434B5C;\n",
              "      box-shadow: 0px 1px 3px 1px rgba(0, 0, 0, 0.15);\n",
              "      filter: drop-shadow(0px 1px 2px rgba(0, 0, 0, 0.3));\n",
              "      fill: #FFFFFF;\n",
              "    }\n",
              "  </style>\n",
              "\n",
              "      <script>\n",
              "        const buttonEl =\n",
              "          document.querySelector('#df-599a2093-453e-410d-a4c8-afa7f09f908a button.colab-df-convert');\n",
              "        buttonEl.style.display =\n",
              "          google.colab.kernel.accessAllowed ? 'block' : 'none';\n",
              "\n",
              "        async function convertToInteractive(key) {\n",
              "          const element = document.querySelector('#df-599a2093-453e-410d-a4c8-afa7f09f908a');\n",
              "          const dataTable =\n",
              "            await google.colab.kernel.invokeFunction('convertToInteractive',\n",
              "                                                     [key], {});\n",
              "          if (!dataTable) return;\n",
              "\n",
              "          const docLinkHtml = 'Like what you see? Visit the ' +\n",
              "            '<a target=\"_blank\" href=https://colab.research.google.com/notebooks/data_table.ipynb>data table notebook</a>'\n",
              "            + ' to learn more about interactive tables.';\n",
              "          element.innerHTML = '';\n",
              "          dataTable['output_type'] = 'display_data';\n",
              "          await google.colab.output.renderOutput(dataTable, element);\n",
              "          const docLink = document.createElement('div');\n",
              "          docLink.innerHTML = docLinkHtml;\n",
              "          element.appendChild(docLink);\n",
              "        }\n",
              "      </script>\n",
              "    </div>\n",
              "  </div>\n",
              "  "
            ]
          },
          "metadata": {}
        },
        {
          "output_type": "display_data",
          "data": {
            "text/plain": [
              "                Age  Income (USD)  Property Age  Property Price  \\\n",
              "count  47297.000000  47265.000000  47263.000000    4.729700e+04   \n",
              "mean      40.000063   2586.684384   2586.611058    1.350880e+05   \n",
              "std       16.086128   1558.768809   1558.842286    9.457875e+04   \n",
              "min       18.000000    372.700000    370.700000    7.859620e+03   \n",
              "25%       24.000000   1653.740000   1652.820000    6.250408e+04   \n",
              "50%       40.000000   2245.480000   2244.810000    1.130936e+05   \n",
              "75%       55.000000   3128.560000   3128.380000    1.819546e+05   \n",
              "max       65.000000  54662.750000  54647.750000    1.077967e+06   \n",
              "\n",
              "       Loan Sanction Amount (USD)  \n",
              "count                47297.000000  \n",
              "mean                 46487.229765  \n",
              "std                  32549.905634  \n",
              "min                    254.586578  \n",
              "25%                  21782.822159  \n",
              "50%                  38822.132402  \n",
              "75%                  62612.236905  \n",
              "max                 366131.165218  "
            ],
            "text/html": [
              "\n",
              "  <div id=\"df-15d435d3-bae2-41bf-aa7d-5d6bac499c7f\">\n",
              "    <div class=\"colab-df-container\">\n",
              "      <div>\n",
              "<style scoped>\n",
              "    .dataframe tbody tr th:only-of-type {\n",
              "        vertical-align: middle;\n",
              "    }\n",
              "\n",
              "    .dataframe tbody tr th {\n",
              "        vertical-align: top;\n",
              "    }\n",
              "\n",
              "    .dataframe thead th {\n",
              "        text-align: right;\n",
              "    }\n",
              "</style>\n",
              "<table border=\"1\" class=\"dataframe\">\n",
              "  <thead>\n",
              "    <tr style=\"text-align: right;\">\n",
              "      <th></th>\n",
              "      <th>Age</th>\n",
              "      <th>Income (USD)</th>\n",
              "      <th>Property Age</th>\n",
              "      <th>Property Price</th>\n",
              "      <th>Loan Sanction Amount (USD)</th>\n",
              "    </tr>\n",
              "  </thead>\n",
              "  <tbody>\n",
              "    <tr>\n",
              "      <th>count</th>\n",
              "      <td>47297.000000</td>\n",
              "      <td>47265.000000</td>\n",
              "      <td>47263.000000</td>\n",
              "      <td>4.729700e+04</td>\n",
              "      <td>47297.000000</td>\n",
              "    </tr>\n",
              "    <tr>\n",
              "      <th>mean</th>\n",
              "      <td>40.000063</td>\n",
              "      <td>2586.684384</td>\n",
              "      <td>2586.611058</td>\n",
              "      <td>1.350880e+05</td>\n",
              "      <td>46487.229765</td>\n",
              "    </tr>\n",
              "    <tr>\n",
              "      <th>std</th>\n",
              "      <td>16.086128</td>\n",
              "      <td>1558.768809</td>\n",
              "      <td>1558.842286</td>\n",
              "      <td>9.457875e+04</td>\n",
              "      <td>32549.905634</td>\n",
              "    </tr>\n",
              "    <tr>\n",
              "      <th>min</th>\n",
              "      <td>18.000000</td>\n",
              "      <td>372.700000</td>\n",
              "      <td>370.700000</td>\n",
              "      <td>7.859620e+03</td>\n",
              "      <td>254.586578</td>\n",
              "    </tr>\n",
              "    <tr>\n",
              "      <th>25%</th>\n",
              "      <td>24.000000</td>\n",
              "      <td>1653.740000</td>\n",
              "      <td>1652.820000</td>\n",
              "      <td>6.250408e+04</td>\n",
              "      <td>21782.822159</td>\n",
              "    </tr>\n",
              "    <tr>\n",
              "      <th>50%</th>\n",
              "      <td>40.000000</td>\n",
              "      <td>2245.480000</td>\n",
              "      <td>2244.810000</td>\n",
              "      <td>1.130936e+05</td>\n",
              "      <td>38822.132402</td>\n",
              "    </tr>\n",
              "    <tr>\n",
              "      <th>75%</th>\n",
              "      <td>55.000000</td>\n",
              "      <td>3128.560000</td>\n",
              "      <td>3128.380000</td>\n",
              "      <td>1.819546e+05</td>\n",
              "      <td>62612.236905</td>\n",
              "    </tr>\n",
              "    <tr>\n",
              "      <th>max</th>\n",
              "      <td>65.000000</td>\n",
              "      <td>54662.750000</td>\n",
              "      <td>54647.750000</td>\n",
              "      <td>1.077967e+06</td>\n",
              "      <td>366131.165218</td>\n",
              "    </tr>\n",
              "  </tbody>\n",
              "</table>\n",
              "</div>\n",
              "      <button class=\"colab-df-convert\" onclick=\"convertToInteractive('df-15d435d3-bae2-41bf-aa7d-5d6bac499c7f')\"\n",
              "              title=\"Convert this dataframe to an interactive table.\"\n",
              "              style=\"display:none;\">\n",
              "        \n",
              "  <svg xmlns=\"http://www.w3.org/2000/svg\" height=\"24px\"viewBox=\"0 0 24 24\"\n",
              "       width=\"24px\">\n",
              "    <path d=\"M0 0h24v24H0V0z\" fill=\"none\"/>\n",
              "    <path d=\"M18.56 5.44l.94 2.06.94-2.06 2.06-.94-2.06-.94-.94-2.06-.94 2.06-2.06.94zm-11 1L8.5 8.5l.94-2.06 2.06-.94-2.06-.94L8.5 2.5l-.94 2.06-2.06.94zm10 10l.94 2.06.94-2.06 2.06-.94-2.06-.94-.94-2.06-.94 2.06-2.06.94z\"/><path d=\"M17.41 7.96l-1.37-1.37c-.4-.4-.92-.59-1.43-.59-.52 0-1.04.2-1.43.59L10.3 9.45l-7.72 7.72c-.78.78-.78 2.05 0 2.83L4 21.41c.39.39.9.59 1.41.59.51 0 1.02-.2 1.41-.59l7.78-7.78 2.81-2.81c.8-.78.8-2.07 0-2.86zM5.41 20L4 18.59l7.72-7.72 1.47 1.35L5.41 20z\"/>\n",
              "  </svg>\n",
              "      </button>\n",
              "      \n",
              "  <style>\n",
              "    .colab-df-container {\n",
              "      display:flex;\n",
              "      flex-wrap:wrap;\n",
              "      gap: 12px;\n",
              "    }\n",
              "\n",
              "    .colab-df-convert {\n",
              "      background-color: #E8F0FE;\n",
              "      border: none;\n",
              "      border-radius: 50%;\n",
              "      cursor: pointer;\n",
              "      display: none;\n",
              "      fill: #1967D2;\n",
              "      height: 32px;\n",
              "      padding: 0 0 0 0;\n",
              "      width: 32px;\n",
              "    }\n",
              "\n",
              "    .colab-df-convert:hover {\n",
              "      background-color: #E2EBFA;\n",
              "      box-shadow: 0px 1px 2px rgba(60, 64, 67, 0.3), 0px 1px 3px 1px rgba(60, 64, 67, 0.15);\n",
              "      fill: #174EA6;\n",
              "    }\n",
              "\n",
              "    [theme=dark] .colab-df-convert {\n",
              "      background-color: #3B4455;\n",
              "      fill: #D2E3FC;\n",
              "    }\n",
              "\n",
              "    [theme=dark] .colab-df-convert:hover {\n",
              "      background-color: #434B5C;\n",
              "      box-shadow: 0px 1px 3px 1px rgba(0, 0, 0, 0.15);\n",
              "      filter: drop-shadow(0px 1px 2px rgba(0, 0, 0, 0.3));\n",
              "      fill: #FFFFFF;\n",
              "    }\n",
              "  </style>\n",
              "\n",
              "      <script>\n",
              "        const buttonEl =\n",
              "          document.querySelector('#df-15d435d3-bae2-41bf-aa7d-5d6bac499c7f button.colab-df-convert');\n",
              "        buttonEl.style.display =\n",
              "          google.colab.kernel.accessAllowed ? 'block' : 'none';\n",
              "\n",
              "        async function convertToInteractive(key) {\n",
              "          const element = document.querySelector('#df-15d435d3-bae2-41bf-aa7d-5d6bac499c7f');\n",
              "          const dataTable =\n",
              "            await google.colab.kernel.invokeFunction('convertToInteractive',\n",
              "                                                     [key], {});\n",
              "          if (!dataTable) return;\n",
              "\n",
              "          const docLinkHtml = 'Like what you see? Visit the ' +\n",
              "            '<a target=\"_blank\" href=https://colab.research.google.com/notebooks/data_table.ipynb>data table notebook</a>'\n",
              "            + ' to learn more about interactive tables.';\n",
              "          element.innerHTML = '';\n",
              "          dataTable['output_type'] = 'display_data';\n",
              "          await google.colab.output.renderOutput(dataTable, element);\n",
              "          const docLink = document.createElement('div');\n",
              "          docLink.innerHTML = docLinkHtml;\n",
              "          element.appendChild(docLink);\n",
              "        }\n",
              "      </script>\n",
              "    </div>\n",
              "  </div>\n",
              "  "
            ]
          },
          "metadata": {}
        }
      ]
    },
    {
      "cell_type": "markdown",
      "source": [
        "## Data Analysis"
      ],
      "metadata": {
        "id": "kLqfm42rjgO2"
      }
    },
    {
      "cell_type": "code",
      "source": [
        "# Data analysis\n",
        "# Todo: analyze your data here"
      ],
      "metadata": {
        "id": "OZFahON289oe"
      },
      "execution_count": 82,
      "outputs": []
    },
    {
      "cell_type": "code",
      "source": [
        "import seaborn as sns\n",
        "sns.histplot(x='Loan Sanction Amount (USD)', data = df, bins = 100)"
      ],
      "metadata": {
        "colab": {
          "base_uri": "https://localhost:8080/",
          "height": 466
        },
        "id": "tAfiMswRPlQW",
        "outputId": "0c8fef4b-8100-4edc-d7b3-372158e84608"
      },
      "execution_count": 83,
      "outputs": [
        {
          "output_type": "execute_result",
          "data": {
            "text/plain": [
              "<Axes: xlabel='Loan Sanction Amount (USD)', ylabel='Count'>"
            ]
          },
          "metadata": {},
          "execution_count": 83
        },
        {
          "output_type": "display_data",
          "data": {
            "text/plain": [
              "<Figure size 640x480 with 1 Axes>"
            ],
            "image/png": "[encoded data removed]"
          },
          "metadata": {}
        }
      ]
    },
    {
      "cell_type": "markdown",
      "source": [
        "## Preprocessing"
      ],
      "metadata": {
        "id": "FWQ3y3T2f32N"
      }
    },
    {
      "cell_type": "code",
      "source": [
        "#null check if there is any missing data\n",
        "print(df.isnull().sum())\n",
        "print(\"Sample size:\", len(df))"
      ],
      "metadata": {
        "colab": {
          "base_uri": "https://localhost:8080/"
        },
        "id": "7u6kQzSpP153",
        "outputId": "a4e38af7-ac43-4a30-dcbf-dc66aef69a48"
      },
      "execution_count": 84,
      "outputs": [
        {
          "output_type": "stream",
          "name": "stdout",
          "text": [
            "Gender                         0\n",
            "Age                            0\n",
            "Income (USD)                  32\n",
            "Income Stability              12\n",
            "Property Age                  34\n",
            "Property Location              3\n",
            "Property Price                 0\n",
            "Loan Sanction Amount (USD)     0\n",
            "dtype: int64\n",
            "Sample size: 47297\n"
          ]
        }
      ]
    },
    {
      "cell_type": "code",
      "execution_count": 85,
      "metadata": {
        "id": "6f647dba"
      },
      "outputs": [],
      "source": [
        "def preprocessing_data(df):\n",
        "    # --- (Optional) Drop null datapoints or fill missing data\n",
        "    # Keep your data the same if you dont want to customize it\n",
        "    df = df.dropna(how='any', axis = 0)\n",
        "    return df"
      ]
    },
    {
      "cell_type": "code",
      "source": [
        "df = preprocessing_data(df.copy())"
      ],
      "metadata": {
        "id": "9KKiP3yd3m8t"
      },
      "execution_count": 86,
      "outputs": []
    },
    {
      "cell_type": "code",
      "source": [
        "print(\"Not null sample size:\", len(df))"
      ],
      "metadata": {
        "colab": {
          "base_uri": "https://localhost:8080/"
        },
        "id": "nowYxylBQLdv",
        "outputId": "190c53f4-9bfb-4427-bf46-fb19f5b50b67"
      },
      "execution_count": 87,
      "outputs": [
        {
          "output_type": "stream",
          "name": "stdout",
          "text": [
            "Not null sample size: 47251\n"
          ]
        }
      ]
    },
    {
      "cell_type": "markdown",
      "source": [
        "## Feature Engineering"
      ],
      "metadata": {
        "id": "hEu9oydOjZem"
      }
    },
    {
      "cell_type": "code",
      "source": [
        "# from scipy.stats import zscore\n",
        "# import pandas as pd\n",
        "\n",
        "# # Create a sample df\n",
        "# df = pd.DataFrame({'num_1': [1,2,3,4,5,6,7,8,9,3,4,6,5,7,3,2,9]})\n",
        "\n",
        "# # Calculate the zscores and drop zscores into new column\n",
        "# df['num_1_zscore'] = zscore(df['num_1'])\n",
        "\n",
        "# display(df)"
      ],
      "metadata": {
        "id": "Vu_qferH8ucd"
      },
      "execution_count": 88,
      "outputs": []
    },
    {
      "cell_type": "code",
      "source": [
        "from scipy.stats import zscore\n",
        "\n",
        "def normalize_data(df):\n",
        "  normalized_data = df.copy()\n",
        "  normalized_data[\"Gender\"] = normalized_data[\"Gender\"].astype(\"category\").cat.codes\n",
        "  normalized_data[\"Income Stability\"] = normalized_data[\"Income Stability\"].astype(\"category\").cat.codes\n",
        "  normalized_data[\"Property Location\"] = normalized_data[\"Property Location\"].astype(\"category\").cat.codes\n",
        "  normalized_data[\"Age\"] = zscore(normalized_data[\"Age\"])\n",
        "  normalized_data[\"Income (USD)\"] = zscore(normalized_data[\"Income (USD)\"])\n",
        "  normalized_data[\"Property Age\"] = zscore(normalized_data[\"Property Age\"])\n",
        "  normalized_data[\"Property Price\"] = zscore(normalized_data[\"Property Price\"])\n",
        "  return normalized_data"
      ],
      "metadata": {
        "id": "ee4UO0d_2-ED"
      },
      "execution_count": 89,
      "outputs": []
    },
    {
      "cell_type": "code",
      "source": [
        "# Heatmap\n",
        "import seaborn as sns\n",
        "\n",
        "df = normalize_data(df.copy())\n",
        "sns.heatmap(df.corr()) # Show heatmap after normalized data"
      ],
      "metadata": {
        "id": "AmepvqLbknvO",
        "colab": {
          "base_uri": "https://localhost:8080/",
          "height": 640
        },
        "outputId": "7d20531a-d624-4da7-eec3-930882e79ea3"
      },
      "execution_count": 90,
      "outputs": [
        {
          "output_type": "execute_result",
          "data": {
            "text/plain": [
              "<Axes: >"
            ]
          },
          "metadata": {},
          "execution_count": 90
        },
        {
          "output_type": "display_data",
          "data": {
            "text/plain": [
              "<Figure size 640x480 with 2 Axes>"
            ],
            "image/png": "[encoded data removed]"
          },
          "metadata": {}
        }
      ]
    },
    {
      "cell_type": "code",
      "source": [
        "display(df.head())\n",
        "display(df.corr())"
      ],
      "metadata": {
        "colab": {
          "base_uri": "https://localhost:8080/",
          "height": 489
        },
        "id": "7EOw2ebJUUYw",
        "outputId": "90b3d76f-2ee5-4763-f13d-8f015c83efa1"
      },
      "execution_count": 91,
      "outputs": [
        {
          "output_type": "display_data",
          "data": {
            "text/plain": [
              "   Gender       Age  Income (USD)  Income Stability  Property Age  \\\n",
              "0       0 -1.305774     -0.606838                 1     -0.600375   \n",
              "1       1 -0.684130     -0.383131                 1     -0.382454   \n",
              "2       0 -0.186815     -0.472881                 1     -0.468349   \n",
              "3       1  1.553786      0.095452                 0      0.103172   \n",
              "4       0  1.367293      1.383666                 0      1.382990   \n",
              "\n",
              "   Property Location  Property Price  Loan Sanction Amount (USD)  \n",
              "0                  0       -0.797694                21026.420753  \n",
              "1                  2        0.473190                60595.183366  \n",
              "2                  0       -0.188179                39181.648002  \n",
              "3                  0        2.318560               128497.710865  \n",
              "4                  2       -0.560805                39386.919336  "
            ],
            "text/html": [
              "\n",
              "  <div id=\"df-ade0c0d5-185e-4c25-b375-906b54642cee\">\n",
              "    <div class=\"colab-df-container\">\n",
              "      <div>\n",
              "<style scoped>\n",
              "    .dataframe tbody tr th:only-of-type {\n",
              "        vertical-align: middle;\n",
              "    }\n",
              "\n",
              "    .dataframe tbody tr th {\n",
              "        vertical-align: top;\n",
              "    }\n",
              "\n",
              "    .dataframe thead th {\n",
              "        text-align: right;\n",
              "    }\n",
              "</style>\n",
              "<table border=\"1\" class=\"dataframe\">\n",
              "  <thead>\n",
              "    <tr style=\"text-align: right;\">\n",
              "      <th></th>\n",
              "      <th>Gender</th>\n",
              "      <th>Age</th>\n",
              "      <th>Income (USD)</th>\n",
              "      <th>Income Stability</th>\n",
              "      <th>Property Age</th>\n",
              "      <th>Property Location</th>\n",
              "      <th>Property Price</th>\n",
              "      <th>Loan Sanction Amount (USD)</th>\n",
              "    </tr>\n",
              "  </thead>\n",
              "  <tbody>\n",
              "    <tr>\n",
              "      <th>0</th>\n",
              "      <td>0</td>\n",
              "      <td>-1.305774</td>\n",
              "      <td>-0.606838</td>\n",
              "      <td>1</td>\n",
              "      <td>-0.600375</td>\n",
              "      <td>0</td>\n",
              "      <td>-0.797694</td>\n",
              "      <td>21026.420753</td>\n",
              "    </tr>\n",
              "    <tr>\n",
              "      <th>1</th>\n",
              "      <td>1</td>\n",
              "      <td>-0.684130</td>\n",
              "      <td>-0.383131</td>\n",
              "      <td>1</td>\n",
              "      <td>-0.382454</td>\n",
              "      <td>2</td>\n",
              "      <td>0.473190</td>\n",
              "      <td>60595.183366</td>\n",
              "    </tr>\n",
              "    <tr>\n",
              "      <th>2</th>\n",
              "      <td>0</td>\n",
              "      <td>-0.186815</td>\n",
              "      <td>-0.472881</td>\n",
              "      <td>1</td>\n",
              "      <td>-0.468349</td>\n",
              "      <td>0</td>\n",
              "      <td>-0.188179</td>\n",
              "      <td>39181.648002</td>\n",
              "    </tr>\n",
              "    <tr>\n",
              "      <th>3</th>\n",
              "      <td>1</td>\n",
              "      <td>1.553786</td>\n",
              "      <td>0.095452</td>\n",
              "      <td>0</td>\n",
              "      <td>0.103172</td>\n",
              "      <td>0</td>\n",
              "      <td>2.318560</td>\n",
              "      <td>128497.710865</td>\n",
              "    </tr>\n",
              "    <tr>\n",
              "      <th>4</th>\n",
              "      <td>0</td>\n",
              "      <td>1.367293</td>\n",
              "      <td>1.383666</td>\n",
              "      <td>0</td>\n",
              "      <td>1.382990</td>\n",
              "      <td>2</td>\n",
              "      <td>-0.560805</td>\n",
              "      <td>39386.919336</td>\n",
              "    </tr>\n",
              "  </tbody>\n",
              "</table>\n",
              "</div>\n",
              "      <button class=\"colab-df-convert\" onclick=\"convertToInteractive('df-ade0c0d5-185e-4c25-b375-906b54642cee')\"\n",
              "              title=\"Convert this dataframe to an interactive table.\"\n",
              "              style=\"display:none;\">\n",
              "        \n",
              "  <svg xmlns=\"http://www.w3.org/2000/svg\" height=\"24px\"viewBox=\"0 0 24 24\"\n",
              "       width=\"24px\">\n",
              "    <path d=\"M0 0h24v24H0V0z\" fill=\"none\"/>\n",
              "    <path d=\"M18.56 5.44l.94 2.06.94-2.06 2.06-.94-2.06-.94-.94-2.06-.94 2.06-2.06.94zm-11 1L8.5 8.5l.94-2.06 2.06-.94-2.06-.94L8.5 2.5l-.94 2.06-2.06.94zm10 10l.94 2.06.94-2.06 2.06-.94-2.06-.94-.94-2.06-.94 2.06-2.06.94z\"/><path d=\"M17.41 7.96l-1.37-1.37c-.4-.4-.92-.59-1.43-.59-.52 0-1.04.2-1.43.59L10.3 9.45l-7.72 7.72c-.78.78-.78 2.05 0 2.83L4 21.41c.39.39.9.59 1.41.59.51 0 1.02-.2 1.41-.59l7.78-7.78 2.81-2.81c.8-.78.8-2.07 0-2.86zM5.41 20L4 18.59l7.72-7.72 1.47 1.35L5.41 20z\"/>\n",
              "  </svg>\n",
              "      </button>\n",
              "      \n",
              "  <style>\n",
              "    .colab-df-container {\n",
              "      display:flex;\n",
              "      flex-wrap:wrap;\n",
              "      gap: 12px;\n",
              "    }\n",
              "\n",
              "    .colab-df-convert {\n",
              "      background-color: #E8F0FE;\n",
              "      border: none;\n",
              "      border-radius: 50%;\n",
              "      cursor: pointer;\n",
              "      display: none;\n",
              "      fill: #1967D2;\n",
              "      height: 32px;\n",
              "      padding: 0 0 0 0;\n",
              "      width: 32px;\n",
              "    }\n",
              "\n",
              "    .colab-df-convert:hover {\n",
              "      background-color: #E2EBFA;\n",
              "      box-shadow: 0px 1px 2px rgba(60, 64, 67, 0.3), 0px 1px 3px 1px rgba(60, 64, 67, 0.15);\n",
              "      fill: #174EA6;\n",
              "    }\n",
              "\n",
              "    [theme=dark] .colab-df-convert {\n",
              "      background-color: #3B4455;\n",
              "      fill: #D2E3FC;\n",
              "    }\n",
              "\n",
              "    [theme=dark] .colab-df-convert:hover {\n",
              "      background-color: #434B5C;\n",
              "      box-shadow: 0px 1px 3px 1px rgba(0, 0, 0, 0.15);\n",
              "      filter: drop-shadow(0px 1px 2px rgba(0, 0, 0, 0.3));\n",
              "      fill: #FFFFFF;\n",
              "    }\n",
              "  </style>\n",
              "\n",
              "      <script>\n",
              "        const buttonEl =\n",
              "          document.querySelector('#df-ade0c0d5-185e-4c25-b375-906b54642cee button.colab-df-convert');\n",
              "        buttonEl.style.display =\n",
              "          google.colab.kernel.accessAllowed ? 'block' : 'none';\n",
              "\n",
              "        async function convertToInteractive(key) {\n",
              "          const element = document.querySelector('#df-ade0c0d5-185e-4c25-b375-906b54642cee');\n",
              "          const dataTable =\n",
              "            await google.colab.kernel.invokeFunction('convertToInteractive',\n",
              "                                                     [key], {});\n",
              "          if (!dataTable) return;\n",
              "\n",
              "          const docLinkHtml = 'Like what you see? Visit the ' +\n",
              "            '<a target=\"_blank\" href=https://colab.research.google.com/notebooks/data_table.ipynb>data table notebook</a>'\n",
              "            + ' to learn more about interactive tables.';\n",
              "          element.innerHTML = '';\n",
              "          dataTable['output_type'] = 'display_data';\n",
              "          await google.colab.output.renderOutput(dataTable, element);\n",
              "          const docLink = document.createElement('div');\n",
              "          docLink.innerHTML = docLinkHtml;\n",
              "          element.appendChild(docLink);\n",
              "        }\n",
              "      </script>\n",
              "    </div>\n",
              "  </div>\n",
              "  "
            ]
          },
          "metadata": {}
        },
        {
          "output_type": "display_data",
          "data": {
            "text/plain": [
              "                              Gender       Age  Income (USD)  \\\n",
              "Gender                      1.000000  0.007706     -0.002445   \n",
              "Age                         0.007706  1.000000     -0.044086   \n",
              "Income (USD)               -0.002445 -0.044086      1.000000   \n",
              "Income Stability           -0.019000 -0.455855      0.080961   \n",
              "Property Age               -0.002512 -0.044085      0.999986   \n",
              "Property Location           0.009142 -0.007770     -0.000199   \n",
              "Property Price              0.005931 -0.003274      0.358110   \n",
              "Loan Sanction Amount (USD)  0.003396 -0.000115      0.392897   \n",
              "\n",
              "                            Income Stability  Property Age  Property Location  \\\n",
              "Gender                             -0.019000     -0.002512           0.009142   \n",
              "Age                                -0.455855     -0.044085          -0.007770   \n",
              "Income (USD)                        0.080961      0.999986          -0.000199   \n",
              "Income Stability                    1.000000      0.081008          -0.001959   \n",
              "Property Age                        0.081008      1.000000          -0.000233   \n",
              "Property Location                  -0.001959     -0.000233           1.000000   \n",
              "Property Price                      0.004813      0.358110          -0.000898   \n",
              "Loan Sanction Amount (USD)         -0.070969      0.392892          -0.001988   \n",
              "\n",
              "                            Property Price  Loan Sanction Amount (USD)  \n",
              "Gender                            0.005931                    0.003396  \n",
              "Age                              -0.003274                   -0.000115  \n",
              "Income (USD)                      0.358110                    0.392897  \n",
              "Income Stability                  0.004813                   -0.070969  \n",
              "Property Age                      0.358110                    0.392892  \n",
              "Property Location                -0.000898                   -0.001988  \n",
              "Property Price                    1.000000                    0.994429  \n",
              "Loan Sanction Amount (USD)        0.994429                    1.000000  "
            ],
            "text/html": [
              "\n",
              "  <div id=\"df-cc9ff37c-f317-4fae-8a13-7da8c862f4af\">\n",
              "    <div class=\"colab-df-container\">\n",
              "      <div>\n",
              "<style scoped>\n",
              "    .dataframe tbody tr th:only-of-type {\n",
              "        vertical-align: middle;\n",
              "    }\n",
              "\n",
              "    .dataframe tbody tr th {\n",
              "        vertical-align: top;\n",
              "    }\n",
              "\n",
              "    .dataframe thead th {\n",
              "        text-align: right;\n",
              "    }\n",
              "</style>\n",
              "<table border=\"1\" class=\"dataframe\">\n",
              "  <thead>\n",
              "    <tr style=\"text-align: right;\">\n",
              "      <th></th>\n",
              "      <th>Gender</th>\n",
              "      <th>Age</th>\n",
              "      <th>Income (USD)</th>\n",
              "      <th>Income Stability</th>\n",
              "      <th>Property Age</th>\n",
              "      <th>Property Location</th>\n",
              "      <th>Property Price</th>\n",
              "      <th>Loan Sanction Amount (USD)</th>\n",
              "    </tr>\n",
              "  </thead>\n",
              "  <tbody>\n",
              "    <tr>\n",
              "      <th>Gender</th>\n",
              "      <td>1.000000</td>\n",
              "      <td>0.007706</td>\n",
              "      <td>-0.002445</td>\n",
              "      <td>-0.019000</td>\n",
              "      <td>-0.002512</td>\n",
              "      <td>0.009142</td>\n",
              "      <td>0.005931</td>\n",
              "      <td>0.003396</td>\n",
              "    </tr>\n",
              "    <tr>\n",
              "      <th>Age</th>\n",
              "      <td>0.007706</td>\n",
              "      <td>1.000000</td>\n",
              "      <td>-0.044086</td>\n",
              "      <td>-0.455855</td>\n",
              "      <td>-0.044085</td>\n",
              "      <td>-0.007770</td>\n",
              "      <td>-0.003274</td>\n",
              "      <td>-0.000115</td>\n",
              "    </tr>\n",
              "    <tr>\n",
              "      <th>Income (USD)</th>\n",
              "      <td>-0.002445</td>\n",
              "      <td>-0.044086</td>\n",
              "      <td>1.000000</td>\n",
              "      <td>0.080961</td>\n",
              "      <td>0.999986</td>\n",
              "      <td>-0.000199</td>\n",
              "      <td>0.358110</td>\n",
              "      <td>0.392897</td>\n",
              "    </tr>\n",
              "    <tr>\n",
              "      <th>Income Stability</th>\n",
              "      <td>-0.019000</td>\n",
              "      <td>-0.455855</td>\n",
              "      <td>0.080961</td>\n",
              "      <td>1.000000</td>\n",
              "      <td>0.081008</td>\n",
              "      <td>-0.001959</td>\n",
              "      <td>0.004813</td>\n",
              "      <td>-0.070969</td>\n",
              "    </tr>\n",
              "    <tr>\n",
              "      <th>Property Age</th>\n",
              "      <td>-0.002512</td>\n",
              "      <td>-0.044085</td>\n",
              "      <td>0.999986</td>\n",
              "      <td>0.081008</td>\n",
              "      <td>1.000000</td>\n",
              "      <td>-0.000233</td>\n",
              "      <td>0.358110</td>\n",
              "      <td>0.392892</td>\n",
              "    </tr>\n",
              "    <tr>\n",
              "      <th>Property Location</th>\n",
              "      <td>0.009142</td>\n",
              "      <td>-0.007770</td>\n",
              "      <td>-0.000199</td>\n",
              "      <td>-0.001959</td>\n",
              "      <td>-0.000233</td>\n",
              "      <td>1.000000</td>\n",
              "      <td>-0.000898</td>\n",
              "      <td>-0.001988</td>\n",
              "    </tr>\n",
              "    <tr>\n",
              "      <th>Property Price</th>\n",
              "      <td>0.005931</td>\n",
              "      <td>-0.003274</td>\n",
              "      <td>0.358110</td>\n",
              "      <td>0.004813</td>\n",
              "      <td>0.358110</td>\n",
              "      <td>-0.000898</td>\n",
              "      <td>1.000000</td>\n",
              "      <td>0.994429</td>\n",
              "    </tr>\n",
              "    <tr>\n",
              "      <th>Loan Sanction Amount (USD)</th>\n",
              "      <td>0.003396</td>\n",
              "      <td>-0.000115</td>\n",
              "      <td>0.392897</td>\n",
              "      <td>-0.070969</td>\n",
              "      <td>0.392892</td>\n",
              "      <td>-0.001988</td>\n",
              "      <td>0.994429</td>\n",
              "      <td>1.000000</td>\n",
              "    </tr>\n",
              "  </tbody>\n",
              "</table>\n",
              "</div>\n",
              "      <button class=\"colab-df-convert\" onclick=\"convertToInteractive('df-cc9ff37c-f317-4fae-8a13-7da8c862f4af')\"\n",
              "              title=\"Convert this dataframe to an interactive table.\"\n",
              "              style=\"display:none;\">\n",
              "        \n",
              "  <svg xmlns=\"http://www.w3.org/2000/svg\" height=\"24px\"viewBox=\"0 0 24 24\"\n",
              "       width=\"24px\">\n",
              "    <path d=\"M0 0h24v24H0V0z\" fill=\"none\"/>\n",
              "    <path d=\"M18.56 5.44l.94 2.06.94-2.06 2.06-.94-2.06-.94-.94-2.06-.94 2.06-2.06.94zm-11 1L8.5 8.5l.94-2.06 2.06-.94-2.06-.94L8.5 2.5l-.94 2.06-2.06.94zm10 10l.94 2.06.94-2.06 2.06-.94-2.06-.94-.94-2.06-.94 2.06-2.06.94z\"/><path d=\"M17.41 7.96l-1.37-1.37c-.4-.4-.92-.59-1.43-.59-.52 0-1.04.2-1.43.59L10.3 9.45l-7.72 7.72c-.78.78-.78 2.05 0 2.83L4 21.41c.39.39.9.59 1.41.59.51 0 1.02-.2 1.41-.59l7.78-7.78 2.81-2.81c.8-.78.8-2.07 0-2.86zM5.41 20L4 18.59l7.72-7.72 1.47 1.35L5.41 20z\"/>\n",
              "  </svg>\n",
              "      </button>\n",
              "      \n",
              "  <style>\n",
              "    .colab-df-container {\n",
              "      display:flex;\n",
              "      flex-wrap:wrap;\n",
              "      gap: 12px;\n",
              "    }\n",
              "\n",
              "    .colab-df-convert {\n",
              "      background-color: #E8F0FE;\n",
              "      border: none;\n",
              "      border-radius: 50%;\n",
              "      cursor: pointer;\n",
              "      display: none;\n",
              "      fill: #1967D2;\n",
              "      height: 32px;\n",
              "      padding: 0 0 0 0;\n",
              "      width: 32px;\n",
              "    }\n",
              "\n",
              "    .colab-df-convert:hover {\n",
              "      background-color: #E2EBFA;\n",
              "      box-shadow: 0px 1px 2px rgba(60, 64, 67, 0.3), 0px 1px 3px 1px rgba(60, 64, 67, 0.15);\n",
              "      fill: #174EA6;\n",
              "    }\n",
              "\n",
              "    [theme=dark] .colab-df-convert {\n",
              "      background-color: #3B4455;\n",
              "      fill: #D2E3FC;\n",
              "    }\n",
              "\n",
              "    [theme=dark] .colab-df-convert:hover {\n",
              "      background-color: #434B5C;\n",
              "      box-shadow: 0px 1px 3px 1px rgba(0, 0, 0, 0.15);\n",
              "      filter: drop-shadow(0px 1px 2px rgba(0, 0, 0, 0.3));\n",
              "      fill: #FFFFFF;\n",
              "    }\n",
              "  </style>\n",
              "\n",
              "      <script>\n",
              "        const buttonEl =\n",
              "          document.querySelector('#df-cc9ff37c-f317-4fae-8a13-7da8c862f4af button.colab-df-convert');\n",
              "        buttonEl.style.display =\n",
              "          google.colab.kernel.accessAllowed ? 'block' : 'none';\n",
              "\n",
              "        async function convertToInteractive(key) {\n",
              "          const element = document.querySelector('#df-cc9ff37c-f317-4fae-8a13-7da8c862f4af');\n",
              "          const dataTable =\n",
              "            await google.colab.kernel.invokeFunction('convertToInteractive',\n",
              "                                                     [key], {});\n",
              "          if (!dataTable) return;\n",
              "\n",
              "          const docLinkHtml = 'Like what you see? Visit the ' +\n",
              "            '<a target=\"_blank\" href=https://colab.research.google.com/notebooks/data_table.ipynb>data table notebook</a>'\n",
              "            + ' to learn more about interactive tables.';\n",
              "          element.innerHTML = '';\n",
              "          dataTable['output_type'] = 'display_data';\n",
              "          await google.colab.output.renderOutput(dataTable, element);\n",
              "          const docLink = document.createElement('div');\n",
              "          docLink.innerHTML = docLinkHtml;\n",
              "          element.appendChild(docLink);\n",
              "        }\n",
              "      </script>\n",
              "    </div>\n",
              "  </div>\n",
              "  "
            ]
          },
          "metadata": {}
        }
      ]
    },
    {
      "cell_type": "markdown",
      "source": [
        "# Apply machine learning model"
      ],
      "metadata": {
        "id": "fzgR-i-gE1hc"
      }
    },
    {
      "cell_type": "markdown",
      "source": [
        "## Train-test split"
      ],
      "metadata": {
        "id": "ppt3beFBjnID"
      }
    },
    {
      "cell_type": "code",
      "source": [
        "from sklearn.model_selection import train_test_split\n",
        "from sklearn.metrics import mean_absolute_error"
      ],
      "metadata": {
        "id": "dodR58Ha3wgf"
      },
      "execution_count": 92,
      "outputs": []
    },
    {
      "cell_type": "code",
      "source": [
        "cols = df.columns.tolist()\n",
        "cols.remove('Loan Sanction Amount (USD)')\n",
        "\n",
        "feature = df[cols]\n",
        "target = df['Loan Sanction Amount (USD)']"
      ],
      "metadata": {
        "id": "nmXp35BmVX0K"
      },
      "execution_count": 93,
      "outputs": []
    },
    {
      "cell_type": "code",
      "source": [
        "def prepare_X_y(df):\n",
        "    # Split data into X and y. Return two dataframes\n",
        "    X = df[cols] # Todo: Select features\n",
        "    y = df['Loan Sanction Amount (USD)'] # Todo: Select label\n",
        "    return X, y\n",
        "\n",
        "X, y = prepare_X_y(df)"
      ],
      "metadata": {
        "id": "mBo9kxbmSZiF"
      },
      "execution_count": 94,
      "outputs": []
    },
    {
      "cell_type": "code",
      "source": [
        "def split_train_test(X, y, train_size=0.7):\n",
        "    trainX, testX ,trainY, testY = train_test_split(X, y, train_size = train_size, random_state=2023) # Use sklearn train_test_split to split X and y into 2 sets: train set and test set. With train_size is the proportion of train_set and fix the random_state with a number\n",
        "    print('Training:' + str(trainX.shape))\n",
        "    print('Test:' + str(testX.shape))\n",
        "\n",
        "    return trainX, testX ,trainY, testY"
      ],
      "metadata": {
        "id": "oanMcOPgScf7"
      },
      "execution_count": 95,
      "outputs": []
    },
    {
      "cell_type": "code",
      "source": [
        "TRAIN_SIZE = 0.7\n",
        "\n",
        "trainX, testX ,trainY, testY = split_train_test(X, y, train_size=TRAIN_SIZE)"
      ],
      "metadata": {
        "id": "NFvHM8hA4vlr",
        "colab": {
          "base_uri": "https://localhost:8080/"
        },
        "outputId": "fdca2f58-ee61-4ccb-c8a2-90c54014d622"
      },
      "execution_count": 96,
      "outputs": [
        {
          "output_type": "stream",
          "name": "stdout",
          "text": [
            "Training:(33075, 7)\n",
            "Test:(14176, 7)\n"
          ]
        }
      ]
    },
    {
      "cell_type": "markdown",
      "source": [
        "## Basic Linear Regression"
      ],
      "metadata": {
        "id": "1xECUjRuFy2e"
      }
    },
    {
      "cell_type": "code",
      "source": [
        "from sklearn.linear_model import LinearRegression\n",
        "\n",
        "\n",
        "def build_linear_model(X, y):\n",
        "    model = LinearRegression(fit_intercept=True) # Todo: use sklearn model and config your parameters\n",
        "    # Todo: fit your model with X, y\n",
        "    model.fit(X, y)\n",
        "    \n",
        "    return model\n",
        "\n",
        "model = build_linear_model(trainX, trainY)\n",
        "# Compare on training dataset\n",
        "predTrain = model.predict(trainX)   \n",
        "print(\"mean absolute error of linear model on train set \", mean_absolute_error(y_pred=predTrain, y_true=trainY) )\n",
        "predTest = model.predict(testX)   \n",
        "print(\"mean absolute error of linear model on test set \", mean_absolute_error(y_pred=predTest, y_true=testY) )\n",
        "\n",
        "print('Model coeficient = ',model.coef_)\n",
        "print()\n",
        "print('Model intercept = ', model.intercept_)\n",
        "MAE_linear = [mean_absolute_error(y_pred=predTrain, y_true=trainY), mean_absolute_error(y_pred=predTest, y_true=testY)]"
      ],
      "metadata": {
        "id": "6aIK-of7E6Wv",
        "colab": {
          "base_uri": "https://localhost:8080/"
        },
        "outputId": "514a7ae5-78a5-4c11-8e39-ac3f3a084907"
      },
      "execution_count": 97,
      "outputs": [
        {
          "output_type": "stream",
          "name": "stdout",
          "text": [
            "mean absolute error of linear model on train set  163.1411615311818\n",
            "mean absolute error of linear model on test set  137.10457506709068\n",
            "Model coeficient =  [  -234.48381499  -1277.03711358    856.99928216 -11143.13630804\n",
            "    739.21924745    -60.29291367  31815.38204674]\n",
            "\n",
            "Model intercept =  56809.7843152843\n"
          ]
        }
      ]
    },
    {
      "cell_type": "code",
      "source": [
        "from sklearn import linear_model\n",
        "\n",
        "\n",
        "def build_lasso_model(X, y):\n",
        "    model = linear_model.Lasso(alpha=0.5) # Todo: use sklearn model and config your parameters\n",
        "    # Todo: fit your model with X, y\n",
        "    model.fit(X,y)\n",
        "    return model\n",
        "\n",
        "lasso = build_lasso_model(trainX, trainY)\n",
        "# Compare on training dataset\n",
        "predTrain = lasso.predict(trainX)   \n",
        "print(\"mean absolute error of linear Lasso model on train set \", mean_absolute_error(y_pred=predTrain, y_true=trainY) )\n",
        "predTest = lasso.predict(testX)   \n",
        "print(\"mean absolute error of linear Lasso model on test set \", mean_absolute_error(y_pred=predTest, y_true=testY) )\n",
        "\n",
        "print(lasso.coef_) # print coefficient\n",
        "print()\n",
        "print(lasso.intercept_) # print intercept_\n",
        "MAE_lasso = [mean_absolute_error(y_pred=predTrain, y_true=trainY), mean_absolute_error(y_pred=predTest, y_true=testY)]"
      ],
      "metadata": {
        "id": "snbiK5iHFJb_",
        "colab": {
          "base_uri": "https://localhost:8080/"
        },
        "outputId": "d1524352-4dee-4e0f-fba9-dc44ca506907"
      },
      "execution_count": 98,
      "outputs": [
        {
          "output_type": "stream",
          "name": "stdout",
          "text": [
            "mean absolute error of linear Lasso model on train set  163.23520311022884\n",
            "mean absolute error of linear Lasso model on test set  137.171247626252\n",
            "[  -232.46009942  -1275.32101182   1346.22878596 -11133.88165804\n",
            "    249.51495089    -59.55692891  31815.04606471]\n",
            "\n",
            "56799.61562639706\n"
          ]
        }
      ]
    },
    {
      "cell_type": "code",
      "source": [
        "#improve the lasso model by choosing the best alpha \n",
        "from sklearn import linear_model\n",
        "from sklearn.model_selection import GridSearchCV\n",
        "\n",
        "best_alpha ={'alpha': [0.1, 0.2, 0.3, 0.4, 0.5, 0.6, 0.7, 0.8, 0.9, 1, 2, 3, 4, 5, 6, 7, 15 ,20]}\n",
        "\n",
        "def build_lasso_model(X, y):\n",
        "    model = linear_model.Lasso(fit_intercept=True) # Todo: use sklearn model and config your parameters\n",
        "    \n",
        "    modelCV = GridSearchCV(model, best_alpha)\n",
        "    modelCV.fit(X,y)\n",
        "    print('Best alpha: ', modelCV.best_params_['alpha'])\n",
        "\n",
        "    # Todo: fit your model with X, y\n",
        "    model = linear_model.Lasso(alpha=modelCV.best_params_['alpha'], fit_intercept=True)\n",
        "    model.fit(X,y)\n",
        "    return model\n",
        "\n",
        "lasso = build_lasso_model(trainX, trainY)\n",
        "# Compare on training dataset\n",
        "predTrain = lasso.predict(trainX)   \n",
        "print(\"mean absolute error of linear Lasso model on train set \", mean_absolute_error(y_pred=predTrain, y_true=trainY) )\n",
        "predTest = lasso.predict(testX)   \n",
        "print(\"mean absolute error of linear Lasso model on test set \", mean_absolute_error(y_pred=predTest, y_true=testY) )\n",
        "\n",
        "print(lasso.coef_) # print coefficient\n",
        "print()\n",
        "print(lasso.intercept_) # print intercept_\n",
        "MAE_lasso = [mean_absolute_error(y_pred=predTrain, y_true=trainY), mean_absolute_error(y_pred=predTest, y_true=testY)]"
      ],
      "metadata": {
        "colab": {
          "base_uri": "https://localhost:8080/"
        },
        "id": "_x6cOZ6n5-8B",
        "outputId": "fa686e71-ae14-436c-fe26-3bee74ba3299"
      },
      "execution_count": 99,
      "outputs": [
        {
          "output_type": "stream",
          "name": "stdout",
          "text": [
            "Best alpha:  0.1\n",
            "mean absolute error of linear Lasso model on train set  163.18936462296867\n",
            "mean absolute error of linear Lasso model on test set  137.13409295565282\n",
            "[  -234.10511973  -1276.68079316   1346.44751002 -11141.2137259\n",
            "    249.69272453    -60.17202235  31815.31254133]\n",
            "\n",
            "56807.7242222434\n"
          ]
        }
      ]
    },
    {
      "cell_type": "code",
      "source": [
        "#plot the ratio to find the best ratio for the Ridge model\n",
        "from sklearn.linear_model import ElasticNet\n",
        "import matplotlib.pyplot as plt\n",
        "\n",
        "\n",
        "alpha = [0.1, 0.2, 0.3, 0.4, 0.5, 0.6, 0.7, 0.8, 0.9, 1, 2, 3, 4, 5, 6, 7, 15 ,20]\n",
        "\n",
        "MAE = []\n",
        "\n",
        "for al in alpha:\n",
        "  lasso = linear_model.Lasso(alpha=al, fit_intercept=True)\n",
        "  lasso.fit(trainX, trainY)\n",
        "  predTrain = lasso.predict(trainX)\n",
        "  err = mean_absolute_error(y_pred=predTrain, y_true=trainY)\n",
        "  MAE.append(err)\n",
        "\n",
        "print(alpha)\n",
        "print(MAE)\n",
        "plt.plot(alpha, MAE)\n",
        "plt.xlabel('alpha')\n",
        "plt.ylabel('MAE')\n",
        "plt.show()"
      ],
      "metadata": {
        "colab": {
          "base_uri": "https://localhost:8080/",
          "height": 504
        },
        "id": "1KvVdyM5H8Oe",
        "outputId": "a40f3d15-82a7-4618-8328-a9995066b168"
      },
      "execution_count": 100,
      "outputs": [
        {
          "output_type": "stream",
          "name": "stdout",
          "text": [
            "[0.1, 0.2, 0.3, 0.4, 0.5, 0.6, 0.7, 0.8, 0.9, 1, 2, 3, 4, 5, 6, 7, 15, 20]\n",
            "[163.18936462296867, 163.1966840456618, 163.20719384803886, 163.22017101876835, 163.23520311022884, 163.25028251578019, 163.27157977342668, 163.29584741219443, 163.32274276210055, 163.35281366290775, 163.79604777811286, 164.49271465883987, 165.49133954941047, 166.76264123047022, 168.24177314943074, 169.92023622453152, 189.38071989603046, 205.0055110335674]\n"
          ]
        },
        {
          "output_type": "display_data",
          "data": {
            "text/plain": [
              "<Figure size 640x480 with 1 Axes>"
            ],
            "image/png": "[encoded data removed]"
          },
          "metadata": {}
        }
      ]
    },
    {
      "cell_type": "code",
      "source": [
        "def build_ridge_model(X, y):\n",
        "    model = linear_model.Ridge(alpha=.5) # Todo: use sklearn model and config your parameters\n",
        "    # Todo: fit your model with X, y\n",
        "    model.fit(X,y)\n",
        "    return model\n",
        "\n",
        "ridge = build_ridge_model(trainX, trainY)\n",
        "# Compare on training dataset\n",
        "predTrain = ridge.predict(trainX)   \n",
        "print(\"mean absolute error of linear Ridge model on train set \", mean_absolute_error(y_pred=predTrain, y_true=trainY) )\n",
        "predTest = ridge.predict(testX)   \n",
        "print(\"mean absolute error of linear Ridge model on test set \", mean_absolute_error(y_pred=predTest, y_true=testY) )\n",
        "\n",
        "print(ridge.coef_) # print coefficient\n",
        "print()\n",
        "print(ridge.intercept_) # print intercept_\n",
        "MAE_ridge = [mean_absolute_error(y_pred=predTrain, y_true=trainY), mean_absolute_error(y_pred=predTest, y_true=testY)]"
      ],
      "metadata": {
        "id": "_xH5lqi35WAJ",
        "colab": {
          "base_uri": "https://localhost:8080/"
        },
        "outputId": "48569330-8922-4cd4-f2d2-6de3d2fb775a"
      },
      "execution_count": 101,
      "outputs": [
        {
          "output_type": "stream",
          "name": "stdout",
          "text": [
            "mean absolute error of linear Ridge model on train set  162.98807481297877\n",
            "mean absolute error of linear Ridge model on test set  136.93860975256973\n",
            "[  -234.44070408  -1276.67319467    826.80984521 -11140.48547751\n",
            "    769.54532686    -60.28655803  31814.84531301]\n",
            "\n",
            "56807.337620620354\n"
          ]
        }
      ]
    },
    {
      "cell_type": "code",
      "source": [
        "#improve the Ridge model by choosing the best alpha \n",
        "from sklearn import linear_model\n",
        "from sklearn.model_selection import GridSearchCV\n",
        "\n",
        "best_alpha ={'alpha': [0.1, 0.2, 0.3, 0.4, 0.5, 0.6, 0.7, 0.8, 0.9, 1, 2, 3, 4, 5, 6, 7, 15 ,20]}\n",
        "\n",
        "def build_ridge_model(X, y):\n",
        "    model = linear_model.Ridge(fit_intercept=True) # Todo: use sklearn model and config your parameters\n",
        "    \n",
        "    #Create the gridCV\n",
        "    modelCV = GridSearchCV(model, best_alpha)\n",
        "    modelCV.fit(X,y)\n",
        "    print('Best alpha: ', modelCV.best_params_['alpha'])\n",
        "\n",
        "    # Todo: fit your model with X, y\n",
        "    model = linear_model.Ridge(alpha=modelCV.best_params_['alpha'], fit_intercept=True)\n",
        "    model.fit(X,y)\n",
        "    return model\n",
        "\n",
        "ridge = build_ridge_model(trainX, trainY)\n",
        "# Compare on training dataset\n",
        "predTrain = ridge.predict(trainX)   \n",
        "print(\"mean absolute error of linear Lasso model on train set \", mean_absolute_error(y_pred=predTrain, y_true=trainY) )\n",
        "predTest = ridge.predict(testX)   \n",
        "print(\"mean absolute error of linear Lasso model on test set \", mean_absolute_error(y_pred=predTest, y_true=testY) )\n",
        "\n",
        "print(ridge.coef_) # print coefficient\n",
        "print()\n",
        "print(ridge.intercept_) # print intercept_\n",
        "MAE_ridge = [mean_absolute_error(y_pred=predTrain, y_true=trainY), mean_absolute_error(y_pred=predTest, y_true=testY)]"
      ],
      "metadata": {
        "colab": {
          "base_uri": "https://localhost:8080/"
        },
        "id": "WTAopFIo8Fdo",
        "outputId": "4a89e303-fe9d-487b-de61-1db4340176cb"
      },
      "execution_count": 102,
      "outputs": [
        {
          "output_type": "stream",
          "name": "stdout",
          "text": [
            "Best alpha:  0.1\n",
            "mean absolute error of linear Lasso model on train set  163.11028738188656\n",
            "mean absolute error of linear Lasso model on test set  137.0713486779626\n",
            "[  -234.47490211  -1276.96444657    846.61551868 -11142.60679446\n",
            "    749.63021567    -60.29134993  31815.2747019 ]\n",
            "\n",
            "56809.29513721769\n"
          ]
        }
      ]
    },
    {
      "cell_type": "code",
      "source": [
        "#plot the ratio to find the best ratio for the Ridge model\n",
        "from sklearn.linear_model import ElasticNet\n",
        "import matplotlib.pyplot as plt\n",
        "\n",
        "\n",
        "alpha = [0.1, 0.2, 0.3, 0.4, 0.5, 0.6, 0.7, 0.8, 0.9, 1, 2, 3, 4, 5, 6, 7, 15 ,20, 30, 40, 50]\n",
        "\n",
        "MAE = []\n",
        "\n",
        "for al in alpha:\n",
        "  ridge = linear_model.Ridge(alpha=al, fit_intercept=True)\n",
        "  ridge.fit(trainX, trainY)\n",
        "  predTrain = ridge.predict(trainX)\n",
        "  err = mean_absolute_error(y_pred=predTrain, y_true=trainY)\n",
        "  MAE.append(err)\n",
        "\n",
        "print(alpha)\n",
        "print(MAE)\n",
        "plt.plot(alpha, MAE)\n",
        "plt.xlabel('alpha')\n",
        "plt.ylabel('MAE')\n",
        "plt.show()"
      ],
      "metadata": {
        "colab": {
          "base_uri": "https://localhost:8080/",
          "height": 504
        },
        "id": "wO_LEo4BHagP",
        "outputId": "c973cbe3-fd4e-4d27-8c5b-98e44de75918"
      },
      "execution_count": 103,
      "outputs": [
        {
          "output_type": "stream",
          "name": "stdout",
          "text": [
            "[0.1, 0.2, 0.3, 0.4, 0.5, 0.6, 0.7, 0.8, 0.9, 1, 2, 3, 4, 5, 6, 7, 15, 20, 30, 40, 50]\n",
            "[163.11028738188656, 163.07959206638535, 163.04900729740007, 163.01850330703044, 162.98807481297877, 162.9578103079628, 162.9277318780895, 162.89776131178314, 162.86787311089552, 162.83806307647413, 162.54872434000345, 162.27643114187939, 162.0215036656829, 161.78414831426687, 161.56203019366907, 161.35550318993788, 160.3727578063955, 160.58755644560966, 163.0329323841788, 168.347643750739, 176.46303084511874]\n"
          ]
        },
        {
          "output_type": "display_data",
          "data": {
            "text/plain": [
              "<Figure size 640x480 with 1 Axes>"
            ],
            "image/png": "[encoded data removed]"
          },
          "metadata": {}
        }
      ]
    },
    {
      "cell_type": "code",
      "source": [
        "from sklearn.linear_model import LinearRegression\n",
        "from sklearn.linear_model import ElasticNet\n",
        "\n",
        "\n",
        "def build_elastic_model(X, y):\n",
        "    model =  ElasticNet(alpha = 1, l1_ratio = 1, fit_intercept=True) # Todo: use sklearn model and config your parameters\n",
        "    # Todo: fit your model with X, y\n",
        "    model.fit(X,y)\n",
        "    return model\n",
        "\n",
        "elastic = build_elastic_model(trainX, trainY)\n",
        "# Compare on training dataset\n",
        "predTrain = elastic.predict(trainX)   \n",
        "print(\"mean absolute error of linear Elastic Net model on train set \", mean_absolute_error(y_pred=predTrain, y_true=trainY))\n",
        "predTest = elastic.predict(testX)   \n",
        "print(\"mean absolute error of linear Elastic Net model on test set \", mean_absolute_error(y_pred=predTest, y_true=testY))\n",
        "\n",
        "print(elastic.coef_) # print coefficient\n",
        "print()\n",
        "print(elastic.intercept_) # print intercept_\n",
        "MAE_elastic = [mean_absolute_error(y_pred=predTrain, y_true=trainY), mean_absolute_error(y_pred=predTest, y_true=testY)]"
      ],
      "metadata": {
        "id": "hOZ7NPAG53rg",
        "colab": {
          "base_uri": "https://localhost:8080/"
        },
        "outputId": "392a1828-bc0d-4a11-f5c2-f5c13e90d34a"
      },
      "execution_count": 104,
      "outputs": [
        {
          "output_type": "stream",
          "name": "stdout",
          "text": [
            "mean absolute error of linear Elastic Net model on train set  163.35281366290775\n",
            "mean absolute error of linear Elastic Net model on test set  137.2766566312626\n",
            "[  -230.40248941  -1273.46773095   1346.00192013 -11124.47507009\n",
            "    249.29072043    -58.78671327  31814.69711507]\n",
            "\n",
            "56789.257882130885\n"
          ]
        }
      ]
    },
    {
      "cell_type": "code",
      "source": [
        "#improve the ElasticNet model by choosing the best alpha \n",
        "from sklearn import linear_model\n",
        "from sklearn.linear_model import ElasticNet\n",
        "from sklearn.model_selection import GridSearchCV\n",
        "\n",
        "best_ratio ={'l1_ratio': [0.1, 0.2, 0.3, 0.4, 0.5, 0.6, 0.7, 0.8, 0.9, 1]}\n",
        "\n",
        "def ElasticModel_CV(X, y):\n",
        "    model = ElasticNet(fit_intercept=True) # Todo: use sklearn model and config your parameters\n",
        "    \n",
        "    #Create the gridCV\n",
        "    modelCV = GridSearchCV(model, best_ratio)\n",
        "    modelCV.fit(X,y)\n",
        "    print('Best ratio: ', modelCV.best_params_['l1_ratio'])\n",
        "\n",
        "    # Todo: fit your model with X, y\n",
        "    model = ElasticNet(alpha = 1,l1_ratio= modelCV.best_params_['l1_ratio'], fit_intercept=True)\n",
        "    model.fit(X,y)\n",
        "    return model\n",
        "\n",
        "elastic = ElasticModel_CV(trainX, trainY)\n",
        "# Compare on training dataset\n",
        "predTrain = elastic.predict(trainX)   \n",
        "print(\"mean absolute error of linear Lasso model on train set \", mean_absolute_error(y_pred=predTrain, y_true=trainY) )\n",
        "predTest = elastic.predict(testX)   \n",
        "print(\"mean absolute error of linear Lasso model on test set \", mean_absolute_error(y_pred=predTest, y_true=testY) )\n",
        "\n",
        "print(elastic.coef_) # print coefficient\n",
        "print()\n",
        "print(elastic.intercept_) # print intercept_\n",
        "MAE_elastic = [mean_absolute_error(y_pred=predTrain, y_true=trainY), mean_absolute_error(y_pred=predTest, y_true=testY)]"
      ],
      "metadata": {
        "colab": {
          "base_uri": "https://localhost:8080/"
        },
        "id": "CVanGQAW821Q",
        "outputId": "1caba4c3-02b9-486a-ef72-741e6d6e50ea"
      },
      "execution_count": 105,
      "outputs": [
        {
          "output_type": "stream",
          "name": "stdout",
          "text": [
            "Best ratio:  1\n",
            "mean absolute error of linear Lasso model on train set  163.35281366290775\n",
            "mean absolute error of linear Lasso model on test set  137.2766566312626\n",
            "[  -230.40248941  -1273.46773095   1346.00192013 -11124.47507009\n",
            "    249.29072043    -58.78671327  31814.69711507]\n",
            "\n",
            "56789.257882130885\n"
          ]
        }
      ]
    },
    {
      "cell_type": "code",
      "source": [
        "#plot the ratio to find the best ratio for the elastic net model\n",
        "from sklearn.linear_model import ElasticNet\n",
        "import matplotlib.pyplot as plt\n",
        "\n",
        "\n",
        "ratio =[0.1, 0.2, 0.3, 0.4, 0.5, 0.6, 0.7, 0.8, 0.9, 1]\n",
        "\n",
        "MAE = []\n",
        "\n",
        "for rat in ratio:\n",
        "  elastic = ElasticNet(alpha = 1,l1_ratio= rat, fit_intercept=True)\n",
        "  elastic.fit(trainX, trainY)\n",
        "  predTrain = elastic.predict(trainX)\n",
        "  err = mean_absolute_error(y_pred=predTrain, y_true=trainY)\n",
        "  MAE.append(err)\n",
        "\n",
        "print(ratio)\n",
        "print(MAE)\n",
        "plt.plot(ratio, MAE)\n",
        "plt.xlabel('Ratio')\n",
        "plt.ylabel('MAE')\n",
        "plt.show()"
      ],
      "metadata": {
        "colab": {
          "base_uri": "https://localhost:8080/",
          "height": 504
        },
        "id": "37U8_0My-VcA",
        "outputId": "d2746c98-4d71-4554-af4b-0d9094030c5e"
      },
      "execution_count": 106,
      "outputs": [
        {
          "output_type": "stream",
          "name": "stdout",
          "text": [
            "[0.1, 0.2, 0.3, 0.4, 0.5, 0.6, 0.7, 0.8, 0.9, 1]\n",
            "[11621.250759961842, 10956.828407870147, 10214.398516092979, 9378.743190043839, 8429.374833649641, 7341.0583802368665, 6081.975412599602, 4598.760190461011, 2773.7595941111585, 163.35281366290775]\n"
          ]
        },
        {
          "output_type": "display_data",
          "data": {
            "text/plain": [
              "<Figure size 640x480 with 1 Axes>"
            ],
            "image/png": "[encoded data removed]"
          },
          "metadata": {}
        }
      ]
    },
    {
      "cell_type": "markdown",
      "source": [
        "## Compare the error of 3 algorithms to Linear Regression\n",
        "\n"
      ],
      "metadata": {
        "id": "y3SAEvFEAI-s"
      }
    },
    {
      "cell_type": "code",
      "source": [
        "#compare\n",
        "print('mean absolute error of the train set and test set of Linear Regression model: ', MAE_linear)\n",
        "print('mean absolute error of the train set and test set of Linear Lasso model: ',MAE_lasso)\n",
        "print('mean absolute error of the train set and test set of Linear Ridge model: ',MAE_ridge)\n",
        "print('mean absolute error of the train set and test set of Linear Elastic Net model: ',MAE_elastic)"
      ],
      "metadata": {
        "colab": {
          "base_uri": "https://localhost:8080/"
        },
        "id": "BBXhZh1_AIin",
        "outputId": "74c521e8-a084-488a-b732-6d5df0b65efd"
      },
      "execution_count": 107,
      "outputs": [
        {
          "output_type": "stream",
          "name": "stdout",
          "text": [
            "mean absolute error of the train set and test set of Linear Regression model:  [163.1411615311818, 137.10457506709068]\n",
            "mean absolute error of the train set and test set of Linear Lasso model:  [163.18936462296867, 137.13409295565282]\n",
            "mean absolute error of the train set and test set of Linear Ridge model:  [163.11028738188656, 137.0713486779626]\n",
            "mean absolute error of the train set and test set of Linear Elastic Net model:  [163.35281366290775, 137.2766566312626]\n"
          ]
        }
      ]
    },
    {
      "cell_type": "markdown",
      "source": [
        "* Theo như số liệu, ta có thể thấy các giá trị MAE của các model có sự chênh lệch không quá lớn, và gần như là tương đương."
      ],
      "metadata": {
        "id": "zjHy_GrACMV9"
      }
    },
    {
      "cell_type": "markdown",
      "source": [
        "## Polynomial Transform "
      ],
      "metadata": {
        "id": "4SDs25IOFoBw"
      }
    },
    {
      "cell_type": "markdown",
      "source": [
        "When the data feature does not conform to a linear function, a linear regression cannot be applied directly to the original data. Then, there are many possibilities that the data feature conforms to the polynomial function. Scikit-Learn supports converting data features to polynomials through ``PolynomialFeatures``.\n",
        "\n",
        "$$\n",
        "y = a_0 + a_1 x + a_2 x^2 + a_3 x^3 + \\cdots\n",
        "$$\n",
        "\n",
        "The formula above uses the transformation of the value $x$ from one dimension to the other, with the aim of being able to use linear regression to find complex relationships between $x$ and $y$."
      ],
      "metadata": {
        "id": "mkeldd8AF_Ju"
      }
    },
    {
      "cell_type": "code",
      "source": [
        "#Linear Regression with Polynomial Transform\n",
        "from sklearn.preprocessing import PolynomialFeatures\n",
        "from sklearn.pipeline import make_pipeline\n",
        "\n",
        "def build_pipeline(X, y):\n",
        "    poly_model = make_pipeline(PolynomialFeatures(2, include_bias=False), LinearRegression()) # use make_pipeline to apply PolynomialFeatures and a Regression model train your dataset\n",
        "    poly_model.fit(X, y)  \n",
        "\n",
        "    return poly_model\n",
        "\n",
        "poly_model = build_pipeline(trainX, trainY)\n",
        "# Compare on training dataset\n",
        "poly_pred = poly_model.predict(trainX)   \n",
        "print(\"mean absolute error of linear model (with poly transform) on train set \", mean_absolute_error(y_pred=poly_pred, y_true=trainY) )\n",
        "\n",
        "poly_pred = poly_model.predict(testX)\n",
        "print(\"mean absolute error of linear model (with poly transform) on test set \", mean_absolute_error(y_pred=poly_pred, y_true=testY))"
      ],
      "metadata": {
        "id": "PXhjw_utFxzS",
        "colab": {
          "base_uri": "https://localhost:8080/"
        },
        "outputId": "ce613b16-518b-4415-b4f6-465c2afc5138"
      },
      "execution_count": 108,
      "outputs": [
        {
          "output_type": "stream",
          "name": "stdout",
          "text": [
            "mean absolute error of linear model (with poly transform) on train set  159.7114757252646\n",
            "mean absolute error of linear model (with poly transform) on test set  133.85232423136563\n"
          ]
        }
      ]
    },
    {
      "cell_type": "code",
      "source": [
        "linear_model = poly_model[\"linearregression\"]"
      ],
      "metadata": {
        "id": "KaKWGgb25pao"
      },
      "execution_count": 109,
      "outputs": []
    },
    {
      "cell_type": "code",
      "source": [
        "pred = model.predict(trainX)\n",
        "poly_pred = poly_model.predict(trainX)   \n",
        "print(\"mean absolute error of linear model on train set \", mean_absolute_error(y_pred=pred, y_true=trainY))\n",
        "print(\"mean absolute error of linear model (with poly transform) on train set \", mean_absolute_error(y_pred=poly_pred, y_true=trainY))"
      ],
      "metadata": {
        "colab": {
          "base_uri": "https://localhost:8080/"
        },
        "id": "EJQpwDLK5p7v",
        "outputId": "3c26e172-ff2a-41df-bc1c-c31a6db8c871"
      },
      "execution_count": 110,
      "outputs": [
        {
          "output_type": "stream",
          "name": "stdout",
          "text": [
            "mean absolute error of linear model on train set  163.1411615311818\n",
            "mean absolute error of linear model (with poly transform) on train set  159.7114757252646\n"
          ]
        }
      ]
    },
    {
      "cell_type": "code",
      "source": [
        "from sklearn.manifold import TSNE\n",
        "\n",
        "# Split X, y from dataset\n",
        "columns = df.columns.tolist()     # Columns name\n",
        "draw_data = df[columns]        # X \n",
        "draw_data = TSNE(n_components=1, learning_rate='auto', init='random', perplexity=3).fit_transform(draw_data)"
      ],
      "metadata": {
        "id": "veuQjM-v5roA"
      },
      "execution_count": 111,
      "outputs": []
    },
    {
      "cell_type": "code",
      "source": [
        "from sklearn.model_selection import train_test_split\n",
        "draw_train_X, draw_test_X ,trainY, testY = train_test_split(draw_data, target, train_size=0.70, random_state=2023)\n",
        "print('Training:' + str(trainX.shape))\n",
        "print('Test:' + str(testX.shape))"
      ],
      "metadata": {
        "colab": {
          "base_uri": "https://localhost:8080/"
        },
        "id": "g0M3ORfC69K0",
        "outputId": "5973996b-a346-4b2d-ac6e-495207d369ba"
      },
      "execution_count": 112,
      "outputs": [
        {
          "output_type": "stream",
          "name": "stdout",
          "text": [
            "Training:(33075, 7)\n",
            "Test:(14176, 7)\n"
          ]
        }
      ]
    },
    {
      "cell_type": "code",
      "source": [
        "#model basic \n",
        "model = LinearRegression(fit_intercept=True)   \n",
        "model.fit(draw_train_X, trainY)\n",
        "pred = model.predict(draw_train_X)\n",
        "print(\"mean absolute error of linear model on train set \", mean_absolute_error(y_pred=pred, y_true=trainY) )\n",
        "\n",
        "#model polinomial \n",
        "poly_model = make_pipeline(PolynomialFeatures(2, include_bias=False), LinearRegression())\n",
        "poly_model.fit(draw_train_X, trainY)\n",
        "poly_pred = poly_model.predict(draw_train_X)\n",
        "print(\"mean absolute error of linear model (with poly transform) on train set \", mean_absolute_error(y_pred=poly_pred, y_true=trainY) )"
      ],
      "metadata": {
        "colab": {
          "base_uri": "https://localhost:8080/"
        },
        "id": "Uo9A8X2IJbec",
        "outputId": "f12942c8-06be-40c0-b486-d2a4a1a3a0b5"
      },
      "execution_count": 113,
      "outputs": [
        {
          "output_type": "stream",
          "name": "stdout",
          "text": [
            "mean absolute error of linear model on train set  24934.876875266942\n",
            "mean absolute error of linear model (with poly transform) on train set  22502.74209838898\n"
          ]
        }
      ]
    },
    {
      "cell_type": "code",
      "source": [
        "import matplotlib.pyplot as plt\n",
        "\n",
        "# pred = model.predict(trainX)\n",
        "# poly_pred = poly_model.predict(trainX)\n",
        "\n",
        "plt.scatter(draw_train_X, trainY, color=\"g\")\n",
        "plt.plot(draw_train_X, pred, color=\"blue\", linewidth=3)\n",
        "plt.plot(draw_train_X, poly_pred, color=\"yellow\", linewidth=3)\n",
        "plt.xticks(())\n",
        "plt.yticks(())\n",
        "\n",
        "plt.show()"
      ],
      "metadata": {
        "id": "yO9443yG76cB",
        "colab": {
          "base_uri": "https://localhost:8080/",
          "height": 406
        },
        "outputId": "4196d959-a15c-4076-92a9-97d4258b8103"
      },
      "execution_count": 114,
      "outputs": [
        {
          "output_type": "display_data",
          "data": {
            "text/plain": [
              "<Figure size 640x480 with 1 Axes>"
            ],
            "image/png": "[encoded data removed]"
          },
          "metadata": {}
        }
      ]
    },
    {
      "cell_type": "markdown",
      "source": [
        "### What will the result be if we choose the n order too high? If we choose the n order too high, we may make the model operate worse, since the MAE of the test set seems to increase more and more when the n order increases too high."
      ],
      "metadata": {
        "id": "7OD5BuEi_ijt"
      }
    }
  ]
}